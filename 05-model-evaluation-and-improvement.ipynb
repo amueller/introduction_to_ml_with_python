{
 "cells": [
  {
   "cell_type": "code",
   "execution_count": 1,
   "metadata": {
    "collapsed": true,
    "hide_input": false
   },
   "outputs": [],
   "source": [
    "from preamble import *\n",
    "%matplotlib inline"
   ]
  },
  {
   "cell_type": "markdown",
   "metadata": {},
   "source": [
    "## 5. Model Evaluation and Improvement"
   ]
  },
  {
   "cell_type": "code",
   "execution_count": 2,
   "metadata": {
    "collapsed": false
   },
   "outputs": [
    {
     "name": "stdout",
     "output_type": "stream",
     "text": [
      "X.shape: (100, 2)\n",
      "y.shape: (100,)\n",
      "Test set score: 0.88\n"
     ]
    }
   ],
   "source": [
    "from sklearn.datasets import make_blobs\n",
    "from sklearn.linear_model import LogisticRegression\n",
    "from sklearn.model_selection import train_test_split\n",
    "\n",
    "# create a synthetic dataset\n",
    "X, y = make_blobs(random_state=0)\n",
    "print(\"X.shape:\", X.shape)\n",
    "print(\"y.shape:\", y.shape)\n",
    "\n",
    "# split data and labels into a training and a test set\n",
    "X_train, X_test, y_train, y_test = train_test_split(X, y, random_state=0)\n",
    "\n",
    "# instantiate a model and fit it to the training set\n",
    "logreg = LogisticRegression().fit(X_train, y_train)\n",
    "\n",
    "# evaluate the model on the test set\n",
    "print(\"Test set score: {:.2f}\".format(logreg.score(X_test, y_test)))"
   ]
  },
  {
   "cell_type": "markdown",
   "metadata": {},
   "source": [
    "### 5.1 Cross-Validation\n",
    "- 교차 검증\n",
    "  - 데이터를 여러 번 반복해서 나누어 모델 학습\n",
    "- K-Fold cross-vailidation\n",
    "  - Fold: 원본 데이터에 대한 부분 집합\n",
    "  - K로는 5나 10을 주로 사용\n",
    "    - 첫번째 모델은 첫번째 fold를 테스트 데이터로 사용하고 나머지를 훈련 데이터로 사용\n",
    "    - 두번째 모델은 두번째 fold를 테스트 데이터로 사용하고 나머지를 훈련 데이터로 사용\n",
    "    - 세번째 모델은..."
   ]
  },
  {
   "cell_type": "code",
   "execution_count": 3,
   "metadata": {
    "collapsed": false,
    "hide_input": false
   },
   "outputs": [
    {
     "name": "stdout",
     "output_type": "stream",
     "text": [
      "2.2.0\n"
     ]
    },
    {
     "data": {
      "application/pdf": "[encoded data removed]",
      "image/png": "[encoded data removed]",
      "text/plain": [
       "<Figure size 864x144 with 1 Axes>"
      ]
     },
     "metadata": {},
     "output_type": "display_data"
    }
   ],
   "source": [
    "import matplotlib\n",
    "print(matplotlib.__version__)\n",
    "\n",
    "mglearn.plots.plot_cross_validation()"
   ]
  },
  {
   "cell_type": "markdown",
   "metadata": {},
   "source": [
    "#### 5.1.1 Cross-Validation in scikit-learn\n",
    "- scikit-learn의 교차 검증\n",
    "  - model_selection.cross_val_score(estimator, X, y=None, cv=None) 함수 사용\n",
    "    - estimator\n",
    "      - estimator object implementing ‘fit’\n",
    "      - The object to use to fit the data.\n",
    "    - X\n",
    "      - The data to fit.\n",
    "    - y\n",
    "      - The target variable to try to predict in the case of supervised learning.\n",
    "    - cv\n",
    "      - K-Fold의 K값 (기본 값: 3)"
   ]
  },
  {
   "cell_type": "code",
   "execution_count": 4,
   "metadata": {
    "collapsed": false
   },
   "outputs": [
    {
     "name": "stdout",
     "output_type": "stream",
     "text": [
      "iris.data.shape: (150, 4)\n",
      "iris.target.shape: (150,)\n",
      "Cross-validation scores: [0.961 0.922 0.958]\n"
     ]
    }
   ],
   "source": [
    "from sklearn.model_selection import cross_val_score\n",
    "from sklearn.datasets import load_iris\n",
    "from sklearn.linear_model import LogisticRegression\n",
    "\n",
    "iris = load_iris()\n",
    "print(\"iris.data.shape:\", iris.data.shape)\n",
    "print(\"iris.target.shape:\", iris.target.shape)\n",
    "\n",
    "logreg = LogisticRegression()\n",
    "\n",
    "scores = cross_val_score(logreg, iris.data, iris.target)\n",
    "print(\"Cross-validation scores: {}\".format(scores))"
   ]
  },
  {
   "cell_type": "code",
   "execution_count": 5,
   "metadata": {
    "collapsed": false
   },
   "outputs": [
    {
     "name": "stdout",
     "output_type": "stream",
     "text": [
      "Cross-validation scores: [1.    0.967 0.933 0.9   1.   ]\n"
     ]
    }
   ],
   "source": [
    "scores = cross_val_score(logreg, iris.data, iris.target, cv=5)\n",
    "print(\"Cross-validation scores: {}\".format(scores))"
   ]
  },
  {
   "cell_type": "markdown",
   "metadata": {},
   "source": [
    "- 교차 검증의 정확도: 각 교차 검증 정확도의 평균값 사용"
   ]
  },
  {
   "cell_type": "code",
   "execution_count": 6,
   "metadata": {
    "collapsed": false
   },
   "outputs": [
    {
     "name": "stdout",
     "output_type": "stream",
     "text": [
      "Average cross-validation score: 0.96\n"
     ]
    }
   ],
   "source": [
    "print(\"Average cross-validation score: {:.2f}\".format(scores.mean()))"
   ]
  },
  {
   "cell_type": "markdown",
   "metadata": {},
   "source": [
    "### 5.1.2 Benefits of Cross-Validation\n",
    "- 기존 train_test_split 방법만 사용하는 경우\n",
    "  - 확보한 원본 데이터 중 일부의 데이터는 훈련 데이터로 활용하지 않으면서 모델을 구성함.\n",
    "- cross_val_score 함수를 사용하는 경우\n",
    "  - 데이터를 고르게 사용하여 fit을 하고 score를 구하기 때문에 모델의 성능을 좀 더 정확히 측정할 수 있음\n",
    "  - 새로은 테스트 데이터의 예측 정확도에 대하여 최악과 최선의 경우를 짐작할 수 있음 \n",
    "  - [주의] **cross_val_score가 직접 모델을 구성하는 방법은 아님!**\n",
    "    - 즉, <u>이 함수를 호출하면 내부적으로 K번 모델을 구성하지만, 그러한 모델들은 평가의 목적으로만 활용됨.</u>"
   ]
  },
  {
   "cell_type": "markdown",
   "metadata": {},
   "source": [
    "### 5.1.3 Stratified K-Fold cross-validation and other strategies\n",
    "- 계층별 K-Fold 교차 검증\n",
    "  - 각 Fold안의 클래스 비율이 전체 원본 데이터셋에 있는 클래스 비율과 동일하도록 맞춤\n",
    "  - 즉, 원본 데이터셋에서 클래스 A가 90%, 클래스 B가 10% 비율이라면, 계층별 K-Fold 교차 검증에서 각 K개의 Fold안에는 클래스 A가 90%, 클래스 B가 10% 비율이 됨.\n",
    "- scikit-learn의 cross_val_score 기본 설정\n",
    "  - 분류모델: StratifiedKFold를 사용하여 기본적으로 계층별 K-Fold 교차 검증 수행\n",
    "  - 회귀모델: 단순한 KFold를 사용하여 계층별이 아닌 기본 K-Fold 교차 검증 수행\n",
    "    - 대신 회귀모델에서는 KFold를 사용할 때 shuffle 매개변수를 True로 지정하여 폴드를 나누기 전에 무작위로 데이터를 섞는 작업 추천"
   ]
  },
  {
   "cell_type": "code",
   "execution_count": 7,
   "metadata": {
    "collapsed": false
   },
   "outputs": [
    {
     "name": "stdout",
     "output_type": "stream",
     "text": [
      "Iris labels:\n",
      "[0 0 0 0 0 0 0 0 0 0 0 0 0 0 0 0 0 0 0 0 0 0 0 0 0 0 0 0 0 0 0 0 0 0 0 0 0\n",
      " 0 0 0 0 0 0 0 0 0 0 0 0 0 1 1 1 1 1 1 1 1 1 1 1 1 1 1 1 1 1 1 1 1 1 1 1 1\n",
      " 1 1 1 1 1 1 1 1 1 1 1 1 1 1 1 1 1 1 1 1 1 1 1 1 1 1 2 2 2 2 2 2 2 2 2 2 2\n",
      " 2 2 2 2 2 2 2 2 2 2 2 2 2 2 2 2 2 2 2 2 2 2 2 2 2 2 2 2 2 2 2 2 2 2 2 2 2\n",
      " 2 2]\n"
     ]
    }
   ],
   "source": [
    "from sklearn.datasets import load_iris\n",
    "iris = load_iris()\n",
    "print(\"Iris labels:\\n{}\".format(iris.target))"
   ]
  },
  {
   "cell_type": "code",
   "execution_count": 8,
   "metadata": {
    "collapsed": false,
    "hide_input": false
   },
   "outputs": [
    {
     "data": {
      "application/pdf": "[encoded data removed]",
      "image/png": "[encoded data removed]",
      "text/plain": [
       "<Figure size 864x360 with 2 Axes>"
      ]
     },
     "metadata": {},
     "output_type": "display_data"
    }
   ],
   "source": [
    "mglearn.plots.plot_stratified_cross_validation()"
   ]
  },
  {
   "cell_type": "markdown",
   "metadata": {},
   "source": [
    "### More control over cross-validation\n",
    "- 기본적으로...\n",
    "  - 분류: StratifiedKFold가 사용됨\n",
    "  - 회귀: KFold가 사용됨\n",
    "- 하지만, 때때로 분류에 KFold가 사용되어야 할 필요도 있음\n",
    "  - 다른 사람이 이미 수행한 사항을 재현해야 할 때\n",
    "  - StratifiedKFold가 아닌 KFold를 생성하여 cross_val_score()의 cv 인자에 할당"
   ]
  },
  {
   "cell_type": "code",
   "execution_count": 9,
   "metadata": {
    "collapsed": true
   },
   "outputs": [],
   "source": [
    "from sklearn.model_selection import KFold\n",
    "kfold = KFold(n_splits=5) #교차 검증 분할기의 역할 수행"
   ]
  },
  {
   "cell_type": "code",
   "execution_count": 10,
   "metadata": {
    "collapsed": false
   },
   "outputs": [
    {
     "name": "stdout",
     "output_type": "stream",
     "text": [
      "Cross-validation scores:\n",
      "[1.    0.933 0.433 0.967 0.433]\n"
     ]
    }
   ],
   "source": [
    "print(\"Cross-validation scores:\\n{}\".format(cross_val_score(logreg, iris.data, iris.target, cv=kfold)))"
   ]
  },
  {
   "cell_type": "markdown",
   "metadata": {},
   "source": [
    "- 이런 경우 3-Fold를 사용하면 데이터 타겟 레이블 분포 특성상 성능이 매우 나쁠 수 있음"
   ]
  },
  {
   "cell_type": "code",
   "execution_count": 11,
   "metadata": {
    "collapsed": false
   },
   "outputs": [
    {
     "name": "stdout",
     "output_type": "stream",
     "text": [
      "Cross-validation scores:\n",
      "[0. 0. 0.]\n"
     ]
    }
   ],
   "source": [
    "kfold = KFold(n_splits=3)\n",
    "print(\"Cross-validation scores:\\n{}\".format(cross_val_score(logreg, iris.data, iris.target, cv=kfold)))"
   ]
  },
  {
   "cell_type": "markdown",
   "metadata": {},
   "source": [
    "- 해결책\n",
    "  - KFold를 만들 때 shuffle=True를 통해 데이터를 임의로 섞음.\n",
    "  - random_state=0을 주면 추후 그대로 재현이 가능"
   ]
  },
  {
   "cell_type": "code",
   "execution_count": 12,
   "metadata": {
    "collapsed": false
   },
   "outputs": [
    {
     "name": "stdout",
     "output_type": "stream",
     "text": [
      "Cross-validation scores:\n",
      "[0.9  0.96 0.96]\n"
     ]
    }
   ],
   "source": [
    "kfold = KFold(n_splits=3, shuffle=True, random_state=0)\n",
    "print(\"Cross-validation scores:\\n{}\".format(cross_val_score(logreg, iris.data, iris.target, cv=kfold)))"
   ]
  },
  {
   "cell_type": "markdown",
   "metadata": {},
   "source": [
    "#### Leave-one-out cross-validation (LOOCV)\n",
    "- Fold 하나에 하나의 샘플이 들어 있는 Stratified k-Fold 교차 검증\n",
    "  - 즉, 각각의 반복에서 테스트 데이터에 하나의 샘플만 존재\n",
    "  - 데이터셋이 클 때 시간이 매우 오래 걸림\n",
    "  - 작은 데이터셋에 대해서는 일반적인 상황에 대한 거의 확실한 score 값을 얻을 수 있음."
   ]
  },
  {
   "cell_type": "code",
   "execution_count": 13,
   "metadata": {
    "collapsed": false
   },
   "outputs": [
    {
     "name": "stdout",
     "output_type": "stream",
     "text": [
      "Number of cv iterations:  150\n",
      "Mean accuracy: 0.95\n"
     ]
    }
   ],
   "source": [
    "from sklearn.model_selection import LeaveOneOut\n",
    "loo = LeaveOneOut()\n",
    "scores = cross_val_score(logreg, iris.data, iris.target, cv=loo)\n",
    "print(\"Number of cv iterations: \", len(scores))\n",
    "print(\"Mean accuracy: {:.2f}\".format(scores.mean()))"
   ]
  },
  {
   "cell_type": "markdown",
   "metadata": {},
   "source": [
    "#### Shuffle-split cross-validation\n",
    "- 임의 분할 교차 검증\n",
    "  - model_selection.SuffleSplit(n_splits=10, test_size='default') or model_selection.StratifiedSuffleSplit(n_splits=10, test_size='default')\n",
    "    - n_splits: 10\n",
    "      - 분할의 개수\n",
    "    - test_size 만큼의 테스트 셋트를 만들도록 분할\n",
    "      - test_size의 기본값: 0.1\n",
    "  - 보통 test_size 값만 설정하며, 추가적으로 train_size 도 설정 가능\n",
    "    - 이런 경우 전체 데이터 집합 중 일부만 훈련과 테스트에 사용할 수 있음\n",
    "    - 대규모 데이터에 유용\n",
    "  - test_size, train_size\n",
    "    - 정수: 데이터 포인트의 개수\n",
    "    - 실수: 데이터 포인트 비율<br/><br/>\n",
    "\n",
    "- 아래 그림 예제\n",
    "  - 전체 데이터 셈플 개수: 10\n",
    "  - train_size = 5\n",
    "  - test_size = 2\n",
    "  - n_splits = 4"
   ]
  },
  {
   "cell_type": "code",
   "execution_count": 14,
   "metadata": {
    "collapsed": false,
    "hide_input": false
   },
   "outputs": [
    {
     "data": {
      "application/pdf": "[encoded data removed]",
      "image/png": "[encoded data removed]",
      "text/plain": [
       "<Figure size 720x144 with 1 Axes>"
      ]
     },
     "metadata": {},
     "output_type": "display_data"
    }
   ],
   "source": [
    "mglearn.plots.plot_shuffle_split()"
   ]
  },
  {
   "cell_type": "code",
   "execution_count": 15,
   "metadata": {
    "collapsed": false
   },
   "outputs": [
    {
     "name": "stdout",
     "output_type": "stream",
     "text": [
      "Cross-validation scores:\n",
      "[0.96  0.947 0.8   0.947 0.893 0.987 0.96  0.987 0.88  0.92 ]\n",
      "Mean accuracy: 0.93\n"
     ]
    }
   ],
   "source": [
    "from sklearn.model_selection import ShuffleSplit\n",
    "\n",
    "shuffle_split = ShuffleSplit(n_splits=10, test_size=.5, train_size=.5)\n",
    "scores = cross_val_score(logreg, iris.data, iris.target, cv=shuffle_split)\n",
    "\n",
    "print(\"Cross-validation scores:\\n{}\".format(scores))\n",
    "print(\"Mean accuracy: {:.2f}\".format(scores.mean()))"
   ]
  },
  {
   "cell_type": "code",
   "execution_count": 16,
   "metadata": {
    "collapsed": false
   },
   "outputs": [
    {
     "name": "stdout",
     "output_type": "stream",
     "text": [
      "Cross-validation scores:\n",
      "[0.947 0.893 0.96  0.907 0.933 0.987 0.96  0.933 0.933 0.973]\n",
      "Mean accuracy: 0.94\n"
     ]
    }
   ],
   "source": [
    "from sklearn.model_selection import StratifiedShuffleSplit\n",
    "\n",
    "shuffle_split = StratifiedShuffleSplit(n_splits=10, test_size=.5, train_size=.5)\n",
    "scores = cross_val_score(logreg, iris.data, iris.target, cv=shuffle_split)\n",
    "\n",
    "print(\"Cross-validation scores:\\n{}\".format(scores))\n",
    "print(\"Mean accuracy: {:.2f}\".format(scores.mean()))"
   ]
  },
  {
   "cell_type": "markdown",
   "metadata": {},
   "source": [
    "##### Cross-validation with groups\n",
    "- 임의의 그룹에 속한 데이터 전체를 훈련 집합 또는 테스트 집합에 넣을 때 사용\n",
    "- 테스트 데이터가 때때로 완전히 새로운 데이터가 되어야 할 필요 있음\n",
    "- model_selection.GroupKFold\n",
    "  - 그룹핑을 통하여 훈련 데이터 셋트와 테스트 데이터 셋트를 완벽히 분리하기 위해 사용\n",
    "  - group 배열\n",
    "    - 각 데이터 포인트 별로 그룹 index 지정 필요\n",
    "    - 배열 내에 index 지정을 통해 훈련 데이터와 테스트 데이터를 랜덤하게 구성할 때 분리되지 말아야 할 그룹을 지정\n",
    "    - 타깃 레이블과 혼동하면 안됨\n",
    "- 더 나은 방법\n",
    "  - 이 방법대신 model_selection.train_test_split을 통해 처음 부터 테스트 데이터를 미리 분리하는 것이 더 좋음."
   ]
  },
  {
   "cell_type": "code",
   "execution_count": 17,
   "metadata": {
    "collapsed": false,
    "hide_input": false
   },
   "outputs": [
    {
     "data": {
      "application/pdf": "[encoded data removed]",
      "image/png": "[encoded data removed]",
      "text/plain": [
       "<Figure size 720x144 with 1 Axes>"
      ]
     },
     "metadata": {},
     "output_type": "display_data"
    }
   ],
   "source": [
    "mglearn.plots.plot_group_kfold()"
   ]
  },
  {
   "cell_type": "code",
   "execution_count": 18,
   "metadata": {
    "collapsed": false
   },
   "outputs": [
    {
     "name": "stdout",
     "output_type": "stream",
     "text": [
      "Cross-validation scores:\n",
      "[0.75  0.8   0.667]\n",
      "Mean accuracy: 0.74\n"
     ]
    }
   ],
   "source": [
    "from sklearn.model_selection import GroupKFold\n",
    "\n",
    "# create synthetic dataset\n",
    "X, y = make_blobs(n_samples=12, random_state=0)\n",
    "\n",
    "# assume the first three samples belong to the same group,\n",
    "# then the next four, etc\n",
    "groups = [0, 0, 0, 1, 1, 1, 1, 2, 2, 3, 3, 3]\n",
    "scores = cross_val_score(logreg, X, y, groups, cv=GroupKFold(n_splits=3))\n",
    "print(\"Cross-validation scores:\\n{}\".format(scores))\n",
    "print(\"Mean accuracy: {:.2f}\".format(scores.mean()))"
   ]
  },
  {
   "cell_type": "markdown",
   "metadata": {},
   "source": [
    "### 5.2 Grid Search\n",
    "- 모델 매개변수 튜닝을 통한 일반화 성능 개선 \n",
    "- 가장 널리 사용되는 방법은 Grid Search (그리드 탐색)\n",
    "  - 관심있는 매개변수들을 대상으로 모든 조합을 시도함."
   ]
  },
  {
   "cell_type": "markdown",
   "metadata": {},
   "source": [
    "#### 5.2.1 Simple Grid-Search\n",
    "- SVC 모델에서 가장 중요한 매개변수는 gamma, C\n",
    "- 그리드 탐색 범위 설정 예\n",
    "  - gamma: [0.001, 0.01, 0.1, 1, 10, 100]\n",
    "  - C: [0.001, 0.01, 0.1, 1, 10, 100]\n",
    "  - 총 6x6=36개의 조합에 대하여 반복적으로 새로운 모델 생성 및 평가\n",
    "  - 가장 좋은 성능을 보여주는 gamma와 C의 조합을 찾음"
   ]
  },
  {
   "cell_type": "markdown",
   "metadata": {},
   "source": [
    "<table>\n",
    "    <tr>\n",
    "        <td>&nbsp;</td>\n",
    "        <td>C=0.001</td>\n",
    "        <td>C=0.01</td>\n",
    "        <td>C=0.1</td>\n",
    "        <td>C=1</td>\n",
    "        <td>C=10</td>\n",
    "        <td>C=100</td>\n",
    "    </tr>\n",
    "    <tr>\n",
    "        <td>gamma=0.001</td>\n",
    "        <td>SVC(C=0.001, gamma=0.001)</td>\n",
    "        <td>SVC(C=0.01, gamma=0.001)</td>\n",
    "        <td>SVC(C=0.1, gamma=0.001)</td>\n",
    "        <td>SVC(C=1, gamma=0.001)</td>\n",
    "        <td>SVC(C=10, gamma=0.001)</td>\n",
    "        <td>SVC(C=100, gamma=0.001)</td>\n",
    "    </tr>\n",
    "    <tr>\n",
    "        <td>gamma=0.01</td>\n",
    "        <td>SVC(C=0.001, gamma=0.01)</td>\n",
    "        <td>SVC(C=0.01, gamma=0.01)</td>\n",
    "        <td>SVC(C=0.1, gamma=0.01)</td>\n",
    "        <td>SVC(C=1, gamma=0.01)</td>\n",
    "        <td>SVC(C=10, gamma=0.01)</td>\n",
    "        <td>SVC(C=100, gamma=0.01)</td>\n",
    "    </tr>\n",
    "    <tr>\n",
    "        <td>gamma=0.1</td>\n",
    "        <td>SVC(C=0.001, gamma=0.1)</td>\n",
    "        <td>SVC(C=0.01, gamma=0.1)</td>\n",
    "        <td>SVC(C=0.1, gamma=0.1)</td>\n",
    "        <td>SVC(C=1, gamma=0.1)</td>\n",
    "        <td>SVC(C=10, gamma=0.1)</td>\n",
    "        <td>SVC(C=100, gamma=0.1)</td>\n",
    "    </tr>\n",
    "    <tr>\n",
    "        <td>gamma=1</td>\n",
    "        <td>SVC(C=0.001, gamma=1)</td>\n",
    "        <td>SVC(C=0.01, gamma=1)</td>\n",
    "        <td>SVC(C=0.1, gamma=1)</td>\n",
    "        <td>SVC(C=1, gamma=1)</td>\n",
    "        <td>SVC(C=10, gamma=1)</td>\n",
    "        <td>SVC(C=100, gamma=1)</td>\n",
    "    </tr>\n",
    "    <tr>\n",
    "        <td>gamma=10</td>\n",
    "        <td>SVC(C=0.001, gamma=10)</td>\n",
    "        <td>SVC(C=0.01, gamma=10)</td>\n",
    "        <td>SVC(C=0.1, gamma=10)</td>\n",
    "        <td>SVC(C=1, gamma=10)</td>\n",
    "        <td>SVC(C=10, gamma=10)</td>\n",
    "        <td>SVC(C=100, gamma=10)</td>\n",
    "    </tr>\n",
    "    <tr>\n",
    "        <td>gamma=100</td>\n",
    "        <td>SVC(C=0.001, gamma=100)</td>\n",
    "        <td>SVC(C=0.01, gamma=100)</td>\n",
    "        <td>SVC(C=0.1, gamma=100)</td>\n",
    "        <td>SVC(C=1, gamma=100)</td>\n",
    "        <td>SVC(C=10, gamma=100)</td>\n",
    "        <td>SVC(C=100, gamma=100)</td>\n",
    "    </tr>    \n",
    "</table>"
   ]
  },
  {
   "cell_type": "code",
   "execution_count": 19,
   "metadata": {
    "collapsed": false
   },
   "outputs": [
    {
     "name": "stdout",
     "output_type": "stream",
     "text": [
      "Size of training set: 112   size of test set: 38\n",
      "Best score: 0.97\n",
      "Best parameters: {'C': 100, 'gamma': 0.001}\n"
     ]
    }
   ],
   "source": [
    "# naive grid search implementation\n",
    "from sklearn.svm import SVC\n",
    "\n",
    "X_train, X_test, y_train, y_test = train_test_split(iris.data, iris.target, random_state=0)\n",
    "print(\"Size of training set: {}   size of test set: {}\".format(X_train.shape[0], X_test.shape[0]))\n",
    "\n",
    "best_score = 0\n",
    "\n",
    "for gamma in [0.001, 0.01, 0.1, 1, 10, 100]:\n",
    "    for C in [0.001, 0.01, 0.1, 1, 10, 100]:\n",
    "        # for each combination of parameters, train an SVC\n",
    "        svm = SVC(gamma=gamma, C=C)\n",
    "        svm.fit(X_train, y_train)\n",
    "        # evaluate the SVC on the test set\n",
    "        score = svm.score(X_test, y_test)\n",
    "        # if we got a better score, store the score and parameters\n",
    "        if score > best_score:\n",
    "            best_score = score\n",
    "            best_parameters = {'C': C, 'gamma': gamma}\n",
    "\n",
    "print(\"Best score: {:.2f}\".format(best_score))\n",
    "print(\"Best parameters: {}\".format(best_parameters))"
   ]
  },
  {
   "cell_type": "markdown",
   "metadata": {},
   "source": [
    "- 위 0.97의 정확도는 전혀 새로운 데이터에 대한 성능으로 이어지지 않을 수 있다.\n",
    "- 즉, 위 예제에서 사용한 테스트 데이터는 모델 구성시에 사용을 해버렸기 때문에 이 모델이 얼마나 좋은지 평가하는 데 더 이상 사용할 수 없다."
   ]
  },
  {
   "cell_type": "markdown",
   "metadata": {},
   "source": [
    "#### 5.2.2 The danger of overfitting the parameters and the validation set\n",
    "- 검증 데이터 세트 (Valudation Set) 필요\n",
    "  - 모델 파라미터 튜닝 용도\n",
    "- 모델을 구성할 때 훈련 데이터 세트와 검증 데이터 세트를 활용"
   ]
  },
  {
   "cell_type": "code",
   "execution_count": 20,
   "metadata": {
    "collapsed": false,
    "hide_input": false
   },
   "outputs": [
    {
     "data": {
      "application/pdf": "[encoded data removed]",
      "image/png": "[encoded data removed]",
      "text/plain": [
       "<Figure size 1080x72 with 1 Axes>"
      ]
     },
     "metadata": {},
     "output_type": "display_data"
    }
   ],
   "source": [
    "mglearn.plots.plot_threefold_split()"
   ]
  },
  {
   "cell_type": "code",
   "execution_count": 21,
   "metadata": {
    "collapsed": false
   },
   "outputs": [
    {
     "name": "stdout",
     "output_type": "stream",
     "text": [
      "Size of training set: 84, size of validation set: 28,size of test set: 38\n",
      "\n",
      "Best score on validation set: 0.96\n",
      "Best parameters:  {'C': 10, 'gamma': 0.001}\n",
      "Test set score with best parameters: 0.92\n"
     ]
    }
   ],
   "source": [
    "from sklearn.svm import SVC\n",
    "# split data into train+validation set and test set\n",
    "X_trainval, X_test, y_trainval, y_test = train_test_split(iris.data, iris.target, random_state=0)\n",
    "\n",
    "# split train+validation set into training and validation sets\n",
    "X_train, X_valid, y_train, y_valid = train_test_split(X_trainval, y_trainval, random_state=1)\n",
    "\n",
    "print(\"Size of training set: {}, size of validation set: {},size of test set: {}\\n\".format(\n",
    "    X_train.shape[0], \n",
    "    X_valid.shape[0], \n",
    "    X_test.shape[0]))\n",
    "\n",
    "best_score = 0\n",
    "\n",
    "for gamma in [0.001, 0.01, 0.1, 1, 10, 100]:\n",
    "    for C in [0.001, 0.01, 0.1, 1, 10, 100]:\n",
    "        # for each combination of parameters train an SVC\n",
    "        svm = SVC(gamma=gamma, C=C)\n",
    "        svm.fit(X_train, y_train)\n",
    "        # evaluate the SVC on the validation set\n",
    "        score = svm.score(X_valid, y_valid)\n",
    "        # if we got a better score, store the score and parameters\n",
    "        if score > best_score:\n",
    "            best_score = score\n",
    "            best_parameters = {'C': C, 'gamma': gamma}\n",
    "\n",
    "# rebuild a model on the combined training and validation set,\n",
    "# and evaluate it on the test set\n",
    "svm = SVC(**best_parameters)\n",
    "\n",
    "#[NOTE] 훈련 데이터와 검증 데이터를 합쳐서 다시 모델을 구성함\n",
    "svm.fit(X_trainval, y_trainval)\n",
    "\n",
    "test_score = svm.score(X_test, y_test)\n",
    "print(\"Best score on validation set: {:.2f}\".format(best_score))\n",
    "print(\"Best parameters: \", best_parameters)\n",
    "print(\"Test set score with best parameters: {:.2f}\".format(test_score))"
   ]
  },
  {
   "cell_type": "markdown",
   "metadata": {},
   "source": [
    "- 위 예제를 통하여 전혀 새로운 테스트 데이터에 대하여, 생성 모델은 92%의 정확도로 분류한다고 볼 수 있음"
   ]
  },
  {
   "cell_type": "markdown",
   "metadata": {},
   "source": [
    "#### 5.2.3 Grid-search with cross-validation\n",
    "- 그리드 탐색에서도 교차 검증 필요\n",
    "  - 위 두 예제에서 최고의 성능을 보여주는 파라미터가 변경된 점을 주의\n",
    "  - cross_val_score 사용"
   ]
  },
  {
   "cell_type": "code",
   "execution_count": 22,
   "metadata": {
    "collapsed": false
   },
   "outputs": [
    {
     "name": "stdout",
     "output_type": "stream",
     "text": [
      "Size of training set: 84, size of validation set: 28,size of test set: 38\n",
      "\n",
      "Best score on validation set: 0.97\n",
      "Best parameters:  {'C': 100, 'gamma': 0.01}\n",
      "Test set score with best parameters: 0.97\n"
     ]
    }
   ],
   "source": [
    "X_trainval, X_test, y_trainval, y_test = train_test_split(iris.data, iris.target, random_state=0)\n",
    "X_train, X_valid, y_train, y_valid = train_test_split(X_trainval, y_trainval, random_state=1)\n",
    "\n",
    "print(\"Size of training set: {}, size of validation set: {},size of test set: {}\\n\".format(\n",
    "    X_train.shape[0], \n",
    "    X_valid.shape[0], \n",
    "    X_test.shape[0]))\n",
    "\n",
    "# reference: manual_grid_search_cv\n",
    "for gamma in [0.001, 0.01, 0.1, 1, 10, 100]:\n",
    "    for C in [0.001, 0.01, 0.1, 1, 10, 100]:\n",
    "        # for each combination of parameters,\n",
    "        # train an SVC\n",
    "        svm = SVC(gamma=gamma, C=C)\n",
    "        # perform cross-validation\n",
    "        scores = cross_val_score(svm, X_trainval, y_trainval, cv=5)\n",
    "        # compute mean cross-validation accuracy\n",
    "        score = np.mean(scores)\n",
    "        # if we got a better score, store the score and parameters\n",
    "        if score > best_score:\n",
    "            best_score = score\n",
    "            best_parameters = {'C': C, 'gamma': gamma}\n",
    "# rebuild a model on the combined training and validation set\n",
    "svm = SVC(**best_parameters)\n",
    "\n",
    "#[NOTE] 훈련 데이터와 검증 데이터를 합쳐서 다시 모델을 구성함\n",
    "svm.fit(X_trainval, y_trainval)\n",
    "\n",
    "test_score = svm.score(X_test, y_test)\n",
    "print(\"Best score on validation set: {:.2f}\".format(best_score))\n",
    "print(\"Best parameters: \", best_parameters)\n",
    "print(\"Test set score with best parameters: {:.2f}\".format(test_score))"
   ]
  },
  {
   "cell_type": "markdown",
   "metadata": {},
   "source": [
    "- 위 예에서는 반복적인 모델 생성 작업이 6 \\* 6 \\* 5 = 180번 이루어짐\n",
    "  - 즉, 시간이 많이 소요됨에 주의"
   ]
  },
  {
   "cell_type": "markdown",
   "metadata": {},
   "source": [
    "- 아래 그림은 교차 검증에 5-fold 사용\n",
    "- 매개변수 그리드는 일부만 표시\n",
    "- 교차 검증 5번의 평균이 가장 높은 매개변수를 빨간 동그라미로 표시"
   ]
  },
  {
   "cell_type": "code",
   "execution_count": 23,
   "metadata": {
    "collapsed": false,
    "hide_input": false
   },
   "outputs": [
    {
     "data": {
      "application/pdf": "[encoded data removed]",
      "image/png": "[encoded data removed]",
      "text/plain": [
       "<Figure size 720x216 with 1 Axes>"
      ]
     },
     "metadata": {},
     "output_type": "display_data"
    }
   ],
   "source": [
    "mglearn.plots.plot_cross_val_selection()"
   ]
  },
  {
   "cell_type": "markdown",
   "metadata": {},
   "source": [
    "- 그리드 서치와 교차 검증을 사용한 매개 변수 선택과 모델 평가의 전체 작업 흐름"
   ]
  },
  {
   "cell_type": "markdown",
   "metadata": {},
   "source": [
    "![process](./images/process.jpg)"
   ]
  },
  {
   "cell_type": "markdown",
   "metadata": {},
   "source": [
    "- **model_selection.GridSearchCV**\n",
    "  - <u>**교차 검증을 사용하는 그리드 탐색을 통한 모델 파라미터 검색 기능 제공 객체**</u>\n",
    "  - 기본적으로 사용하는 교차 검증 분류기\n",
    "    - 분류에는 StratifiedKFold 사용함\n",
    "    - 회귀에는 KFold 사용함\n",
    "  - fit을 수행한 이후에는 가장 최적의 파라미터로 만들어진 모델을 구성하고 있음.\n",
    "- 다른 estimator (or 모델)를 사용하여 만들어지는 estimator를 메타 추정기(meta-estimator)라고 함.\n",
    "  - GridSearchCV는 가장 널리 사용되는 메타 추정기\n",
    "  - scikit-learn에서는 MetaEstimatorMixin 클래스를 상속한 모델을 메타 추정기라고 부름\n",
    "  - 메타 추정기 예\n",
    "    - GridSearchCV\n",
    "    - RandomForest\n",
    "    - GradientBoosting\n",
    "    - RFE\n",
    "    - ..."
   ]
  },
  {
   "cell_type": "markdown",
   "metadata": {},
   "source": [
    "- 우선 모델에 들어갈 각 매개변수 값을 사전(Dict)타입으로 구성\n",
    "  - 문자열 매개변수 이름을 모델(예:SVC)에 설정된 매개변수와 동일하게 맞춤  "
   ]
  },
  {
   "cell_type": "code",
   "execution_count": 24,
   "metadata": {
    "collapsed": false
   },
   "outputs": [
    {
     "name": "stdout",
     "output_type": "stream",
     "text": [
      "Parameter grid:\n",
      "{'C': [0.001, 0.01, 0.1, 1, 10, 100], 'gamma': [0.001, 0.01, 0.1, 1, 10, 100]}\n"
     ]
    }
   ],
   "source": [
    "param_grid = {    \n",
    "    'C': [0.001, 0.01, 0.1, 1, 10, 100],\n",
    "    'gamma': [0.001, 0.01, 0.1, 1, 10, 100]\n",
    "}\n",
    "print(\"Parameter grid:\\n{}\".format(param_grid))"
   ]
  },
  {
   "cell_type": "markdown",
   "metadata": {},
   "source": [
    "- GridSearchCV 생성\n",
    "  - model_selection.GridSearchCV(estimator, param_grid, n_jobs=1, cv=None, verbose=0, return_train_score='True')\n",
    "    - estimator\n",
    "    - param_grid\n",
    "    - n_jobs\n",
    "      - Number of jobs to run in parallel\n",
    "      - default: 1\n",
    "      - -1 --> Using All threads\n",
    "    - cv\n",
    "      - None, to use the default 3-fold cross validation\n",
    "      - integer, to specify the number of folds in a (Stratified)KFold.\n",
    "        - fold의 개수를 cv=5와 같이 설정\n",
    "      - An object to be used as a cross-validation generator.\n",
    "      - An iterable yielding train, test splits."
   ]
  },
  {
   "cell_type": "code",
   "execution_count": 25,
   "metadata": {
    "collapsed": true
   },
   "outputs": [],
   "source": [
    "from sklearn.model_selection import GridSearchCV\n",
    "from sklearn.svm import SVC\n",
    "\n",
    "estimator = SVC()\n",
    "grid_search = GridSearchCV(\n",
    "    estimator = estimator, \n",
    "    param_grid = param_grid, \n",
    "    n_jobs = -1, \n",
    "    cv = 5, \n",
    "    return_train_score = True\n",
    ")"
   ]
  },
  {
   "cell_type": "markdown",
   "metadata": {},
   "source": [
    "- 훈련 데이터와 테스트 데이터 분리"
   ]
  },
  {
   "cell_type": "code",
   "execution_count": 26,
   "metadata": {
    "collapsed": true
   },
   "outputs": [],
   "source": [
    "X_train, X_test, y_train, y_test = train_test_split(iris.data, iris.target, random_state=0)"
   ]
  },
  {
   "cell_type": "markdown",
   "metadata": {},
   "source": [
    "- 훈련 데이터만 GridSearchCV 객체에 넣어 fit을 함\n",
    "  - 이 때 훈련 데이터중 일부는 내부적으로 검증 데이터 (Validation Data)로 사용됨\n",
    "- GridSearchCV는 생성시 모델을 내장하므로 fit, predict, score 등의 함수를 제공\n",
    "  - 모델에 따라서 predict_proba, decision_function을 제공하기도 함"
   ]
  },
  {
   "cell_type": "code",
   "execution_count": 27,
   "metadata": {
    "collapsed": false
   },
   "outputs": [
    {
     "data": {
      "text/plain": [
       "GridSearchCV(cv=5, error_score='raise',\n",
       "       estimator=SVC(C=1.0, cache_size=200, class_weight=None, coef0=0.0,\n",
       "  decision_function_shape=None, degree=3, gamma='auto', kernel='rbf',\n",
       "  max_iter=-1, probability=False, random_state=None, shrinking=True,\n",
       "  tol=0.001, verbose=False),\n",
       "       fit_params={}, iid=True, n_jobs=-1,\n",
       "       param_grid={'C': [0.001, 0.01, 0.1, 1, 10, 100], 'gamma': [0.001, 0.01, 0.1, 1, 10, 100]},\n",
       "       pre_dispatch='2*n_jobs', refit=True, return_train_score=True,\n",
       "       scoring=None, verbose=0)"
      ]
     },
     "execution_count": 27,
     "metadata": {},
     "output_type": "execute_result"
    }
   ],
   "source": [
    "grid_search.fit(X_train, y_train)"
   ]
  },
  {
   "cell_type": "markdown",
   "metadata": {},
   "source": [
    "- 모델 구성시 사용하지 않은 완전히 새로운 데이터인 X_test와 y_test를 사용하여 모델 평가"
   ]
  },
  {
   "cell_type": "code",
   "execution_count": 28,
   "metadata": {
    "collapsed": false
   },
   "outputs": [
    {
     "name": "stdout",
     "output_type": "stream",
     "text": [
      "Test set score: 0.97\n"
     ]
    }
   ],
   "source": [
    "print(\"Test set score: {:.2f}\".format(grid_search.score(X_test, y_test)))"
   ]
  },
  {
   "cell_type": "code",
   "execution_count": 29,
   "metadata": {
    "collapsed": false
   },
   "outputs": [
    {
     "name": "stdout",
     "output_type": "stream",
     "text": [
      "Best parameters: {'C': 100, 'gamma': 0.01}\n",
      "Best cross-validation score: 0.97\n"
     ]
    }
   ],
   "source": [
    "print(\"Best parameters: {}\".format(grid_search.best_params_))\n",
    "print(\"Best cross-validation score: {:.2f}\".format(grid_search.best_score_))"
   ]
  },
  {
   "cell_type": "markdown",
   "metadata": {},
   "source": [
    "- 위 두 예에서 grid_search.score() 메소드와 grid_search.best\\_score\\_ 속성은 매우 큰 차이\n",
    "  - grid_search.score() 메소드\n",
    "    - 새로운 데이터인 테스트 데이터 셋을 통한 모델 평가 점수\n",
    "  - grid_search.best\\_score\\_ 속성\n",
    "    - 훈련 데이터에 대하여 수행한 교차 검증에서의 최고 점수"
   ]
  },
  {
   "cell_type": "code",
   "execution_count": 30,
   "metadata": {
    "collapsed": false
   },
   "outputs": [
    {
     "name": "stdout",
     "output_type": "stream",
     "text": [
      "Best estimator:\n",
      "SVC(C=100, cache_size=200, class_weight=None, coef0=0.0,\n",
      "  decision_function_shape=None, degree=3, gamma=0.01, kernel='rbf',\n",
      "  max_iter=-1, probability=False, random_state=None, shrinking=True,\n",
      "  tol=0.001, verbose=False)\n"
     ]
    }
   ],
   "source": [
    "print(\"Best estimator:\\n{}\".format(grid_search.best_estimator_))"
   ]
  },
  {
   "cell_type": "markdown",
   "metadata": {},
   "source": [
    "#### [NOTE] 전형적인 교차 검증 그리드 서치를 통한 모델 구성 및 테스트 집합 성능 평가 코드"
   ]
  },
  {
   "cell_type": "code",
   "execution_count": 31,
   "metadata": {
    "collapsed": false
   },
   "outputs": [
    {
     "name": "stdout",
     "output_type": "stream",
     "text": [
      "Test set score: 0.97\n"
     ]
    }
   ],
   "source": [
    "from sklearn.model_selection import GridSearchCV\n",
    "from sklearn.svm import SVC\n",
    "\n",
    "X_train, X_test, y_train, y_test = train_test_split(iris.data, iris.target, random_state=0)\n",
    "\n",
    "estimator = SVC()\n",
    "\n",
    "param_grid = {    \n",
    "    'C': [0.001, 0.01, 0.1, 1, 10, 100],\n",
    "    'gamma': [0.001, 0.01, 0.1, 1, 10, 100]\n",
    "}\n",
    "\n",
    "grid_search = GridSearchCV(\n",
    "    estimator = estimator, \n",
    "    param_grid = param_grid, \n",
    "    n_jobs = -1, \n",
    "    cv = 5, \n",
    "    return_train_score = True\n",
    ")\n",
    "\n",
    "grid_search.fit(X_train, y_train)\n",
    "\n",
    "print(\"Test set score: {:.2f}\".format(grid_search.score(X_test, y_test)))"
   ]
  },
  {
   "cell_type": "markdown",
   "metadata": {},
   "source": [
    "#### Analyzing the result of cross-validation\n",
    "- grid_search.cv\\_results\\_\n",
    "  - 그리드 탐색에 대한 교차 검증 결과 정보가 상세히 들어 있는 속성"
   ]
  },
  {
   "cell_type": "code",
   "execution_count": 32,
   "metadata": {
    "collapsed": false
   },
   "outputs": [
    {
     "name": "stdout",
     "output_type": "stream",
     "text": [
      "Index(['mean_fit_time', 'mean_score_time', 'mean_test_score',\n",
      "       'mean_train_score', 'param_C', 'param_gamma', 'params',\n",
      "       'rank_test_score', 'split0_test_score', 'split0_train_score',\n",
      "       'split1_test_score', 'split1_train_score', 'split2_test_score',\n",
      "       'split2_train_score', 'split3_test_score', 'split3_train_score',\n",
      "       'split4_test_score', 'split4_train_score', 'std_fit_time',\n",
      "       'std_score_time', 'std_test_score', 'std_train_score'],\n",
      "      dtype='object')\n"
     ]
    },
    {
     "data": {
      "text/html": [
       "<div>\n",
       "<style scoped>\n",
       "    .dataframe tbody tr th:only-of-type {\n",
       "        vertical-align: middle;\n",
       "    }\n",
       "\n",
       "    .dataframe tbody tr th {\n",
       "        vertical-align: top;\n",
       "    }\n",
       "\n",
       "    .dataframe thead th {\n",
       "        text-align: right;\n",
       "    }\n",
       "</style>\n",
       "<table border=\"1\" class=\"dataframe\">\n",
       "  <thead>\n",
       "    <tr style=\"text-align: right;\">\n",
       "      <th></th>\n",
       "      <th>mean_fit_time</th>\n",
       "      <th>mean_score_time</th>\n",
       "      <th>mean_test_score</th>\n",
       "      <th>mean_train_score</th>\n",
       "      <th>...</th>\n",
       "      <th>std_fit_time</th>\n",
       "      <th>std_score_time</th>\n",
       "      <th>std_test_score</th>\n",
       "      <th>std_train_score</th>\n",
       "    </tr>\n",
       "  </thead>\n",
       "  <tbody>\n",
       "    <tr>\n",
       "      <th>0</th>\n",
       "      <td>0.0024234</td>\n",
       "      <td>0.0006687</td>\n",
       "      <td>0.3660714</td>\n",
       "      <td>0.3660787</td>\n",
       "      <td>...</td>\n",
       "      <td>0.0000716</td>\n",
       "      <td>0.0000230</td>\n",
       "      <td>0.0113708</td>\n",
       "      <td>0.0028518</td>\n",
       "    </tr>\n",
       "    <tr>\n",
       "      <th>1</th>\n",
       "      <td>0.0018308</td>\n",
       "      <td>0.0005248</td>\n",
       "      <td>0.3660714</td>\n",
       "      <td>0.3660787</td>\n",
       "      <td>...</td>\n",
       "      <td>0.0008472</td>\n",
       "      <td>0.0001809</td>\n",
       "      <td>0.0113708</td>\n",
       "      <td>0.0028518</td>\n",
       "    </tr>\n",
       "    <tr>\n",
       "      <th>2</th>\n",
       "      <td>0.0008598</td>\n",
       "      <td>0.0002733</td>\n",
       "      <td>0.3660714</td>\n",
       "      <td>0.3660787</td>\n",
       "      <td>...</td>\n",
       "      <td>0.0001205</td>\n",
       "      <td>0.0000434</td>\n",
       "      <td>0.0113708</td>\n",
       "      <td>0.0028518</td>\n",
       "    </tr>\n",
       "    <tr>\n",
       "      <th>3</th>\n",
       "      <td>0.0005398</td>\n",
       "      <td>0.0001976</td>\n",
       "      <td>0.3660714</td>\n",
       "      <td>0.3660787</td>\n",
       "      <td>...</td>\n",
       "      <td>0.0000942</td>\n",
       "      <td>0.0000110</td>\n",
       "      <td>0.0113708</td>\n",
       "      <td>0.0028518</td>\n",
       "    </tr>\n",
       "    <tr>\n",
       "      <th>4</th>\n",
       "      <td>0.0004919</td>\n",
       "      <td>0.0002046</td>\n",
       "      <td>0.3660714</td>\n",
       "      <td>0.3660787</td>\n",
       "      <td>...</td>\n",
       "      <td>0.0000310</td>\n",
       "      <td>0.0000348</td>\n",
       "      <td>0.0113708</td>\n",
       "      <td>0.0028518</td>\n",
       "    </tr>\n",
       "    <tr>\n",
       "      <th>5</th>\n",
       "      <td>0.0004977</td>\n",
       "      <td>0.0001863</td>\n",
       "      <td>0.3660714</td>\n",
       "      <td>0.3660787</td>\n",
       "      <td>...</td>\n",
       "      <td>0.0000684</td>\n",
       "      <td>0.0000042</td>\n",
       "      <td>0.0113708</td>\n",
       "      <td>0.0028518</td>\n",
       "    </tr>\n",
       "    <tr>\n",
       "      <th>6</th>\n",
       "      <td>0.0006801</td>\n",
       "      <td>0.0002650</td>\n",
       "      <td>0.3660714</td>\n",
       "      <td>0.3660787</td>\n",
       "      <td>...</td>\n",
       "      <td>0.0000189</td>\n",
       "      <td>0.0000153</td>\n",
       "      <td>0.0113708</td>\n",
       "      <td>0.0028518</td>\n",
       "    </tr>\n",
       "    <tr>\n",
       "      <th>7</th>\n",
       "      <td>0.0005862</td>\n",
       "      <td>0.0002432</td>\n",
       "      <td>0.3660714</td>\n",
       "      <td>0.3660787</td>\n",
       "      <td>...</td>\n",
       "      <td>0.0001160</td>\n",
       "      <td>0.0000609</td>\n",
       "      <td>0.0113708</td>\n",
       "      <td>0.0028518</td>\n",
       "    </tr>\n",
       "    <tr>\n",
       "      <th>8</th>\n",
       "      <td>0.0006256</td>\n",
       "      <td>0.0002142</td>\n",
       "      <td>0.3660714</td>\n",
       "      <td>0.3660787</td>\n",
       "      <td>...</td>\n",
       "      <td>0.0002161</td>\n",
       "      <td>0.0000421</td>\n",
       "      <td>0.0113708</td>\n",
       "      <td>0.0028518</td>\n",
       "    </tr>\n",
       "    <tr>\n",
       "      <th>9</th>\n",
       "      <td>0.0006639</td>\n",
       "      <td>0.0002663</td>\n",
       "      <td>0.3660714</td>\n",
       "      <td>0.3660787</td>\n",
       "      <td>...</td>\n",
       "      <td>0.0000649</td>\n",
       "      <td>0.0000349</td>\n",
       "      <td>0.0113708</td>\n",
       "      <td>0.0028518</td>\n",
       "    </tr>\n",
       "    <tr>\n",
       "      <th>10</th>\n",
       "      <td>0.0005730</td>\n",
       "      <td>0.0002143</td>\n",
       "      <td>0.3660714</td>\n",
       "      <td>0.3660787</td>\n",
       "      <td>...</td>\n",
       "      <td>0.0000711</td>\n",
       "      <td>0.0000331</td>\n",
       "      <td>0.0113708</td>\n",
       "      <td>0.0028518</td>\n",
       "    </tr>\n",
       "    <tr>\n",
       "      <th>11</th>\n",
       "      <td>0.0006066</td>\n",
       "      <td>0.0002062</td>\n",
       "      <td>0.3660714</td>\n",
       "      <td>0.3660787</td>\n",
       "      <td>...</td>\n",
       "      <td>0.0001159</td>\n",
       "      <td>0.0000236</td>\n",
       "      <td>0.0113708</td>\n",
       "      <td>0.0028518</td>\n",
       "    </tr>\n",
       "    <tr>\n",
       "      <th>12</th>\n",
       "      <td>0.0004458</td>\n",
       "      <td>0.0001792</td>\n",
       "      <td>0.3660714</td>\n",
       "      <td>0.3660787</td>\n",
       "      <td>...</td>\n",
       "      <td>0.0000177</td>\n",
       "      <td>0.0000075</td>\n",
       "      <td>0.0113708</td>\n",
       "      <td>0.0028518</td>\n",
       "    </tr>\n",
       "    <tr>\n",
       "      <th>13</th>\n",
       "      <td>0.0004768</td>\n",
       "      <td>0.0002024</td>\n",
       "      <td>0.6964286</td>\n",
       "      <td>0.6964237</td>\n",
       "      <td>...</td>\n",
       "      <td>0.0000831</td>\n",
       "      <td>0.0000397</td>\n",
       "      <td>0.0131963</td>\n",
       "      <td>0.0032580</td>\n",
       "    </tr>\n",
       "    <tr>\n",
       "      <th>14</th>\n",
       "      <td>0.0004204</td>\n",
       "      <td>0.0001770</td>\n",
       "      <td>0.9196429</td>\n",
       "      <td>0.9197442</td>\n",
       "      <td>...</td>\n",
       "      <td>0.0000213</td>\n",
       "      <td>0.0000049</td>\n",
       "      <td>0.0440102</td>\n",
       "      <td>0.0212659</td>\n",
       "    </tr>\n",
       "    <tr>\n",
       "      <th>15</th>\n",
       "      <td>0.0005503</td>\n",
       "      <td>0.0002210</td>\n",
       "      <td>0.9553571</td>\n",
       "      <td>0.9598457</td>\n",
       "      <td>...</td>\n",
       "      <td>0.0001214</td>\n",
       "      <td>0.0000399</td>\n",
       "      <td>0.0401043</td>\n",
       "      <td>0.0113043</td>\n",
       "    </tr>\n",
       "    <tr>\n",
       "      <th>16</th>\n",
       "      <td>0.0006865</td>\n",
       "      <td>0.0002272</td>\n",
       "      <td>0.3660714</td>\n",
       "      <td>0.3817097</td>\n",
       "      <td>...</td>\n",
       "      <td>0.0002127</td>\n",
       "      <td>0.0000540</td>\n",
       "      <td>0.0113708</td>\n",
       "      <td>0.0213374</td>\n",
       "    </tr>\n",
       "    <tr>\n",
       "      <th>17</th>\n",
       "      <td>0.0005744</td>\n",
       "      <td>0.0001942</td>\n",
       "      <td>0.3660714</td>\n",
       "      <td>0.3660787</td>\n",
       "      <td>...</td>\n",
       "      <td>0.0000550</td>\n",
       "      <td>0.0000147</td>\n",
       "      <td>0.0113708</td>\n",
       "      <td>0.0028518</td>\n",
       "    </tr>\n",
       "    <tr>\n",
       "      <th>18</th>\n",
       "      <td>0.0005804</td>\n",
       "      <td>0.0002295</td>\n",
       "      <td>0.6964286</td>\n",
       "      <td>0.6964237</td>\n",
       "      <td>...</td>\n",
       "      <td>0.0000816</td>\n",
       "      <td>0.0000548</td>\n",
       "      <td>0.0131963</td>\n",
       "      <td>0.0032580</td>\n",
       "    </tr>\n",
       "    <tr>\n",
       "      <th>19</th>\n",
       "      <td>0.0003709</td>\n",
       "      <td>0.0001753</td>\n",
       "      <td>0.9285714</td>\n",
       "      <td>0.9353247</td>\n",
       "      <td>...</td>\n",
       "      <td>0.0000142</td>\n",
       "      <td>0.0000083</td>\n",
       "      <td>0.0429827</td>\n",
       "      <td>0.0078884</td>\n",
       "    </tr>\n",
       "    <tr>\n",
       "      <th>20</th>\n",
       "      <td>0.0003246</td>\n",
       "      <td>0.0001694</td>\n",
       "      <td>0.9642857</td>\n",
       "      <td>0.9776501</td>\n",
       "      <td>...</td>\n",
       "      <td>0.0000294</td>\n",
       "      <td>0.0000128</td>\n",
       "      <td>0.0340769</td>\n",
       "      <td>0.0100842</td>\n",
       "    </tr>\n",
       "    <tr>\n",
       "      <th>21</th>\n",
       "      <td>0.0003864</td>\n",
       "      <td>0.0001618</td>\n",
       "      <td>0.9464286</td>\n",
       "      <td>0.9843928</td>\n",
       "      <td>...</td>\n",
       "      <td>0.0000427</td>\n",
       "      <td>0.0000056</td>\n",
       "      <td>0.0324799</td>\n",
       "      <td>0.0088664</td>\n",
       "    </tr>\n",
       "    <tr>\n",
       "      <th>22</th>\n",
       "      <td>0.0005674</td>\n",
       "      <td>0.0001866</td>\n",
       "      <td>0.9196429</td>\n",
       "      <td>1.0000000</td>\n",
       "      <td>...</td>\n",
       "      <td>0.0000104</td>\n",
       "      <td>0.0000134</td>\n",
       "      <td>0.0647906</td>\n",
       "      <td>0.0000000</td>\n",
       "    </tr>\n",
       "    <tr>\n",
       "      <th>23</th>\n",
       "      <td>0.0006834</td>\n",
       "      <td>0.0001926</td>\n",
       "      <td>0.5089286</td>\n",
       "      <td>1.0000000</td>\n",
       "      <td>...</td>\n",
       "      <td>0.0001512</td>\n",
       "      <td>0.0000114</td>\n",
       "      <td>0.0464350</td>\n",
       "      <td>0.0000000</td>\n",
       "    </tr>\n",
       "    <tr>\n",
       "      <th>24</th>\n",
       "      <td>0.0004052</td>\n",
       "      <td>0.0001850</td>\n",
       "      <td>0.9285714</td>\n",
       "      <td>0.9353247</td>\n",
       "      <td>...</td>\n",
       "      <td>0.0000671</td>\n",
       "      <td>0.0000276</td>\n",
       "      <td>0.0429827</td>\n",
       "      <td>0.0078884</td>\n",
       "    </tr>\n",
       "    <tr>\n",
       "      <th>25</th>\n",
       "      <td>0.0003070</td>\n",
       "      <td>0.0001615</td>\n",
       "      <td>0.9642857</td>\n",
       "      <td>0.9776757</td>\n",
       "      <td>...</td>\n",
       "      <td>0.0000161</td>\n",
       "      <td>0.0000038</td>\n",
       "      <td>0.0340769</td>\n",
       "      <td>0.0070319</td>\n",
       "    </tr>\n",
       "    <tr>\n",
       "      <th>26</th>\n",
       "      <td>0.0002981</td>\n",
       "      <td>0.0001520</td>\n",
       "      <td>0.9642857</td>\n",
       "      <td>0.9865662</td>\n",
       "      <td>...</td>\n",
       "      <td>0.0000375</td>\n",
       "      <td>0.0000025</td>\n",
       "      <td>0.0177687</td>\n",
       "      <td>0.0083555</td>\n",
       "    </tr>\n",
       "    <tr>\n",
       "      <th>27</th>\n",
       "      <td>0.0003562</td>\n",
       "      <td>0.0001586</td>\n",
       "      <td>0.9375000</td>\n",
       "      <td>0.9865906</td>\n",
       "      <td>...</td>\n",
       "      <td>0.0000058</td>\n",
       "      <td>0.0000032</td>\n",
       "      <td>0.0452528</td>\n",
       "      <td>0.0083624</td>\n",
       "    </tr>\n",
       "    <tr>\n",
       "      <th>28</th>\n",
       "      <td>0.0005650</td>\n",
       "      <td>0.0001716</td>\n",
       "      <td>0.9196429</td>\n",
       "      <td>1.0000000</td>\n",
       "      <td>...</td>\n",
       "      <td>0.0000198</td>\n",
       "      <td>0.0000019</td>\n",
       "      <td>0.0647906</td>\n",
       "      <td>0.0000000</td>\n",
       "    </tr>\n",
       "    <tr>\n",
       "      <th>29</th>\n",
       "      <td>0.0006034</td>\n",
       "      <td>0.0002053</td>\n",
       "      <td>0.5625000</td>\n",
       "      <td>1.0000000</td>\n",
       "      <td>...</td>\n",
       "      <td>0.0000571</td>\n",
       "      <td>0.0000423</td>\n",
       "      <td>0.0496678</td>\n",
       "      <td>0.0000000</td>\n",
       "    </tr>\n",
       "    <tr>\n",
       "      <th>30</th>\n",
       "      <td>0.0004104</td>\n",
       "      <td>0.0001751</td>\n",
       "      <td>0.9642857</td>\n",
       "      <td>0.9776757</td>\n",
       "      <td>...</td>\n",
       "      <td>0.0001586</td>\n",
       "      <td>0.0000183</td>\n",
       "      <td>0.0340769</td>\n",
       "      <td>0.0070319</td>\n",
       "    </tr>\n",
       "    <tr>\n",
       "      <th>31</th>\n",
       "      <td>0.0003949</td>\n",
       "      <td>0.0001824</td>\n",
       "      <td>0.9732143</td>\n",
       "      <td>0.9843684</td>\n",
       "      <td>...</td>\n",
       "      <td>0.0000631</td>\n",
       "      <td>0.0000335</td>\n",
       "      <td>0.0223995</td>\n",
       "      <td>0.0054851</td>\n",
       "    </tr>\n",
       "    <tr>\n",
       "      <th>32</th>\n",
       "      <td>0.0003191</td>\n",
       "      <td>0.0001697</td>\n",
       "      <td>0.9553571</td>\n",
       "      <td>0.9887884</td>\n",
       "      <td>...</td>\n",
       "      <td>0.0000506</td>\n",
       "      <td>0.0000260</td>\n",
       "      <td>0.0495662</td>\n",
       "      <td>0.0099945</td>\n",
       "    </tr>\n",
       "    <tr>\n",
       "      <th>33</th>\n",
       "      <td>0.0004591</td>\n",
       "      <td>0.0001854</td>\n",
       "      <td>0.9464286</td>\n",
       "      <td>1.0000000</td>\n",
       "      <td>...</td>\n",
       "      <td>0.0000860</td>\n",
       "      <td>0.0000292</td>\n",
       "      <td>0.0519227</td>\n",
       "      <td>0.0000000</td>\n",
       "    </tr>\n",
       "    <tr>\n",
       "      <th>34</th>\n",
       "      <td>0.0005767</td>\n",
       "      <td>0.0001803</td>\n",
       "      <td>0.9196429</td>\n",
       "      <td>1.0000000</td>\n",
       "      <td>...</td>\n",
       "      <td>0.0000152</td>\n",
       "      <td>0.0000063</td>\n",
       "      <td>0.0647906</td>\n",
       "      <td>0.0000000</td>\n",
       "    </tr>\n",
       "    <tr>\n",
       "      <th>35</th>\n",
       "      <td>0.0005802</td>\n",
       "      <td>0.0001818</td>\n",
       "      <td>0.5625000</td>\n",
       "      <td>1.0000000</td>\n",
       "      <td>...</td>\n",
       "      <td>0.0000107</td>\n",
       "      <td>0.0000022</td>\n",
       "      <td>0.0496678</td>\n",
       "      <td>0.0000000</td>\n",
       "    </tr>\n",
       "  </tbody>\n",
       "</table>\n",
       "<p>36 rows × 22 columns</p>\n",
       "</div>"
      ],
      "text/plain": [
       "    mean_fit_time  mean_score_time  mean_test_score  mean_train_score  \\\n",
       "0       0.0024234        0.0006687        0.3660714         0.3660787   \n",
       "1       0.0018308        0.0005248        0.3660714         0.3660787   \n",
       "2       0.0008598        0.0002733        0.3660714         0.3660787   \n",
       "3       0.0005398        0.0001976        0.3660714         0.3660787   \n",
       "4       0.0004919        0.0002046        0.3660714         0.3660787   \n",
       "5       0.0004977        0.0001863        0.3660714         0.3660787   \n",
       "6       0.0006801        0.0002650        0.3660714         0.3660787   \n",
       "7       0.0005862        0.0002432        0.3660714         0.3660787   \n",
       "8       0.0006256        0.0002142        0.3660714         0.3660787   \n",
       "9       0.0006639        0.0002663        0.3660714         0.3660787   \n",
       "10      0.0005730        0.0002143        0.3660714         0.3660787   \n",
       "11      0.0006066        0.0002062        0.3660714         0.3660787   \n",
       "12      0.0004458        0.0001792        0.3660714         0.3660787   \n",
       "13      0.0004768        0.0002024        0.6964286         0.6964237   \n",
       "14      0.0004204        0.0001770        0.9196429         0.9197442   \n",
       "15      0.0005503        0.0002210        0.9553571         0.9598457   \n",
       "16      0.0006865        0.0002272        0.3660714         0.3817097   \n",
       "17      0.0005744        0.0001942        0.3660714         0.3660787   \n",
       "18      0.0005804        0.0002295        0.6964286         0.6964237   \n",
       "19      0.0003709        0.0001753        0.9285714         0.9353247   \n",
       "20      0.0003246        0.0001694        0.9642857         0.9776501   \n",
       "21      0.0003864        0.0001618        0.9464286         0.9843928   \n",
       "22      0.0005674        0.0001866        0.9196429         1.0000000   \n",
       "23      0.0006834        0.0001926        0.5089286         1.0000000   \n",
       "24      0.0004052        0.0001850        0.9285714         0.9353247   \n",
       "25      0.0003070        0.0001615        0.9642857         0.9776757   \n",
       "26      0.0002981        0.0001520        0.9642857         0.9865662   \n",
       "27      0.0003562        0.0001586        0.9375000         0.9865906   \n",
       "28      0.0005650        0.0001716        0.9196429         1.0000000   \n",
       "29      0.0006034        0.0002053        0.5625000         1.0000000   \n",
       "30      0.0004104        0.0001751        0.9642857         0.9776757   \n",
       "31      0.0003949        0.0001824        0.9732143         0.9843684   \n",
       "32      0.0003191        0.0001697        0.9553571         0.9887884   \n",
       "33      0.0004591        0.0001854        0.9464286         1.0000000   \n",
       "34      0.0005767        0.0001803        0.9196429         1.0000000   \n",
       "35      0.0005802        0.0001818        0.5625000         1.0000000   \n",
       "\n",
       "         ...        std_fit_time std_score_time std_test_score  \\\n",
       "0        ...           0.0000716      0.0000230      0.0113708   \n",
       "1        ...           0.0008472      0.0001809      0.0113708   \n",
       "2        ...           0.0001205      0.0000434      0.0113708   \n",
       "3        ...           0.0000942      0.0000110      0.0113708   \n",
       "4        ...           0.0000310      0.0000348      0.0113708   \n",
       "5        ...           0.0000684      0.0000042      0.0113708   \n",
       "6        ...           0.0000189      0.0000153      0.0113708   \n",
       "7        ...           0.0001160      0.0000609      0.0113708   \n",
       "8        ...           0.0002161      0.0000421      0.0113708   \n",
       "9        ...           0.0000649      0.0000349      0.0113708   \n",
       "10       ...           0.0000711      0.0000331      0.0113708   \n",
       "11       ...           0.0001159      0.0000236      0.0113708   \n",
       "12       ...           0.0000177      0.0000075      0.0113708   \n",
       "13       ...           0.0000831      0.0000397      0.0131963   \n",
       "14       ...           0.0000213      0.0000049      0.0440102   \n",
       "15       ...           0.0001214      0.0000399      0.0401043   \n",
       "16       ...           0.0002127      0.0000540      0.0113708   \n",
       "17       ...           0.0000550      0.0000147      0.0113708   \n",
       "18       ...           0.0000816      0.0000548      0.0131963   \n",
       "19       ...           0.0000142      0.0000083      0.0429827   \n",
       "20       ...           0.0000294      0.0000128      0.0340769   \n",
       "21       ...           0.0000427      0.0000056      0.0324799   \n",
       "22       ...           0.0000104      0.0000134      0.0647906   \n",
       "23       ...           0.0001512      0.0000114      0.0464350   \n",
       "24       ...           0.0000671      0.0000276      0.0429827   \n",
       "25       ...           0.0000161      0.0000038      0.0340769   \n",
       "26       ...           0.0000375      0.0000025      0.0177687   \n",
       "27       ...           0.0000058      0.0000032      0.0452528   \n",
       "28       ...           0.0000198      0.0000019      0.0647906   \n",
       "29       ...           0.0000571      0.0000423      0.0496678   \n",
       "30       ...           0.0001586      0.0000183      0.0340769   \n",
       "31       ...           0.0000631      0.0000335      0.0223995   \n",
       "32       ...           0.0000506      0.0000260      0.0495662   \n",
       "33       ...           0.0000860      0.0000292      0.0519227   \n",
       "34       ...           0.0000152      0.0000063      0.0647906   \n",
       "35       ...           0.0000107      0.0000022      0.0496678   \n",
       "\n",
       "    std_train_score  \n",
       "0         0.0028518  \n",
       "1         0.0028518  \n",
       "2         0.0028518  \n",
       "3         0.0028518  \n",
       "4         0.0028518  \n",
       "5         0.0028518  \n",
       "6         0.0028518  \n",
       "7         0.0028518  \n",
       "8         0.0028518  \n",
       "9         0.0028518  \n",
       "10        0.0028518  \n",
       "11        0.0028518  \n",
       "12        0.0028518  \n",
       "13        0.0032580  \n",
       "14        0.0212659  \n",
       "15        0.0113043  \n",
       "16        0.0213374  \n",
       "17        0.0028518  \n",
       "18        0.0032580  \n",
       "19        0.0078884  \n",
       "20        0.0100842  \n",
       "21        0.0088664  \n",
       "22        0.0000000  \n",
       "23        0.0000000  \n",
       "24        0.0078884  \n",
       "25        0.0070319  \n",
       "26        0.0083555  \n",
       "27        0.0083624  \n",
       "28        0.0000000  \n",
       "29        0.0000000  \n",
       "30        0.0070319  \n",
       "31        0.0054851  \n",
       "32        0.0099945  \n",
       "33        0.0000000  \n",
       "34        0.0000000  \n",
       "35        0.0000000  \n",
       "\n",
       "[36 rows x 22 columns]"
      ]
     },
     "metadata": {},
     "output_type": "display_data"
    }
   ],
   "source": [
    "import pandas as pd\n",
    "# convert to Dataframe\n",
    "results = pd.DataFrame(grid_search.cv_results_)\n",
    "pd.options.display.float_format = '{:,.7f}'.format\n",
    "\n",
    "print(results.columns)\n",
    "# show the first 5 rows\n",
    "# display(results.head(5))\n",
    "display(results)"
   ]
  },
  {
   "cell_type": "code",
   "execution_count": 33,
   "metadata": {
    "collapsed": false
   },
   "outputs": [
    {
     "data": {
      "text/html": [
       "<div>\n",
       "<style scoped>\n",
       "    .dataframe tbody tr th:only-of-type {\n",
       "        vertical-align: middle;\n",
       "    }\n",
       "\n",
       "    .dataframe tbody tr th {\n",
       "        vertical-align: top;\n",
       "    }\n",
       "\n",
       "    .dataframe thead th {\n",
       "        text-align: right;\n",
       "    }\n",
       "</style>\n",
       "<table border=\"1\" class=\"dataframe\">\n",
       "  <thead>\n",
       "    <tr style=\"text-align: right;\">\n",
       "      <th></th>\n",
       "      <th>rank_test_score</th>\n",
       "      <th>params</th>\n",
       "      <th>mean_test_score</th>\n",
       "      <th>std_test_score</th>\n",
       "      <th>mean_train_score</th>\n",
       "      <th>std_train_score</th>\n",
       "    </tr>\n",
       "  </thead>\n",
       "  <tbody>\n",
       "    <tr>\n",
       "      <th>31</th>\n",
       "      <td>1</td>\n",
       "      <td>{'C': 100, 'gamma': 0.01}</td>\n",
       "      <td>0.9732143</td>\n",
       "      <td>0.0223995</td>\n",
       "      <td>0.9843684</td>\n",
       "      <td>0.0054851</td>\n",
       "    </tr>\n",
       "    <tr>\n",
       "      <th>20</th>\n",
       "      <td>2</td>\n",
       "      <td>{'C': 1, 'gamma': 0.1}</td>\n",
       "      <td>0.9642857</td>\n",
       "      <td>0.0340769</td>\n",
       "      <td>0.9776501</td>\n",
       "      <td>0.0100842</td>\n",
       "    </tr>\n",
       "    <tr>\n",
       "      <th>30</th>\n",
       "      <td>2</td>\n",
       "      <td>{'C': 100, 'gamma': 0.001}</td>\n",
       "      <td>0.9642857</td>\n",
       "      <td>0.0340769</td>\n",
       "      <td>0.9776757</td>\n",
       "      <td>0.0070319</td>\n",
       "    </tr>\n",
       "    <tr>\n",
       "      <th>26</th>\n",
       "      <td>2</td>\n",
       "      <td>{'C': 10, 'gamma': 0.1}</td>\n",
       "      <td>0.9642857</td>\n",
       "      <td>0.0177687</td>\n",
       "      <td>0.9865662</td>\n",
       "      <td>0.0083555</td>\n",
       "    </tr>\n",
       "    <tr>\n",
       "      <th>25</th>\n",
       "      <td>2</td>\n",
       "      <td>{'C': 10, 'gamma': 0.01}</td>\n",
       "      <td>0.9642857</td>\n",
       "      <td>0.0340769</td>\n",
       "      <td>0.9776757</td>\n",
       "      <td>0.0070319</td>\n",
       "    </tr>\n",
       "    <tr>\n",
       "      <th>32</th>\n",
       "      <td>6</td>\n",
       "      <td>{'C': 100, 'gamma': 0.1}</td>\n",
       "      <td>0.9553571</td>\n",
       "      <td>0.0495662</td>\n",
       "      <td>0.9887884</td>\n",
       "      <td>0.0099945</td>\n",
       "    </tr>\n",
       "    <tr>\n",
       "      <th>15</th>\n",
       "      <td>6</td>\n",
       "      <td>{'C': 0.1, 'gamma': 1}</td>\n",
       "      <td>0.9553571</td>\n",
       "      <td>0.0401043</td>\n",
       "      <td>0.9598457</td>\n",
       "      <td>0.0113043</td>\n",
       "    </tr>\n",
       "    <tr>\n",
       "      <th>33</th>\n",
       "      <td>8</td>\n",
       "      <td>{'C': 100, 'gamma': 1}</td>\n",
       "      <td>0.9464286</td>\n",
       "      <td>0.0519227</td>\n",
       "      <td>1.0000000</td>\n",
       "      <td>0.0000000</td>\n",
       "    </tr>\n",
       "    <tr>\n",
       "      <th>21</th>\n",
       "      <td>8</td>\n",
       "      <td>{'C': 1, 'gamma': 1}</td>\n",
       "      <td>0.9464286</td>\n",
       "      <td>0.0324799</td>\n",
       "      <td>0.9843928</td>\n",
       "      <td>0.0088664</td>\n",
       "    </tr>\n",
       "    <tr>\n",
       "      <th>27</th>\n",
       "      <td>10</td>\n",
       "      <td>{'C': 10, 'gamma': 1}</td>\n",
       "      <td>0.9375000</td>\n",
       "      <td>0.0452528</td>\n",
       "      <td>0.9865906</td>\n",
       "      <td>0.0083624</td>\n",
       "    </tr>\n",
       "    <tr>\n",
       "      <th>24</th>\n",
       "      <td>11</td>\n",
       "      <td>{'C': 10, 'gamma': 0.001}</td>\n",
       "      <td>0.9285714</td>\n",
       "      <td>0.0429827</td>\n",
       "      <td>0.9353247</td>\n",
       "      <td>0.0078884</td>\n",
       "    </tr>\n",
       "    <tr>\n",
       "      <th>19</th>\n",
       "      <td>11</td>\n",
       "      <td>{'C': 1, 'gamma': 0.01}</td>\n",
       "      <td>0.9285714</td>\n",
       "      <td>0.0429827</td>\n",
       "      <td>0.9353247</td>\n",
       "      <td>0.0078884</td>\n",
       "    </tr>\n",
       "    <tr>\n",
       "      <th>22</th>\n",
       "      <td>13</td>\n",
       "      <td>{'C': 1, 'gamma': 10}</td>\n",
       "      <td>0.9196429</td>\n",
       "      <td>0.0647906</td>\n",
       "      <td>1.0000000</td>\n",
       "      <td>0.0000000</td>\n",
       "    </tr>\n",
       "    <tr>\n",
       "      <th>14</th>\n",
       "      <td>13</td>\n",
       "      <td>{'C': 0.1, 'gamma': 0.1}</td>\n",
       "      <td>0.9196429</td>\n",
       "      <td>0.0440102</td>\n",
       "      <td>0.9197442</td>\n",
       "      <td>0.0212659</td>\n",
       "    </tr>\n",
       "    <tr>\n",
       "      <th>28</th>\n",
       "      <td>13</td>\n",
       "      <td>{'C': 10, 'gamma': 10}</td>\n",
       "      <td>0.9196429</td>\n",
       "      <td>0.0647906</td>\n",
       "      <td>1.0000000</td>\n",
       "      <td>0.0000000</td>\n",
       "    </tr>\n",
       "    <tr>\n",
       "      <th>34</th>\n",
       "      <td>13</td>\n",
       "      <td>{'C': 100, 'gamma': 10}</td>\n",
       "      <td>0.9196429</td>\n",
       "      <td>0.0647906</td>\n",
       "      <td>1.0000000</td>\n",
       "      <td>0.0000000</td>\n",
       "    </tr>\n",
       "    <tr>\n",
       "      <th>13</th>\n",
       "      <td>17</td>\n",
       "      <td>{'C': 0.1, 'gamma': 0.01}</td>\n",
       "      <td>0.6964286</td>\n",
       "      <td>0.0131963</td>\n",
       "      <td>0.6964237</td>\n",
       "      <td>0.0032580</td>\n",
       "    </tr>\n",
       "    <tr>\n",
       "      <th>18</th>\n",
       "      <td>17</td>\n",
       "      <td>{'C': 1, 'gamma': 0.001}</td>\n",
       "      <td>0.6964286</td>\n",
       "      <td>0.0131963</td>\n",
       "      <td>0.6964237</td>\n",
       "      <td>0.0032580</td>\n",
       "    </tr>\n",
       "    <tr>\n",
       "      <th>29</th>\n",
       "      <td>19</td>\n",
       "      <td>{'C': 10, 'gamma': 100}</td>\n",
       "      <td>0.5625000</td>\n",
       "      <td>0.0496678</td>\n",
       "      <td>1.0000000</td>\n",
       "      <td>0.0000000</td>\n",
       "    </tr>\n",
       "    <tr>\n",
       "      <th>35</th>\n",
       "      <td>19</td>\n",
       "      <td>{'C': 100, 'gamma': 100}</td>\n",
       "      <td>0.5625000</td>\n",
       "      <td>0.0496678</td>\n",
       "      <td>1.0000000</td>\n",
       "      <td>0.0000000</td>\n",
       "    </tr>\n",
       "    <tr>\n",
       "      <th>23</th>\n",
       "      <td>21</td>\n",
       "      <td>{'C': 1, 'gamma': 100}</td>\n",
       "      <td>0.5089286</td>\n",
       "      <td>0.0464350</td>\n",
       "      <td>1.0000000</td>\n",
       "      <td>0.0000000</td>\n",
       "    </tr>\n",
       "    <tr>\n",
       "      <th>0</th>\n",
       "      <td>22</td>\n",
       "      <td>{'C': 0.001, 'gamma': 0.001}</td>\n",
       "      <td>0.3660714</td>\n",
       "      <td>0.0113708</td>\n",
       "      <td>0.3660787</td>\n",
       "      <td>0.0028518</td>\n",
       "    </tr>\n",
       "    <tr>\n",
       "      <th>12</th>\n",
       "      <td>22</td>\n",
       "      <td>{'C': 0.1, 'gamma': 0.001}</td>\n",
       "      <td>0.3660714</td>\n",
       "      <td>0.0113708</td>\n",
       "      <td>0.3660787</td>\n",
       "      <td>0.0028518</td>\n",
       "    </tr>\n",
       "    <tr>\n",
       "      <th>11</th>\n",
       "      <td>22</td>\n",
       "      <td>{'C': 0.01, 'gamma': 100}</td>\n",
       "      <td>0.3660714</td>\n",
       "      <td>0.0113708</td>\n",
       "      <td>0.3660787</td>\n",
       "      <td>0.0028518</td>\n",
       "    </tr>\n",
       "    <tr>\n",
       "      <th>10</th>\n",
       "      <td>22</td>\n",
       "      <td>{'C': 0.01, 'gamma': 10}</td>\n",
       "      <td>0.3660714</td>\n",
       "      <td>0.0113708</td>\n",
       "      <td>0.3660787</td>\n",
       "      <td>0.0028518</td>\n",
       "    </tr>\n",
       "    <tr>\n",
       "      <th>9</th>\n",
       "      <td>22</td>\n",
       "      <td>{'C': 0.01, 'gamma': 1}</td>\n",
       "      <td>0.3660714</td>\n",
       "      <td>0.0113708</td>\n",
       "      <td>0.3660787</td>\n",
       "      <td>0.0028518</td>\n",
       "    </tr>\n",
       "    <tr>\n",
       "      <th>8</th>\n",
       "      <td>22</td>\n",
       "      <td>{'C': 0.01, 'gamma': 0.1}</td>\n",
       "      <td>0.3660714</td>\n",
       "      <td>0.0113708</td>\n",
       "      <td>0.3660787</td>\n",
       "      <td>0.0028518</td>\n",
       "    </tr>\n",
       "    <tr>\n",
       "      <th>7</th>\n",
       "      <td>22</td>\n",
       "      <td>{'C': 0.01, 'gamma': 0.01}</td>\n",
       "      <td>0.3660714</td>\n",
       "      <td>0.0113708</td>\n",
       "      <td>0.3660787</td>\n",
       "      <td>0.0028518</td>\n",
       "    </tr>\n",
       "    <tr>\n",
       "      <th>6</th>\n",
       "      <td>22</td>\n",
       "      <td>{'C': 0.01, 'gamma': 0.001}</td>\n",
       "      <td>0.3660714</td>\n",
       "      <td>0.0113708</td>\n",
       "      <td>0.3660787</td>\n",
       "      <td>0.0028518</td>\n",
       "    </tr>\n",
       "    <tr>\n",
       "      <th>5</th>\n",
       "      <td>22</td>\n",
       "      <td>{'C': 0.001, 'gamma': 100}</td>\n",
       "      <td>0.3660714</td>\n",
       "      <td>0.0113708</td>\n",
       "      <td>0.3660787</td>\n",
       "      <td>0.0028518</td>\n",
       "    </tr>\n",
       "    <tr>\n",
       "      <th>4</th>\n",
       "      <td>22</td>\n",
       "      <td>{'C': 0.001, 'gamma': 10}</td>\n",
       "      <td>0.3660714</td>\n",
       "      <td>0.0113708</td>\n",
       "      <td>0.3660787</td>\n",
       "      <td>0.0028518</td>\n",
       "    </tr>\n",
       "    <tr>\n",
       "      <th>3</th>\n",
       "      <td>22</td>\n",
       "      <td>{'C': 0.001, 'gamma': 1}</td>\n",
       "      <td>0.3660714</td>\n",
       "      <td>0.0113708</td>\n",
       "      <td>0.3660787</td>\n",
       "      <td>0.0028518</td>\n",
       "    </tr>\n",
       "    <tr>\n",
       "      <th>2</th>\n",
       "      <td>22</td>\n",
       "      <td>{'C': 0.001, 'gamma': 0.1}</td>\n",
       "      <td>0.3660714</td>\n",
       "      <td>0.0113708</td>\n",
       "      <td>0.3660787</td>\n",
       "      <td>0.0028518</td>\n",
       "    </tr>\n",
       "    <tr>\n",
       "      <th>1</th>\n",
       "      <td>22</td>\n",
       "      <td>{'C': 0.001, 'gamma': 0.01}</td>\n",
       "      <td>0.3660714</td>\n",
       "      <td>0.0113708</td>\n",
       "      <td>0.3660787</td>\n",
       "      <td>0.0028518</td>\n",
       "    </tr>\n",
       "    <tr>\n",
       "      <th>16</th>\n",
       "      <td>22</td>\n",
       "      <td>{'C': 0.1, 'gamma': 10}</td>\n",
       "      <td>0.3660714</td>\n",
       "      <td>0.0113708</td>\n",
       "      <td>0.3817097</td>\n",
       "      <td>0.0213374</td>\n",
       "    </tr>\n",
       "    <tr>\n",
       "      <th>17</th>\n",
       "      <td>22</td>\n",
       "      <td>{'C': 0.1, 'gamma': 100}</td>\n",
       "      <td>0.3660714</td>\n",
       "      <td>0.0113708</td>\n",
       "      <td>0.3660787</td>\n",
       "      <td>0.0028518</td>\n",
       "    </tr>\n",
       "  </tbody>\n",
       "</table>\n",
       "</div>"
      ],
      "text/plain": [
       "    rank_test_score                        params  mean_test_score  \\\n",
       "31                1     {'C': 100, 'gamma': 0.01}        0.9732143   \n",
       "20                2        {'C': 1, 'gamma': 0.1}        0.9642857   \n",
       "30                2    {'C': 100, 'gamma': 0.001}        0.9642857   \n",
       "26                2       {'C': 10, 'gamma': 0.1}        0.9642857   \n",
       "25                2      {'C': 10, 'gamma': 0.01}        0.9642857   \n",
       "32                6      {'C': 100, 'gamma': 0.1}        0.9553571   \n",
       "15                6        {'C': 0.1, 'gamma': 1}        0.9553571   \n",
       "33                8        {'C': 100, 'gamma': 1}        0.9464286   \n",
       "21                8          {'C': 1, 'gamma': 1}        0.9464286   \n",
       "27               10         {'C': 10, 'gamma': 1}        0.9375000   \n",
       "24               11     {'C': 10, 'gamma': 0.001}        0.9285714   \n",
       "19               11       {'C': 1, 'gamma': 0.01}        0.9285714   \n",
       "22               13         {'C': 1, 'gamma': 10}        0.9196429   \n",
       "14               13      {'C': 0.1, 'gamma': 0.1}        0.9196429   \n",
       "28               13        {'C': 10, 'gamma': 10}        0.9196429   \n",
       "34               13       {'C': 100, 'gamma': 10}        0.9196429   \n",
       "13               17     {'C': 0.1, 'gamma': 0.01}        0.6964286   \n",
       "18               17      {'C': 1, 'gamma': 0.001}        0.6964286   \n",
       "29               19       {'C': 10, 'gamma': 100}        0.5625000   \n",
       "35               19      {'C': 100, 'gamma': 100}        0.5625000   \n",
       "23               21        {'C': 1, 'gamma': 100}        0.5089286   \n",
       "0                22  {'C': 0.001, 'gamma': 0.001}        0.3660714   \n",
       "12               22    {'C': 0.1, 'gamma': 0.001}        0.3660714   \n",
       "11               22     {'C': 0.01, 'gamma': 100}        0.3660714   \n",
       "10               22      {'C': 0.01, 'gamma': 10}        0.3660714   \n",
       "9                22       {'C': 0.01, 'gamma': 1}        0.3660714   \n",
       "8                22     {'C': 0.01, 'gamma': 0.1}        0.3660714   \n",
       "7                22    {'C': 0.01, 'gamma': 0.01}        0.3660714   \n",
       "6                22   {'C': 0.01, 'gamma': 0.001}        0.3660714   \n",
       "5                22    {'C': 0.001, 'gamma': 100}        0.3660714   \n",
       "4                22     {'C': 0.001, 'gamma': 10}        0.3660714   \n",
       "3                22      {'C': 0.001, 'gamma': 1}        0.3660714   \n",
       "2                22    {'C': 0.001, 'gamma': 0.1}        0.3660714   \n",
       "1                22   {'C': 0.001, 'gamma': 0.01}        0.3660714   \n",
       "16               22       {'C': 0.1, 'gamma': 10}        0.3660714   \n",
       "17               22      {'C': 0.1, 'gamma': 100}        0.3660714   \n",
       "\n",
       "    std_test_score  mean_train_score  std_train_score  \n",
       "31       0.0223995         0.9843684        0.0054851  \n",
       "20       0.0340769         0.9776501        0.0100842  \n",
       "30       0.0340769         0.9776757        0.0070319  \n",
       "26       0.0177687         0.9865662        0.0083555  \n",
       "25       0.0340769         0.9776757        0.0070319  \n",
       "32       0.0495662         0.9887884        0.0099945  \n",
       "15       0.0401043         0.9598457        0.0113043  \n",
       "33       0.0519227         1.0000000        0.0000000  \n",
       "21       0.0324799         0.9843928        0.0088664  \n",
       "27       0.0452528         0.9865906        0.0083624  \n",
       "24       0.0429827         0.9353247        0.0078884  \n",
       "19       0.0429827         0.9353247        0.0078884  \n",
       "22       0.0647906         1.0000000        0.0000000  \n",
       "14       0.0440102         0.9197442        0.0212659  \n",
       "28       0.0647906         1.0000000        0.0000000  \n",
       "34       0.0647906         1.0000000        0.0000000  \n",
       "13       0.0131963         0.6964237        0.0032580  \n",
       "18       0.0131963         0.6964237        0.0032580  \n",
       "29       0.0496678         1.0000000        0.0000000  \n",
       "35       0.0496678         1.0000000        0.0000000  \n",
       "23       0.0464350         1.0000000        0.0000000  \n",
       "0        0.0113708         0.3660787        0.0028518  \n",
       "12       0.0113708         0.3660787        0.0028518  \n",
       "11       0.0113708         0.3660787        0.0028518  \n",
       "10       0.0113708         0.3660787        0.0028518  \n",
       "9        0.0113708         0.3660787        0.0028518  \n",
       "8        0.0113708         0.3660787        0.0028518  \n",
       "7        0.0113708         0.3660787        0.0028518  \n",
       "6        0.0113708         0.3660787        0.0028518  \n",
       "5        0.0113708         0.3660787        0.0028518  \n",
       "4        0.0113708         0.3660787        0.0028518  \n",
       "3        0.0113708         0.3660787        0.0028518  \n",
       "2        0.0113708         0.3660787        0.0028518  \n",
       "1        0.0113708         0.3660787        0.0028518  \n",
       "16       0.0113708         0.3817097        0.0213374  \n",
       "17       0.0113708         0.3660787        0.0028518  "
      ]
     },
     "metadata": {},
     "output_type": "display_data"
    }
   ],
   "source": [
    "results2 = results[['rank_test_score', 'params', 'mean_test_score', 'std_test_score', \n",
    "                    'mean_train_score', 'std_train_score']]\n",
    "results2 = results2.sort_values('rank_test_score')\n",
    "display(results2)"
   ]
  },
  {
   "cell_type": "markdown",
   "metadata": {},
   "source": [
    "- heatmap을 사용한 mean_test_score를 각 매개변수별로 시각화"
   ]
  },
  {
   "cell_type": "code",
   "execution_count": 34,
   "metadata": {
    "collapsed": false
   },
   "outputs": [
    {
     "name": "stdout",
     "output_type": "stream",
     "text": [
      "[0.36607142857142855, 0.36607142857142855, 0.36607142857142855, 0.36607142857142855, 0.36607142857142855, 0.36607142857142855, 0.36607142857142855, 0.36607142857142855, 0.36607142857142855, 0.36607142857142855, 0.36607142857142855, 0.36607142857142855, 0.36607142857142855, 0.6964285714285714, 0.9196428571428571, 0.9553571428571429, 0.36607142857142855, 0.36607142857142855, 0.6964285714285714, 0.9285714285714286, 0.9642857142857143, 0.9464285714285714, 0.9196428571428571, 0.5089285714285714, 0.9285714285714286, 0.9642857142857143, 0.9642857142857143, 0.9375, 0.9196428571428571, 0.5625, 0.9642857142857143, 0.9732142857142857, 0.9553571428571429, 0.9464285714285714, 0.9196428571428571, 0.5625]\n",
      "\n",
      "(36,)\n"
     ]
    },
    {
     "data": {
      "text/plain": [
       "<matplotlib.collections.PolyCollection at 0x118b0c710>"
      ]
     },
     "execution_count": 34,
     "metadata": {},
     "output_type": "execute_result"
    },
    {
     "data": {
      "application/pdf": "[encoded data removed]",
      "image/png": "[encoded data removed]",
      "text/plain": [
       "<Figure size 432x288 with 1 Axes>"
      ]
     },
     "metadata": {},
     "output_type": "display_data"
    }
   ],
   "source": [
    "print([x for x in results.mean_test_score])\n",
    "print()\n",
    "\n",
    "print(results.mean_test_score.shape)\n",
    "\n",
    "scores = np.array(results.mean_test_score).reshape(6, 6)\n",
    "\n",
    "# plot the mean cross-validation scores\n",
    "mglearn.tools.heatmap(\n",
    "    scores, \n",
    "    xlabel='gamma', \n",
    "    xticklabels=param_grid['gamma'],\n",
    "    ylabel='C', \n",
    "    yticklabels=param_grid['C'], \n",
    "    cmap=\"viridis\"\n",
    ")"
   ]
  },
  {
   "cell_type": "code",
   "execution_count": 35,
   "metadata": {
    "collapsed": false,
    "scrolled": false
   },
   "outputs": [
    {
     "data": {
      "text/plain": [
       "<matplotlib.colorbar.Colorbar at 0x118c7a080>"
      ]
     },
     "execution_count": 35,
     "metadata": {},
     "output_type": "execute_result"
    },
    {
     "data": {
      "application/pdf": "[encoded data removed]",
      "image/png": "[encoded data removed]",
      "text/plain": [
       "<Figure size 1440x360 with 4 Axes>"
      ]
     },
     "metadata": {},
     "output_type": "display_data"
    }
   ],
   "source": [
    "fig, axes = plt.subplots(1, 3, figsize=(20, 5))\n",
    "\n",
    "param_grid_linear  = {'C': np.linspace(1, 2, 6),  'gamma':  np.linspace(1, 2, 6)}\n",
    "param_grid_one_log = {'C': np.linspace(1, 2, 6),  'gamma':  np.logspace(-3, 2, 6)}\n",
    "param_grid_range   = {'C': np.logspace(-3, 2, 6), 'gamma':  np.logspace(-7, -2, 6)}\n",
    "\n",
    "for param_grid, ax in zip([param_grid_linear, param_grid_one_log, param_grid_range], axes):\n",
    "    grid_search = GridSearchCV(SVC(), param_grid, n_jobs=-1, cv=5)\n",
    "    grid_search.fit(X_train, y_train)\n",
    "    scores = grid_search.cv_results_['mean_test_score'].reshape(6, 6)\n",
    "\n",
    "    # plot the mean cross-validation scores\n",
    "    scores_image = mglearn.tools.heatmap(\n",
    "        scores, xlabel='gamma', ylabel='C', xticklabels=param_grid['gamma'],\n",
    "        yticklabels=param_grid['C'], cmap=\"viridis\", ax=ax)\n",
    "\n",
    "plt.colorbar(scores_image, ax=axes.tolist())"
   ]
  },
  {
   "cell_type": "markdown",
   "metadata": {},
   "source": [
    "- 첫번째 그래프\n",
    "  - 매개변수 C와 gamma의 스케일과 범위를 잘못 택하였음을 나타냄\n",
    "  - 처음에는 더 넓은 범위의 C와 gamma 스케일 및 범위를 택하고, 이후 정확도에 따라 매개변수를 바꾸어 선택할 필요있음<br/><br/>\n",
    "\n",
    "- 두번째 그래프\n",
    "  - 세로 띠 형태를 보이므로 gamma 매개변수만 정확도에 영향을 주고 있음을 나타냄\n",
    "  - 두 가지 케이스\n",
    "    - C 매개변수는 전혀 중요한 역할을 못할 수 있음\n",
    "    - C 매개변수의 스케일과 범위를 잘못 선택하였을 수 있음<br/><br/>\n",
    "    \n",
    "- 세번째 그래프\n",
    "  - 그래프 왼쪽 아래에서는 변화가 없음\n",
    "  - 다시 매개변수 스케일과 범위를 선택하는 과정에서 현재 선택한 것 보다 더 높은 gamma 및 C 값을 선택할 필요성 있음"
   ]
  },
  {
   "cell_type": "markdown",
   "metadata": {},
   "source": [
    "#### Grid search with asymmetric parameters\n",
    "- SVC\n",
    "  - kernel='rbf' 일 때\n",
    "    - C 매개변수, gamma 매개변수 동시 사용\n",
    "  - kernel='linear' 일 때\n",
    "    - C 매개변수만 사용\n",
    "    - gamma 매개변수는 사용하지 않음"
   ]
  },
  {
   "cell_type": "code",
   "execution_count": 36,
   "metadata": {
    "collapsed": false
   },
   "outputs": [
    {
     "name": "stdout",
     "output_type": "stream",
     "text": [
      "List of grids:\n",
      "[{'kernel': ['rbf'], 'C': [0.001, 0.01, 0.1, 1, 10, 100], 'gamma': [0.001, 0.01, 0.1, 1, 10, 100]}, {'kernel': ['linear'], 'C': [0.001, 0.01, 0.1, 1, 10, 100]}]\n"
     ]
    }
   ],
   "source": [
    "param_grid = [{'kernel': ['rbf'],\n",
    "               'C': [0.001, 0.01, 0.1, 1, 10, 100],\n",
    "               'gamma': [0.001, 0.01, 0.1, 1, 10, 100]},\n",
    "              {'kernel': ['linear'],\n",
    "               'C': [0.001, 0.01, 0.1, 1, 10, 100]}]\n",
    "print(\"List of grids:\\n{}\".format(param_grid))"
   ]
  },
  {
   "cell_type": "code",
   "execution_count": 37,
   "metadata": {
    "collapsed": false
   },
   "outputs": [
    {
     "name": "stdout",
     "output_type": "stream",
     "text": [
      "Best parameters: {'C': 100, 'gamma': 0.01, 'kernel': 'rbf'}\n",
      "Best cross-validation score: 0.97\n"
     ]
    }
   ],
   "source": [
    "grid_search = GridSearchCV(SVC(), param_grid, n_jobs=-1, cv=5, return_train_score=True)\n",
    "\n",
    "grid_search.fit(X_train, y_train)\n",
    "\n",
    "print(\"Best parameters: {}\".format(grid_search.best_params_))\n",
    "print(\"Best cross-validation score: {:.2f}\".format(grid_search.best_score_))"
   ]
  },
  {
   "cell_type": "code",
   "execution_count": 38,
   "metadata": {
    "collapsed": false
   },
   "outputs": [
    {
     "data": {
      "text/html": [
       "<div>\n",
       "<style scoped>\n",
       "    .dataframe tbody tr th:only-of-type {\n",
       "        vertical-align: middle;\n",
       "    }\n",
       "\n",
       "    .dataframe tbody tr th {\n",
       "        vertical-align: top;\n",
       "    }\n",
       "\n",
       "    .dataframe thead th {\n",
       "        text-align: right;\n",
       "    }\n",
       "</style>\n",
       "<table border=\"1\" class=\"dataframe\">\n",
       "  <thead>\n",
       "    <tr style=\"text-align: right;\">\n",
       "      <th></th>\n",
       "      <th>rank_test_score</th>\n",
       "      <th>params</th>\n",
       "      <th>mean_test_score</th>\n",
       "      <th>std_test_score</th>\n",
       "      <th>mean_train_score</th>\n",
       "      <th>std_train_score</th>\n",
       "    </tr>\n",
       "  </thead>\n",
       "  <tbody>\n",
       "    <tr>\n",
       "      <th>39</th>\n",
       "      <td>1</td>\n",
       "      <td>{'C': 1, 'kernel': 'linear'}</td>\n",
       "      <td>0.9732143</td>\n",
       "      <td>0.0223995</td>\n",
       "      <td>0.9843684</td>\n",
       "      <td>0.0054851</td>\n",
       "    </tr>\n",
       "    <tr>\n",
       "      <th>31</th>\n",
       "      <td>1</td>\n",
       "      <td>{'C': 100, 'gamma': 0.01, 'kernel': 'rbf'}</td>\n",
       "      <td>0.9732143</td>\n",
       "      <td>0.0223995</td>\n",
       "      <td>0.9843684</td>\n",
       "      <td>0.0054851</td>\n",
       "    </tr>\n",
       "    <tr>\n",
       "      <th>20</th>\n",
       "      <td>3</td>\n",
       "      <td>{'C': 1, 'gamma': 0.1, 'kernel': 'rbf'}</td>\n",
       "      <td>0.9642857</td>\n",
       "      <td>0.0340769</td>\n",
       "      <td>0.9776501</td>\n",
       "      <td>0.0100842</td>\n",
       "    </tr>\n",
       "    <tr>\n",
       "      <th>30</th>\n",
       "      <td>3</td>\n",
       "      <td>{'C': 100, 'gamma': 0.001, 'kernel': 'rbf'}</td>\n",
       "      <td>0.9642857</td>\n",
       "      <td>0.0340769</td>\n",
       "      <td>0.9776757</td>\n",
       "      <td>0.0070319</td>\n",
       "    </tr>\n",
       "    <tr>\n",
       "      <th>26</th>\n",
       "      <td>3</td>\n",
       "      <td>{'C': 10, 'gamma': 0.1, 'kernel': 'rbf'}</td>\n",
       "      <td>0.9642857</td>\n",
       "      <td>0.0177687</td>\n",
       "      <td>0.9865662</td>\n",
       "      <td>0.0083555</td>\n",
       "    </tr>\n",
       "    <tr>\n",
       "      <th>25</th>\n",
       "      <td>3</td>\n",
       "      <td>{'C': 10, 'gamma': 0.01, 'kernel': 'rbf'}</td>\n",
       "      <td>0.9642857</td>\n",
       "      <td>0.0340769</td>\n",
       "      <td>0.9776757</td>\n",
       "      <td>0.0070319</td>\n",
       "    </tr>\n",
       "    <tr>\n",
       "      <th>40</th>\n",
       "      <td>3</td>\n",
       "      <td>{'C': 10, 'kernel': 'linear'}</td>\n",
       "      <td>0.9642857</td>\n",
       "      <td>0.0338387</td>\n",
       "      <td>0.9888134</td>\n",
       "      <td>0.0070280</td>\n",
       "    </tr>\n",
       "    <tr>\n",
       "      <th>41</th>\n",
       "      <td>3</td>\n",
       "      <td>{'C': 100, 'kernel': 'linear'}</td>\n",
       "      <td>0.9642857</td>\n",
       "      <td>0.0338387</td>\n",
       "      <td>0.9932579</td>\n",
       "      <td>0.0055055</td>\n",
       "    </tr>\n",
       "    <tr>\n",
       "      <th>32</th>\n",
       "      <td>9</td>\n",
       "      <td>{'C': 100, 'gamma': 0.1, 'kernel': 'rbf'}</td>\n",
       "      <td>0.9553571</td>\n",
       "      <td>0.0495662</td>\n",
       "      <td>0.9887884</td>\n",
       "      <td>0.0099945</td>\n",
       "    </tr>\n",
       "    <tr>\n",
       "      <th>15</th>\n",
       "      <td>9</td>\n",
       "      <td>{'C': 0.1, 'gamma': 1, 'kernel': 'rbf'}</td>\n",
       "      <td>0.9553571</td>\n",
       "      <td>0.0401043</td>\n",
       "      <td>0.9598457</td>\n",
       "      <td>0.0113043</td>\n",
       "    </tr>\n",
       "    <tr>\n",
       "      <th>38</th>\n",
       "      <td>11</td>\n",
       "      <td>{'C': 0.1, 'kernel': 'linear'}</td>\n",
       "      <td>0.9464286</td>\n",
       "      <td>0.0332185</td>\n",
       "      <td>0.9665385</td>\n",
       "      <td>0.0121316</td>\n",
       "    </tr>\n",
       "    <tr>\n",
       "      <th>21</th>\n",
       "      <td>11</td>\n",
       "      <td>{'C': 1, 'gamma': 1, 'kernel': 'rbf'}</td>\n",
       "      <td>0.9464286</td>\n",
       "      <td>0.0324799</td>\n",
       "      <td>0.9843928</td>\n",
       "      <td>0.0088664</td>\n",
       "    </tr>\n",
       "    <tr>\n",
       "      <th>33</th>\n",
       "      <td>11</td>\n",
       "      <td>{'C': 100, 'gamma': 1, 'kernel': 'rbf'}</td>\n",
       "      <td>0.9464286</td>\n",
       "      <td>0.0519227</td>\n",
       "      <td>1.0000000</td>\n",
       "      <td>0.0000000</td>\n",
       "    </tr>\n",
       "    <tr>\n",
       "      <th>27</th>\n",
       "      <td>14</td>\n",
       "      <td>{'C': 10, 'gamma': 1, 'kernel': 'rbf'}</td>\n",
       "      <td>0.9375000</td>\n",
       "      <td>0.0452528</td>\n",
       "      <td>0.9865906</td>\n",
       "      <td>0.0083624</td>\n",
       "    </tr>\n",
       "    <tr>\n",
       "      <th>24</th>\n",
       "      <td>15</td>\n",
       "      <td>{'C': 10, 'gamma': 0.001, 'kernel': 'rbf'}</td>\n",
       "      <td>0.9285714</td>\n",
       "      <td>0.0429827</td>\n",
       "      <td>0.9353247</td>\n",
       "      <td>0.0078884</td>\n",
       "    </tr>\n",
       "    <tr>\n",
       "      <th>19</th>\n",
       "      <td>15</td>\n",
       "      <td>{'C': 1, 'gamma': 0.01, 'kernel': 'rbf'}</td>\n",
       "      <td>0.9285714</td>\n",
       "      <td>0.0429827</td>\n",
       "      <td>0.9353247</td>\n",
       "      <td>0.0078884</td>\n",
       "    </tr>\n",
       "    <tr>\n",
       "      <th>22</th>\n",
       "      <td>17</td>\n",
       "      <td>{'C': 1, 'gamma': 10, 'kernel': 'rbf'}</td>\n",
       "      <td>0.9196429</td>\n",
       "      <td>0.0647906</td>\n",
       "      <td>1.0000000</td>\n",
       "      <td>0.0000000</td>\n",
       "    </tr>\n",
       "    <tr>\n",
       "      <th>14</th>\n",
       "      <td>17</td>\n",
       "      <td>{'C': 0.1, 'gamma': 0.1, 'kernel': 'rbf'}</td>\n",
       "      <td>0.9196429</td>\n",
       "      <td>0.0440102</td>\n",
       "      <td>0.9197442</td>\n",
       "      <td>0.0212659</td>\n",
       "    </tr>\n",
       "    <tr>\n",
       "      <th>34</th>\n",
       "      <td>17</td>\n",
       "      <td>{'C': 100, 'gamma': 10, 'kernel': 'rbf'}</td>\n",
       "      <td>0.9196429</td>\n",
       "      <td>0.0647906</td>\n",
       "      <td>1.0000000</td>\n",
       "      <td>0.0000000</td>\n",
       "    </tr>\n",
       "    <tr>\n",
       "      <th>28</th>\n",
       "      <td>17</td>\n",
       "      <td>{'C': 10, 'gamma': 10, 'kernel': 'rbf'}</td>\n",
       "      <td>0.9196429</td>\n",
       "      <td>0.0647906</td>\n",
       "      <td>1.0000000</td>\n",
       "      <td>0.0000000</td>\n",
       "    </tr>\n",
       "    <tr>\n",
       "      <th>37</th>\n",
       "      <td>21</td>\n",
       "      <td>{'C': 0.01, 'kernel': 'linear'}</td>\n",
       "      <td>0.8482143</td>\n",
       "      <td>0.0547783</td>\n",
       "      <td>0.8550694</td>\n",
       "      <td>0.0503114</td>\n",
       "    </tr>\n",
       "    <tr>\n",
       "      <th>18</th>\n",
       "      <td>22</td>\n",
       "      <td>{'C': 1, 'gamma': 0.001, 'kernel': 'rbf'}</td>\n",
       "      <td>0.6964286</td>\n",
       "      <td>0.0131963</td>\n",
       "      <td>0.6964237</td>\n",
       "      <td>0.0032580</td>\n",
       "    </tr>\n",
       "    <tr>\n",
       "      <th>13</th>\n",
       "      <td>22</td>\n",
       "      <td>{'C': 0.1, 'gamma': 0.01, 'kernel': 'rbf'}</td>\n",
       "      <td>0.6964286</td>\n",
       "      <td>0.0131963</td>\n",
       "      <td>0.6964237</td>\n",
       "      <td>0.0032580</td>\n",
       "    </tr>\n",
       "    <tr>\n",
       "      <th>35</th>\n",
       "      <td>24</td>\n",
       "      <td>{'C': 100, 'gamma': 100, 'kernel': 'rbf'}</td>\n",
       "      <td>0.5625000</td>\n",
       "      <td>0.0496678</td>\n",
       "      <td>1.0000000</td>\n",
       "      <td>0.0000000</td>\n",
       "    </tr>\n",
       "    <tr>\n",
       "      <th>29</th>\n",
       "      <td>24</td>\n",
       "      <td>{'C': 10, 'gamma': 100, 'kernel': 'rbf'}</td>\n",
       "      <td>0.5625000</td>\n",
       "      <td>0.0496678</td>\n",
       "      <td>1.0000000</td>\n",
       "      <td>0.0000000</td>\n",
       "    </tr>\n",
       "    <tr>\n",
       "      <th>23</th>\n",
       "      <td>26</td>\n",
       "      <td>{'C': 1, 'gamma': 100, 'kernel': 'rbf'}</td>\n",
       "      <td>0.5089286</td>\n",
       "      <td>0.0464350</td>\n",
       "      <td>1.0000000</td>\n",
       "      <td>0.0000000</td>\n",
       "    </tr>\n",
       "    <tr>\n",
       "      <th>36</th>\n",
       "      <td>27</td>\n",
       "      <td>{'C': 0.001, 'kernel': 'linear'}</td>\n",
       "      <td>0.3660714</td>\n",
       "      <td>0.0113708</td>\n",
       "      <td>0.3660787</td>\n",
       "      <td>0.0028518</td>\n",
       "    </tr>\n",
       "    <tr>\n",
       "      <th>2</th>\n",
       "      <td>27</td>\n",
       "      <td>{'C': 0.001, 'gamma': 0.1, 'kernel': 'rbf'}</td>\n",
       "      <td>0.3660714</td>\n",
       "      <td>0.0113708</td>\n",
       "      <td>0.3660787</td>\n",
       "      <td>0.0028518</td>\n",
       "    </tr>\n",
       "    <tr>\n",
       "      <th>3</th>\n",
       "      <td>27</td>\n",
       "      <td>{'C': 0.001, 'gamma': 1, 'kernel': 'rbf'}</td>\n",
       "      <td>0.3660714</td>\n",
       "      <td>0.0113708</td>\n",
       "      <td>0.3660787</td>\n",
       "      <td>0.0028518</td>\n",
       "    </tr>\n",
       "    <tr>\n",
       "      <th>1</th>\n",
       "      <td>27</td>\n",
       "      <td>{'C': 0.001, 'gamma': 0.01, 'kernel': 'rbf'}</td>\n",
       "      <td>0.3660714</td>\n",
       "      <td>0.0113708</td>\n",
       "      <td>0.3660787</td>\n",
       "      <td>0.0028518</td>\n",
       "    </tr>\n",
       "    <tr>\n",
       "      <th>8</th>\n",
       "      <td>27</td>\n",
       "      <td>{'C': 0.01, 'gamma': 0.1, 'kernel': 'rbf'}</td>\n",
       "      <td>0.3660714</td>\n",
       "      <td>0.0113708</td>\n",
       "      <td>0.3660787</td>\n",
       "      <td>0.0028518</td>\n",
       "    </tr>\n",
       "    <tr>\n",
       "      <th>5</th>\n",
       "      <td>27</td>\n",
       "      <td>{'C': 0.001, 'gamma': 100, 'kernel': 'rbf'}</td>\n",
       "      <td>0.3660714</td>\n",
       "      <td>0.0113708</td>\n",
       "      <td>0.3660787</td>\n",
       "      <td>0.0028518</td>\n",
       "    </tr>\n",
       "    <tr>\n",
       "      <th>7</th>\n",
       "      <td>27</td>\n",
       "      <td>{'C': 0.01, 'gamma': 0.01, 'kernel': 'rbf'}</td>\n",
       "      <td>0.3660714</td>\n",
       "      <td>0.0113708</td>\n",
       "      <td>0.3660787</td>\n",
       "      <td>0.0028518</td>\n",
       "    </tr>\n",
       "    <tr>\n",
       "      <th>6</th>\n",
       "      <td>27</td>\n",
       "      <td>{'C': 0.01, 'gamma': 0.001, 'kernel': 'rbf'}</td>\n",
       "      <td>0.3660714</td>\n",
       "      <td>0.0113708</td>\n",
       "      <td>0.3660787</td>\n",
       "      <td>0.0028518</td>\n",
       "    </tr>\n",
       "    <tr>\n",
       "      <th>17</th>\n",
       "      <td>27</td>\n",
       "      <td>{'C': 0.1, 'gamma': 100, 'kernel': 'rbf'}</td>\n",
       "      <td>0.3660714</td>\n",
       "      <td>0.0113708</td>\n",
       "      <td>0.3660787</td>\n",
       "      <td>0.0028518</td>\n",
       "    </tr>\n",
       "    <tr>\n",
       "      <th>16</th>\n",
       "      <td>27</td>\n",
       "      <td>{'C': 0.1, 'gamma': 10, 'kernel': 'rbf'}</td>\n",
       "      <td>0.3660714</td>\n",
       "      <td>0.0113708</td>\n",
       "      <td>0.3817097</td>\n",
       "      <td>0.0213374</td>\n",
       "    </tr>\n",
       "    <tr>\n",
       "      <th>12</th>\n",
       "      <td>27</td>\n",
       "      <td>{'C': 0.1, 'gamma': 0.001, 'kernel': 'rbf'}</td>\n",
       "      <td>0.3660714</td>\n",
       "      <td>0.0113708</td>\n",
       "      <td>0.3660787</td>\n",
       "      <td>0.0028518</td>\n",
       "    </tr>\n",
       "    <tr>\n",
       "      <th>11</th>\n",
       "      <td>27</td>\n",
       "      <td>{'C': 0.01, 'gamma': 100, 'kernel': 'rbf'}</td>\n",
       "      <td>0.3660714</td>\n",
       "      <td>0.0113708</td>\n",
       "      <td>0.3660787</td>\n",
       "      <td>0.0028518</td>\n",
       "    </tr>\n",
       "    <tr>\n",
       "      <th>10</th>\n",
       "      <td>27</td>\n",
       "      <td>{'C': 0.01, 'gamma': 10, 'kernel': 'rbf'}</td>\n",
       "      <td>0.3660714</td>\n",
       "      <td>0.0113708</td>\n",
       "      <td>0.3660787</td>\n",
       "      <td>0.0028518</td>\n",
       "    </tr>\n",
       "    <tr>\n",
       "      <th>9</th>\n",
       "      <td>27</td>\n",
       "      <td>{'C': 0.01, 'gamma': 1, 'kernel': 'rbf'}</td>\n",
       "      <td>0.3660714</td>\n",
       "      <td>0.0113708</td>\n",
       "      <td>0.3660787</td>\n",
       "      <td>0.0028518</td>\n",
       "    </tr>\n",
       "    <tr>\n",
       "      <th>4</th>\n",
       "      <td>27</td>\n",
       "      <td>{'C': 0.001, 'gamma': 10, 'kernel': 'rbf'}</td>\n",
       "      <td>0.3660714</td>\n",
       "      <td>0.0113708</td>\n",
       "      <td>0.3660787</td>\n",
       "      <td>0.0028518</td>\n",
       "    </tr>\n",
       "    <tr>\n",
       "      <th>0</th>\n",
       "      <td>27</td>\n",
       "      <td>{'C': 0.001, 'gamma': 0.001, 'kernel': 'rbf'}</td>\n",
       "      <td>0.3660714</td>\n",
       "      <td>0.0113708</td>\n",
       "      <td>0.3660787</td>\n",
       "      <td>0.0028518</td>\n",
       "    </tr>\n",
       "  </tbody>\n",
       "</table>\n",
       "</div>"
      ],
      "text/plain": [
       "    rank_test_score                                         params  \\\n",
       "39                1                   {'C': 1, 'kernel': 'linear'}   \n",
       "31                1     {'C': 100, 'gamma': 0.01, 'kernel': 'rbf'}   \n",
       "20                3        {'C': 1, 'gamma': 0.1, 'kernel': 'rbf'}   \n",
       "30                3    {'C': 100, 'gamma': 0.001, 'kernel': 'rbf'}   \n",
       "26                3       {'C': 10, 'gamma': 0.1, 'kernel': 'rbf'}   \n",
       "25                3      {'C': 10, 'gamma': 0.01, 'kernel': 'rbf'}   \n",
       "40                3                  {'C': 10, 'kernel': 'linear'}   \n",
       "41                3                 {'C': 100, 'kernel': 'linear'}   \n",
       "32                9      {'C': 100, 'gamma': 0.1, 'kernel': 'rbf'}   \n",
       "15                9        {'C': 0.1, 'gamma': 1, 'kernel': 'rbf'}   \n",
       "38               11                 {'C': 0.1, 'kernel': 'linear'}   \n",
       "21               11          {'C': 1, 'gamma': 1, 'kernel': 'rbf'}   \n",
       "33               11        {'C': 100, 'gamma': 1, 'kernel': 'rbf'}   \n",
       "27               14         {'C': 10, 'gamma': 1, 'kernel': 'rbf'}   \n",
       "24               15     {'C': 10, 'gamma': 0.001, 'kernel': 'rbf'}   \n",
       "19               15       {'C': 1, 'gamma': 0.01, 'kernel': 'rbf'}   \n",
       "22               17         {'C': 1, 'gamma': 10, 'kernel': 'rbf'}   \n",
       "14               17      {'C': 0.1, 'gamma': 0.1, 'kernel': 'rbf'}   \n",
       "34               17       {'C': 100, 'gamma': 10, 'kernel': 'rbf'}   \n",
       "28               17        {'C': 10, 'gamma': 10, 'kernel': 'rbf'}   \n",
       "37               21                {'C': 0.01, 'kernel': 'linear'}   \n",
       "18               22      {'C': 1, 'gamma': 0.001, 'kernel': 'rbf'}   \n",
       "13               22     {'C': 0.1, 'gamma': 0.01, 'kernel': 'rbf'}   \n",
       "35               24      {'C': 100, 'gamma': 100, 'kernel': 'rbf'}   \n",
       "29               24       {'C': 10, 'gamma': 100, 'kernel': 'rbf'}   \n",
       "23               26        {'C': 1, 'gamma': 100, 'kernel': 'rbf'}   \n",
       "36               27               {'C': 0.001, 'kernel': 'linear'}   \n",
       "2                27    {'C': 0.001, 'gamma': 0.1, 'kernel': 'rbf'}   \n",
       "3                27      {'C': 0.001, 'gamma': 1, 'kernel': 'rbf'}   \n",
       "1                27   {'C': 0.001, 'gamma': 0.01, 'kernel': 'rbf'}   \n",
       "8                27     {'C': 0.01, 'gamma': 0.1, 'kernel': 'rbf'}   \n",
       "5                27    {'C': 0.001, 'gamma': 100, 'kernel': 'rbf'}   \n",
       "7                27    {'C': 0.01, 'gamma': 0.01, 'kernel': 'rbf'}   \n",
       "6                27   {'C': 0.01, 'gamma': 0.001, 'kernel': 'rbf'}   \n",
       "17               27      {'C': 0.1, 'gamma': 100, 'kernel': 'rbf'}   \n",
       "16               27       {'C': 0.1, 'gamma': 10, 'kernel': 'rbf'}   \n",
       "12               27    {'C': 0.1, 'gamma': 0.001, 'kernel': 'rbf'}   \n",
       "11               27     {'C': 0.01, 'gamma': 100, 'kernel': 'rbf'}   \n",
       "10               27      {'C': 0.01, 'gamma': 10, 'kernel': 'rbf'}   \n",
       "9                27       {'C': 0.01, 'gamma': 1, 'kernel': 'rbf'}   \n",
       "4                27     {'C': 0.001, 'gamma': 10, 'kernel': 'rbf'}   \n",
       "0                27  {'C': 0.001, 'gamma': 0.001, 'kernel': 'rbf'}   \n",
       "\n",
       "    mean_test_score  std_test_score  mean_train_score  std_train_score  \n",
       "39        0.9732143       0.0223995         0.9843684        0.0054851  \n",
       "31        0.9732143       0.0223995         0.9843684        0.0054851  \n",
       "20        0.9642857       0.0340769         0.9776501        0.0100842  \n",
       "30        0.9642857       0.0340769         0.9776757        0.0070319  \n",
       "26        0.9642857       0.0177687         0.9865662        0.0083555  \n",
       "25        0.9642857       0.0340769         0.9776757        0.0070319  \n",
       "40        0.9642857       0.0338387         0.9888134        0.0070280  \n",
       "41        0.9642857       0.0338387         0.9932579        0.0055055  \n",
       "32        0.9553571       0.0495662         0.9887884        0.0099945  \n",
       "15        0.9553571       0.0401043         0.9598457        0.0113043  \n",
       "38        0.9464286       0.0332185         0.9665385        0.0121316  \n",
       "21        0.9464286       0.0324799         0.9843928        0.0088664  \n",
       "33        0.9464286       0.0519227         1.0000000        0.0000000  \n",
       "27        0.9375000       0.0452528         0.9865906        0.0083624  \n",
       "24        0.9285714       0.0429827         0.9353247        0.0078884  \n",
       "19        0.9285714       0.0429827         0.9353247        0.0078884  \n",
       "22        0.9196429       0.0647906         1.0000000        0.0000000  \n",
       "14        0.9196429       0.0440102         0.9197442        0.0212659  \n",
       "34        0.9196429       0.0647906         1.0000000        0.0000000  \n",
       "28        0.9196429       0.0647906         1.0000000        0.0000000  \n",
       "37        0.8482143       0.0547783         0.8550694        0.0503114  \n",
       "18        0.6964286       0.0131963         0.6964237        0.0032580  \n",
       "13        0.6964286       0.0131963         0.6964237        0.0032580  \n",
       "35        0.5625000       0.0496678         1.0000000        0.0000000  \n",
       "29        0.5625000       0.0496678         1.0000000        0.0000000  \n",
       "23        0.5089286       0.0464350         1.0000000        0.0000000  \n",
       "36        0.3660714       0.0113708         0.3660787        0.0028518  \n",
       "2         0.3660714       0.0113708         0.3660787        0.0028518  \n",
       "3         0.3660714       0.0113708         0.3660787        0.0028518  \n",
       "1         0.3660714       0.0113708         0.3660787        0.0028518  \n",
       "8         0.3660714       0.0113708         0.3660787        0.0028518  \n",
       "5         0.3660714       0.0113708         0.3660787        0.0028518  \n",
       "7         0.3660714       0.0113708         0.3660787        0.0028518  \n",
       "6         0.3660714       0.0113708         0.3660787        0.0028518  \n",
       "17        0.3660714       0.0113708         0.3660787        0.0028518  \n",
       "16        0.3660714       0.0113708         0.3817097        0.0213374  \n",
       "12        0.3660714       0.0113708         0.3660787        0.0028518  \n",
       "11        0.3660714       0.0113708         0.3660787        0.0028518  \n",
       "10        0.3660714       0.0113708         0.3660787        0.0028518  \n",
       "9         0.3660714       0.0113708         0.3660787        0.0028518  \n",
       "4         0.3660714       0.0113708         0.3660787        0.0028518  \n",
       "0         0.3660714       0.0113708         0.3660787        0.0028518  "
      ]
     },
     "metadata": {},
     "output_type": "display_data"
    }
   ],
   "source": [
    "results = pd.DataFrame(grid_search.cv_results_)\n",
    "\n",
    "results2 = results[['rank_test_score', 'params', 'mean_test_score', 'std_test_score', \n",
    "                    'mean_train_score', 'std_train_score']]\n",
    "results2 = results2.sort_values('rank_test_score')\n",
    "display(results2)"
   ]
  },
  {
   "cell_type": "markdown",
   "metadata": {},
   "source": [
    "#### Using different cross-validation strategies with grid-search\n",
    "- GridSearchCV의 인자인 cv에 스스로 정의한 다음과 같은 교차 검증 분할기 제공\n",
    "  - KFold(n_splits=5)   \n",
    "  - StratifiedKFold(n_splits=5)\n",
    "  - ShuffleSplit(n_splits=5)\n",
    "  - StratifiedShuffleSplit(n_splits=5)\n",
    "- n_splits=1을 사용하는 경우\n",
    "  - 훈련 데이터 세트와 검증 데이터 세트로의 분리를 한번 만 수행\n",
    "  - 데이터셋이 매우 크거나 모델 구축 시간이 오래 걸릴 때 사용하는 전략"
   ]
  },
  {
   "cell_type": "code",
   "execution_count": 39,
   "metadata": {
    "collapsed": false
   },
   "outputs": [
    {
     "name": "stdout",
     "output_type": "stream",
     "text": [
      "Best parameters: {'C': 1, 'kernel': 'linear'}\n",
      "Best cross-validation score: 0.94\n"
     ]
    }
   ],
   "source": [
    "from sklearn.model_selection import StratifiedShuffleSplit\n",
    "\n",
    "shuffle_split = StratifiedShuffleSplit(test_size=.8, n_splits=1)\n",
    "grid_search = GridSearchCV(SVC(), param_grid, cv=shuffle_split, return_train_score=True)\n",
    "\n",
    "grid_search.fit(X_train, y_train)\n",
    "\n",
    "print(\"Best parameters: {}\".format(grid_search.best_params_))\n",
    "print(\"Best cross-validation score: {:.2f}\".format(grid_search.best_score_))"
   ]
  },
  {
   "cell_type": "code",
   "execution_count": 40,
   "metadata": {
    "collapsed": false
   },
   "outputs": [
    {
     "data": {
      "text/html": [
       "<div>\n",
       "<style scoped>\n",
       "    .dataframe tbody tr th:only-of-type {\n",
       "        vertical-align: middle;\n",
       "    }\n",
       "\n",
       "    .dataframe tbody tr th {\n",
       "        vertical-align: top;\n",
       "    }\n",
       "\n",
       "    .dataframe thead th {\n",
       "        text-align: right;\n",
       "    }\n",
       "</style>\n",
       "<table border=\"1\" class=\"dataframe\">\n",
       "  <thead>\n",
       "    <tr style=\"text-align: right;\">\n",
       "      <th></th>\n",
       "      <th>rank_test_score</th>\n",
       "      <th>params</th>\n",
       "      <th>mean_test_score</th>\n",
       "      <th>std_test_score</th>\n",
       "      <th>mean_train_score</th>\n",
       "      <th>std_train_score</th>\n",
       "    </tr>\n",
       "  </thead>\n",
       "  <tbody>\n",
       "    <tr>\n",
       "      <th>39</th>\n",
       "      <td>1</td>\n",
       "      <td>{'C': 1, 'kernel': 'linear'}</td>\n",
       "      <td>0.9444444</td>\n",
       "      <td>0.0000000</td>\n",
       "      <td>1.0000000</td>\n",
       "      <td>0.0000000</td>\n",
       "    </tr>\n",
       "    <tr>\n",
       "      <th>20</th>\n",
       "      <td>2</td>\n",
       "      <td>{'C': 1, 'gamma': 0.1, 'kernel': 'rbf'}</td>\n",
       "      <td>0.9222222</td>\n",
       "      <td>0.0000000</td>\n",
       "      <td>1.0000000</td>\n",
       "      <td>0.0000000</td>\n",
       "    </tr>\n",
       "    <tr>\n",
       "      <th>38</th>\n",
       "      <td>2</td>\n",
       "      <td>{'C': 0.1, 'kernel': 'linear'}</td>\n",
       "      <td>0.9222222</td>\n",
       "      <td>0.0000000</td>\n",
       "      <td>1.0000000</td>\n",
       "      <td>0.0000000</td>\n",
       "    </tr>\n",
       "    <tr>\n",
       "      <th>30</th>\n",
       "      <td>2</td>\n",
       "      <td>{'C': 100, 'gamma': 0.001, 'kernel': 'rbf'}</td>\n",
       "      <td>0.9222222</td>\n",
       "      <td>0.0000000</td>\n",
       "      <td>1.0000000</td>\n",
       "      <td>0.0000000</td>\n",
       "    </tr>\n",
       "    <tr>\n",
       "      <th>25</th>\n",
       "      <td>2</td>\n",
       "      <td>{'C': 10, 'gamma': 0.01, 'kernel': 'rbf'}</td>\n",
       "      <td>0.9222222</td>\n",
       "      <td>0.0000000</td>\n",
       "      <td>1.0000000</td>\n",
       "      <td>0.0000000</td>\n",
       "    </tr>\n",
       "    <tr>\n",
       "      <th>21</th>\n",
       "      <td>2</td>\n",
       "      <td>{'C': 1, 'gamma': 1, 'kernel': 'rbf'}</td>\n",
       "      <td>0.9222222</td>\n",
       "      <td>0.0000000</td>\n",
       "      <td>1.0000000</td>\n",
       "      <td>0.0000000</td>\n",
       "    </tr>\n",
       "    <tr>\n",
       "      <th>33</th>\n",
       "      <td>7</td>\n",
       "      <td>{'C': 100, 'gamma': 1, 'kernel': 'rbf'}</td>\n",
       "      <td>0.9111111</td>\n",
       "      <td>0.0000000</td>\n",
       "      <td>1.0000000</td>\n",
       "      <td>0.0000000</td>\n",
       "    </tr>\n",
       "    <tr>\n",
       "      <th>27</th>\n",
       "      <td>7</td>\n",
       "      <td>{'C': 10, 'gamma': 1, 'kernel': 'rbf'}</td>\n",
       "      <td>0.9111111</td>\n",
       "      <td>0.0000000</td>\n",
       "      <td>1.0000000</td>\n",
       "      <td>0.0000000</td>\n",
       "    </tr>\n",
       "    <tr>\n",
       "      <th>32</th>\n",
       "      <td>9</td>\n",
       "      <td>{'C': 100, 'gamma': 0.1, 'kernel': 'rbf'}</td>\n",
       "      <td>0.8888889</td>\n",
       "      <td>0.0000000</td>\n",
       "      <td>1.0000000</td>\n",
       "      <td>0.0000000</td>\n",
       "    </tr>\n",
       "    <tr>\n",
       "      <th>31</th>\n",
       "      <td>9</td>\n",
       "      <td>{'C': 100, 'gamma': 0.01, 'kernel': 'rbf'}</td>\n",
       "      <td>0.8888889</td>\n",
       "      <td>0.0000000</td>\n",
       "      <td>1.0000000</td>\n",
       "      <td>0.0000000</td>\n",
       "    </tr>\n",
       "    <tr>\n",
       "      <th>26</th>\n",
       "      <td>9</td>\n",
       "      <td>{'C': 10, 'gamma': 0.1, 'kernel': 'rbf'}</td>\n",
       "      <td>0.8888889</td>\n",
       "      <td>0.0000000</td>\n",
       "      <td>1.0000000</td>\n",
       "      <td>0.0000000</td>\n",
       "    </tr>\n",
       "    <tr>\n",
       "      <th>40</th>\n",
       "      <td>9</td>\n",
       "      <td>{'C': 10, 'kernel': 'linear'}</td>\n",
       "      <td>0.8888889</td>\n",
       "      <td>0.0000000</td>\n",
       "      <td>1.0000000</td>\n",
       "      <td>0.0000000</td>\n",
       "    </tr>\n",
       "    <tr>\n",
       "      <th>41</th>\n",
       "      <td>9</td>\n",
       "      <td>{'C': 100, 'kernel': 'linear'}</td>\n",
       "      <td>0.8888889</td>\n",
       "      <td>0.0000000</td>\n",
       "      <td>1.0000000</td>\n",
       "      <td>0.0000000</td>\n",
       "    </tr>\n",
       "    <tr>\n",
       "      <th>24</th>\n",
       "      <td>14</td>\n",
       "      <td>{'C': 10, 'gamma': 0.001, 'kernel': 'rbf'}</td>\n",
       "      <td>0.8222222</td>\n",
       "      <td>0.0000000</td>\n",
       "      <td>0.9545455</td>\n",
       "      <td>0.0000000</td>\n",
       "    </tr>\n",
       "    <tr>\n",
       "      <th>19</th>\n",
       "      <td>15</td>\n",
       "      <td>{'C': 1, 'gamma': 0.01, 'kernel': 'rbf'}</td>\n",
       "      <td>0.8000000</td>\n",
       "      <td>0.0000000</td>\n",
       "      <td>0.9545455</td>\n",
       "      <td>0.0000000</td>\n",
       "    </tr>\n",
       "    <tr>\n",
       "      <th>34</th>\n",
       "      <td>16</td>\n",
       "      <td>{'C': 100, 'gamma': 10, 'kernel': 'rbf'}</td>\n",
       "      <td>0.7888889</td>\n",
       "      <td>0.0000000</td>\n",
       "      <td>1.0000000</td>\n",
       "      <td>0.0000000</td>\n",
       "    </tr>\n",
       "    <tr>\n",
       "      <th>28</th>\n",
       "      <td>16</td>\n",
       "      <td>{'C': 10, 'gamma': 10, 'kernel': 'rbf'}</td>\n",
       "      <td>0.7888889</td>\n",
       "      <td>0.0000000</td>\n",
       "      <td>1.0000000</td>\n",
       "      <td>0.0000000</td>\n",
       "    </tr>\n",
       "    <tr>\n",
       "      <th>22</th>\n",
       "      <td>18</td>\n",
       "      <td>{'C': 1, 'gamma': 10, 'kernel': 'rbf'}</td>\n",
       "      <td>0.7777778</td>\n",
       "      <td>0.0000000</td>\n",
       "      <td>1.0000000</td>\n",
       "      <td>0.0000000</td>\n",
       "    </tr>\n",
       "    <tr>\n",
       "      <th>14</th>\n",
       "      <td>19</td>\n",
       "      <td>{'C': 0.1, 'gamma': 0.1, 'kernel': 'rbf'}</td>\n",
       "      <td>0.7000000</td>\n",
       "      <td>0.0000000</td>\n",
       "      <td>0.6818182</td>\n",
       "      <td>0.0000000</td>\n",
       "    </tr>\n",
       "    <tr>\n",
       "      <th>37</th>\n",
       "      <td>19</td>\n",
       "      <td>{'C': 0.01, 'kernel': 'linear'}</td>\n",
       "      <td>0.7000000</td>\n",
       "      <td>0.0000000</td>\n",
       "      <td>0.6818182</td>\n",
       "      <td>0.0000000</td>\n",
       "    </tr>\n",
       "    <tr>\n",
       "      <th>23</th>\n",
       "      <td>21</td>\n",
       "      <td>{'C': 1, 'gamma': 100, 'kernel': 'rbf'}</td>\n",
       "      <td>0.4222222</td>\n",
       "      <td>0.0000000</td>\n",
       "      <td>1.0000000</td>\n",
       "      <td>0.0000000</td>\n",
       "    </tr>\n",
       "    <tr>\n",
       "      <th>29</th>\n",
       "      <td>21</td>\n",
       "      <td>{'C': 10, 'gamma': 100, 'kernel': 'rbf'}</td>\n",
       "      <td>0.4222222</td>\n",
       "      <td>0.0000000</td>\n",
       "      <td>1.0000000</td>\n",
       "      <td>0.0000000</td>\n",
       "    </tr>\n",
       "    <tr>\n",
       "      <th>35</th>\n",
       "      <td>21</td>\n",
       "      <td>{'C': 100, 'gamma': 100, 'kernel': 'rbf'}</td>\n",
       "      <td>0.4222222</td>\n",
       "      <td>0.0000000</td>\n",
       "      <td>1.0000000</td>\n",
       "      <td>0.0000000</td>\n",
       "    </tr>\n",
       "    <tr>\n",
       "      <th>36</th>\n",
       "      <td>24</td>\n",
       "      <td>{'C': 0.001, 'kernel': 'linear'}</td>\n",
       "      <td>0.3666667</td>\n",
       "      <td>0.0000000</td>\n",
       "      <td>0.3636364</td>\n",
       "      <td>0.0000000</td>\n",
       "    </tr>\n",
       "    <tr>\n",
       "      <th>2</th>\n",
       "      <td>24</td>\n",
       "      <td>{'C': 0.001, 'gamma': 0.1, 'kernel': 'rbf'}</td>\n",
       "      <td>0.3666667</td>\n",
       "      <td>0.0000000</td>\n",
       "      <td>0.3636364</td>\n",
       "      <td>0.0000000</td>\n",
       "    </tr>\n",
       "    <tr>\n",
       "      <th>1</th>\n",
       "      <td>24</td>\n",
       "      <td>{'C': 0.001, 'gamma': 0.01, 'kernel': 'rbf'}</td>\n",
       "      <td>0.3666667</td>\n",
       "      <td>0.0000000</td>\n",
       "      <td>0.3636364</td>\n",
       "      <td>0.0000000</td>\n",
       "    </tr>\n",
       "    <tr>\n",
       "      <th>3</th>\n",
       "      <td>24</td>\n",
       "      <td>{'C': 0.001, 'gamma': 1, 'kernel': 'rbf'}</td>\n",
       "      <td>0.3666667</td>\n",
       "      <td>0.0000000</td>\n",
       "      <td>0.3636364</td>\n",
       "      <td>0.0000000</td>\n",
       "    </tr>\n",
       "    <tr>\n",
       "      <th>4</th>\n",
       "      <td>24</td>\n",
       "      <td>{'C': 0.001, 'gamma': 10, 'kernel': 'rbf'}</td>\n",
       "      <td>0.3666667</td>\n",
       "      <td>0.0000000</td>\n",
       "      <td>0.3636364</td>\n",
       "      <td>0.0000000</td>\n",
       "    </tr>\n",
       "    <tr>\n",
       "      <th>5</th>\n",
       "      <td>24</td>\n",
       "      <td>{'C': 0.001, 'gamma': 100, 'kernel': 'rbf'}</td>\n",
       "      <td>0.3666667</td>\n",
       "      <td>0.0000000</td>\n",
       "      <td>0.3636364</td>\n",
       "      <td>0.0000000</td>\n",
       "    </tr>\n",
       "    <tr>\n",
       "      <th>13</th>\n",
       "      <td>24</td>\n",
       "      <td>{'C': 0.1, 'gamma': 0.01, 'kernel': 'rbf'}</td>\n",
       "      <td>0.3666667</td>\n",
       "      <td>0.0000000</td>\n",
       "      <td>0.3636364</td>\n",
       "      <td>0.0000000</td>\n",
       "    </tr>\n",
       "    <tr>\n",
       "      <th>7</th>\n",
       "      <td>24</td>\n",
       "      <td>{'C': 0.01, 'gamma': 0.01, 'kernel': 'rbf'}</td>\n",
       "      <td>0.3666667</td>\n",
       "      <td>0.0000000</td>\n",
       "      <td>0.3636364</td>\n",
       "      <td>0.0000000</td>\n",
       "    </tr>\n",
       "    <tr>\n",
       "      <th>12</th>\n",
       "      <td>24</td>\n",
       "      <td>{'C': 0.1, 'gamma': 0.001, 'kernel': 'rbf'}</td>\n",
       "      <td>0.3666667</td>\n",
       "      <td>0.0000000</td>\n",
       "      <td>0.3636364</td>\n",
       "      <td>0.0000000</td>\n",
       "    </tr>\n",
       "    <tr>\n",
       "      <th>8</th>\n",
       "      <td>24</td>\n",
       "      <td>{'C': 0.01, 'gamma': 0.1, 'kernel': 'rbf'}</td>\n",
       "      <td>0.3666667</td>\n",
       "      <td>0.0000000</td>\n",
       "      <td>0.3636364</td>\n",
       "      <td>0.0000000</td>\n",
       "    </tr>\n",
       "    <tr>\n",
       "      <th>9</th>\n",
       "      <td>24</td>\n",
       "      <td>{'C': 0.01, 'gamma': 1, 'kernel': 'rbf'}</td>\n",
       "      <td>0.3666667</td>\n",
       "      <td>0.0000000</td>\n",
       "      <td>0.3636364</td>\n",
       "      <td>0.0000000</td>\n",
       "    </tr>\n",
       "    <tr>\n",
       "      <th>10</th>\n",
       "      <td>24</td>\n",
       "      <td>{'C': 0.01, 'gamma': 10, 'kernel': 'rbf'}</td>\n",
       "      <td>0.3666667</td>\n",
       "      <td>0.0000000</td>\n",
       "      <td>0.3636364</td>\n",
       "      <td>0.0000000</td>\n",
       "    </tr>\n",
       "    <tr>\n",
       "      <th>11</th>\n",
       "      <td>24</td>\n",
       "      <td>{'C': 0.01, 'gamma': 100, 'kernel': 'rbf'}</td>\n",
       "      <td>0.3666667</td>\n",
       "      <td>0.0000000</td>\n",
       "      <td>0.3636364</td>\n",
       "      <td>0.0000000</td>\n",
       "    </tr>\n",
       "    <tr>\n",
       "      <th>18</th>\n",
       "      <td>24</td>\n",
       "      <td>{'C': 1, 'gamma': 0.001, 'kernel': 'rbf'}</td>\n",
       "      <td>0.3666667</td>\n",
       "      <td>0.0000000</td>\n",
       "      <td>0.3636364</td>\n",
       "      <td>0.0000000</td>\n",
       "    </tr>\n",
       "    <tr>\n",
       "      <th>17</th>\n",
       "      <td>24</td>\n",
       "      <td>{'C': 0.1, 'gamma': 100, 'kernel': 'rbf'}</td>\n",
       "      <td>0.3666667</td>\n",
       "      <td>0.0000000</td>\n",
       "      <td>0.3636364</td>\n",
       "      <td>0.0000000</td>\n",
       "    </tr>\n",
       "    <tr>\n",
       "      <th>16</th>\n",
       "      <td>24</td>\n",
       "      <td>{'C': 0.1, 'gamma': 10, 'kernel': 'rbf'}</td>\n",
       "      <td>0.3666667</td>\n",
       "      <td>0.0000000</td>\n",
       "      <td>0.3636364</td>\n",
       "      <td>0.0000000</td>\n",
       "    </tr>\n",
       "    <tr>\n",
       "      <th>15</th>\n",
       "      <td>24</td>\n",
       "      <td>{'C': 0.1, 'gamma': 1, 'kernel': 'rbf'}</td>\n",
       "      <td>0.3666667</td>\n",
       "      <td>0.0000000</td>\n",
       "      <td>0.3636364</td>\n",
       "      <td>0.0000000</td>\n",
       "    </tr>\n",
       "    <tr>\n",
       "      <th>6</th>\n",
       "      <td>24</td>\n",
       "      <td>{'C': 0.01, 'gamma': 0.001, 'kernel': 'rbf'}</td>\n",
       "      <td>0.3666667</td>\n",
       "      <td>0.0000000</td>\n",
       "      <td>0.3636364</td>\n",
       "      <td>0.0000000</td>\n",
       "    </tr>\n",
       "    <tr>\n",
       "      <th>0</th>\n",
       "      <td>24</td>\n",
       "      <td>{'C': 0.001, 'gamma': 0.001, 'kernel': 'rbf'}</td>\n",
       "      <td>0.3666667</td>\n",
       "      <td>0.0000000</td>\n",
       "      <td>0.3636364</td>\n",
       "      <td>0.0000000</td>\n",
       "    </tr>\n",
       "  </tbody>\n",
       "</table>\n",
       "</div>"
      ],
      "text/plain": [
       "    rank_test_score                                         params  \\\n",
       "39                1                   {'C': 1, 'kernel': 'linear'}   \n",
       "20                2        {'C': 1, 'gamma': 0.1, 'kernel': 'rbf'}   \n",
       "38                2                 {'C': 0.1, 'kernel': 'linear'}   \n",
       "30                2    {'C': 100, 'gamma': 0.001, 'kernel': 'rbf'}   \n",
       "25                2      {'C': 10, 'gamma': 0.01, 'kernel': 'rbf'}   \n",
       "21                2          {'C': 1, 'gamma': 1, 'kernel': 'rbf'}   \n",
       "33                7        {'C': 100, 'gamma': 1, 'kernel': 'rbf'}   \n",
       "27                7         {'C': 10, 'gamma': 1, 'kernel': 'rbf'}   \n",
       "32                9      {'C': 100, 'gamma': 0.1, 'kernel': 'rbf'}   \n",
       "31                9     {'C': 100, 'gamma': 0.01, 'kernel': 'rbf'}   \n",
       "26                9       {'C': 10, 'gamma': 0.1, 'kernel': 'rbf'}   \n",
       "40                9                  {'C': 10, 'kernel': 'linear'}   \n",
       "41                9                 {'C': 100, 'kernel': 'linear'}   \n",
       "24               14     {'C': 10, 'gamma': 0.001, 'kernel': 'rbf'}   \n",
       "19               15       {'C': 1, 'gamma': 0.01, 'kernel': 'rbf'}   \n",
       "34               16       {'C': 100, 'gamma': 10, 'kernel': 'rbf'}   \n",
       "28               16        {'C': 10, 'gamma': 10, 'kernel': 'rbf'}   \n",
       "22               18         {'C': 1, 'gamma': 10, 'kernel': 'rbf'}   \n",
       "14               19      {'C': 0.1, 'gamma': 0.1, 'kernel': 'rbf'}   \n",
       "37               19                {'C': 0.01, 'kernel': 'linear'}   \n",
       "23               21        {'C': 1, 'gamma': 100, 'kernel': 'rbf'}   \n",
       "29               21       {'C': 10, 'gamma': 100, 'kernel': 'rbf'}   \n",
       "35               21      {'C': 100, 'gamma': 100, 'kernel': 'rbf'}   \n",
       "36               24               {'C': 0.001, 'kernel': 'linear'}   \n",
       "2                24    {'C': 0.001, 'gamma': 0.1, 'kernel': 'rbf'}   \n",
       "1                24   {'C': 0.001, 'gamma': 0.01, 'kernel': 'rbf'}   \n",
       "3                24      {'C': 0.001, 'gamma': 1, 'kernel': 'rbf'}   \n",
       "4                24     {'C': 0.001, 'gamma': 10, 'kernel': 'rbf'}   \n",
       "5                24    {'C': 0.001, 'gamma': 100, 'kernel': 'rbf'}   \n",
       "13               24     {'C': 0.1, 'gamma': 0.01, 'kernel': 'rbf'}   \n",
       "7                24    {'C': 0.01, 'gamma': 0.01, 'kernel': 'rbf'}   \n",
       "12               24    {'C': 0.1, 'gamma': 0.001, 'kernel': 'rbf'}   \n",
       "8                24     {'C': 0.01, 'gamma': 0.1, 'kernel': 'rbf'}   \n",
       "9                24       {'C': 0.01, 'gamma': 1, 'kernel': 'rbf'}   \n",
       "10               24      {'C': 0.01, 'gamma': 10, 'kernel': 'rbf'}   \n",
       "11               24     {'C': 0.01, 'gamma': 100, 'kernel': 'rbf'}   \n",
       "18               24      {'C': 1, 'gamma': 0.001, 'kernel': 'rbf'}   \n",
       "17               24      {'C': 0.1, 'gamma': 100, 'kernel': 'rbf'}   \n",
       "16               24       {'C': 0.1, 'gamma': 10, 'kernel': 'rbf'}   \n",
       "15               24        {'C': 0.1, 'gamma': 1, 'kernel': 'rbf'}   \n",
       "6                24   {'C': 0.01, 'gamma': 0.001, 'kernel': 'rbf'}   \n",
       "0                24  {'C': 0.001, 'gamma': 0.001, 'kernel': 'rbf'}   \n",
       "\n",
       "    mean_test_score  std_test_score  mean_train_score  std_train_score  \n",
       "39        0.9444444       0.0000000         1.0000000        0.0000000  \n",
       "20        0.9222222       0.0000000         1.0000000        0.0000000  \n",
       "38        0.9222222       0.0000000         1.0000000        0.0000000  \n",
       "30        0.9222222       0.0000000         1.0000000        0.0000000  \n",
       "25        0.9222222       0.0000000         1.0000000        0.0000000  \n",
       "21        0.9222222       0.0000000         1.0000000        0.0000000  \n",
       "33        0.9111111       0.0000000         1.0000000        0.0000000  \n",
       "27        0.9111111       0.0000000         1.0000000        0.0000000  \n",
       "32        0.8888889       0.0000000         1.0000000        0.0000000  \n",
       "31        0.8888889       0.0000000         1.0000000        0.0000000  \n",
       "26        0.8888889       0.0000000         1.0000000        0.0000000  \n",
       "40        0.8888889       0.0000000         1.0000000        0.0000000  \n",
       "41        0.8888889       0.0000000         1.0000000        0.0000000  \n",
       "24        0.8222222       0.0000000         0.9545455        0.0000000  \n",
       "19        0.8000000       0.0000000         0.9545455        0.0000000  \n",
       "34        0.7888889       0.0000000         1.0000000        0.0000000  \n",
       "28        0.7888889       0.0000000         1.0000000        0.0000000  \n",
       "22        0.7777778       0.0000000         1.0000000        0.0000000  \n",
       "14        0.7000000       0.0000000         0.6818182        0.0000000  \n",
       "37        0.7000000       0.0000000         0.6818182        0.0000000  \n",
       "23        0.4222222       0.0000000         1.0000000        0.0000000  \n",
       "29        0.4222222       0.0000000         1.0000000        0.0000000  \n",
       "35        0.4222222       0.0000000         1.0000000        0.0000000  \n",
       "36        0.3666667       0.0000000         0.3636364        0.0000000  \n",
       "2         0.3666667       0.0000000         0.3636364        0.0000000  \n",
       "1         0.3666667       0.0000000         0.3636364        0.0000000  \n",
       "3         0.3666667       0.0000000         0.3636364        0.0000000  \n",
       "4         0.3666667       0.0000000         0.3636364        0.0000000  \n",
       "5         0.3666667       0.0000000         0.3636364        0.0000000  \n",
       "13        0.3666667       0.0000000         0.3636364        0.0000000  \n",
       "7         0.3666667       0.0000000         0.3636364        0.0000000  \n",
       "12        0.3666667       0.0000000         0.3636364        0.0000000  \n",
       "8         0.3666667       0.0000000         0.3636364        0.0000000  \n",
       "9         0.3666667       0.0000000         0.3636364        0.0000000  \n",
       "10        0.3666667       0.0000000         0.3636364        0.0000000  \n",
       "11        0.3666667       0.0000000         0.3636364        0.0000000  \n",
       "18        0.3666667       0.0000000         0.3636364        0.0000000  \n",
       "17        0.3666667       0.0000000         0.3636364        0.0000000  \n",
       "16        0.3666667       0.0000000         0.3636364        0.0000000  \n",
       "15        0.3666667       0.0000000         0.3636364        0.0000000  \n",
       "6         0.3666667       0.0000000         0.3636364        0.0000000  \n",
       "0         0.3666667       0.0000000         0.3636364        0.0000000  "
      ]
     },
     "metadata": {},
     "output_type": "display_data"
    }
   ],
   "source": [
    "results = pd.DataFrame(grid_search.cv_results_)\n",
    "\n",
    "results2 = results[['rank_test_score', 'params', 'mean_test_score', 'std_test_score', \n",
    "                    'mean_train_score', 'std_train_score']]\n",
    "results2 = results2.sort_values('rank_test_score')\n",
    "display(results2)"
   ]
  },
  {
   "cell_type": "markdown",
   "metadata": {},
   "source": [
    "#### Nested cross-validation\n",
    "- 지금까지 살펴본 코드들의 단점\n",
    "  - 처음에 원본 데이터들을 훈련 데이터와 테스트 데이터로 **한번만** 나누고 있음.\n",
    "  - 원본 데이터를 훈련 데이터와 테스트 데이터로 나누는 시점도 교차 검증화 시킬 수 있음 --> **중첩 교차 검증**\n",
    "- **중첩 교차 검증**\n",
    "  - outer_scores = []\n",
    "  - 1st Loop: 원본 데이터를 훈련(Training) 데이터와 테스트(Test) 데이터로 분리 및 순회\n",
    "    - best_params = {}\n",
    "    - best_score = -np.inf\n",
    "    - 2nd Loop: 매개변수 그리드를 순회\n",
    "      - 3rd Loop: 훈련 데이터를 다시 훈련(Training) 데이터와 검증(Validation) 데이터로 분리\n",
    "      - 3rd Loop의 결과 모델을 평가하여 best_params 및 best_score 조정\n",
    "    - best_params와 함께 모델 구성하여 평가결과를 outer_scores에 저장"
   ]
  },
  {
   "cell_type": "markdown",
   "metadata": {},
   "source": [
    "![process](./images/nestedkfold.jpg)"
   ]
  },
  {
   "cell_type": "markdown",
   "metadata": {},
   "source": [
    "- 위 중첩 교차 검증과정을 corss_val_score 및 GridSearchCV 조합으로 간단하게 완성"
   ]
  },
  {
   "cell_type": "code",
   "execution_count": 41,
   "metadata": {
    "collapsed": false
   },
   "outputs": [
    {
     "name": "stdout",
     "output_type": "stream",
     "text": [
      "Cross-validation scores:  [0.967 1.    0.967 0.967 1.   ]\n",
      "Mean cross-validation score:  0.9800000000000001\n"
     ]
    }
   ],
   "source": [
    "param_grid = {'C': [0.001, 0.01, 0.1, 1, 10, 100],\n",
    "              'gamma': [0.001, 0.01, 0.1, 1, 10, 100]}\n",
    "\n",
    "grid_search = GridSearchCV(SVC(), param_grid, cv=5)\n",
    "scores = cross_val_score(grid_search, iris.data, iris.target, n_jobs=-1, cv=5)\n",
    "\n",
    "print(\"Cross-validation scores: \", scores)\n",
    "print(\"Mean cross-validation score: \", scores.mean())"
   ]
  },
  {
   "cell_type": "markdown",
   "metadata": {},
   "source": [
    "- 위 코드 설명\n",
    "  - 매개 변수 조합: 6 \\* 6 = 36\n",
    "  - 바깥 루프: 5개 분할\n",
    "  - 안쪽 루프: 5개 분할\n",
    "  - 모델 생성 횟수: 36 \\* 5 \\* 5 = 900"
   ]
  },
  {
   "cell_type": "code",
   "execution_count": 42,
   "metadata": {
    "collapsed": true
   },
   "outputs": [],
   "source": [
    "def nested_cv(X, y, inner_cv, outer_cv, Classifier, parameter_grid):\n",
    "    outer_scores = []\n",
    "    outer_best_params = []\n",
    "    \n",
    "    # for each split of the data in the outer cross-validation\n",
    "    # (split method returns indices of training and test part)\n",
    "    for training_samples, test_samples in outer_cv.split(X, y):\n",
    "        # find best parameter using inner cross-validation\n",
    "        best_parms = {}\n",
    "        best_score = -np.inf\n",
    "\n",
    "        # iterate over parameters\n",
    "        for parameters in parameter_grid:\n",
    "            # accumulate score over inner splits\n",
    "            cv_scores = []\n",
    "\n",
    "            # iterate over inner cross-validation\n",
    "            for inner_train, inner_test in inner_cv.split(X[training_samples], y[training_samples]):\n",
    "                # build classifier given parameters and training data\n",
    "                clf = Classifier(**parameters)\n",
    "                clf.fit(X[inner_train], y[inner_train])\n",
    "                # evaluate on inner test set\n",
    "                score = clf.score(X[inner_test], y[inner_test])\n",
    "                cv_scores.append(score)\n",
    "\n",
    "                # compute mean score over inner folds\n",
    "            mean_score = np.mean(cv_scores)\n",
    "            if mean_score > best_score:\n",
    "                # if better than so far, remember parameters\n",
    "                best_score = mean_score\n",
    "                best_params = parameters\n",
    "\n",
    "        # build classifier on best parameters using outer training set\n",
    "        clf = Classifier(**best_params)\n",
    "        clf.fit(X[training_samples], y[training_samples])\n",
    "\n",
    "        # evaluate\n",
    "        outer_scores.append(clf.score(X[test_samples], y[test_samples]))\n",
    "        outer_best_params.append(best_params)\n",
    "    return np.array(outer_scores), outer_best_params"
   ]
  },
  {
   "cell_type": "code",
   "execution_count": 43,
   "metadata": {
    "collapsed": false,
    "hide_input": false
   },
   "outputs": [
    {
     "name": "stdout",
     "output_type": "stream",
     "text": [
      "Cross-validation scores: [0.967 1.    0.967 0.967 1.   ]\n",
      "Mean cross-validation score:  0.9800000000000001\n",
      "best params: [{'C': 100, 'gamma': 0.01}, {'C': 100, 'gamma': 0.01}, {'C': 100, 'gamma': 0.01}, {'C': 100, 'gamma': 0.01}, {'C': 100, 'gamma': 0.01}]\n"
     ]
    }
   ],
   "source": [
    "from sklearn.model_selection import ParameterGrid, StratifiedKFold\n",
    "\n",
    "scores, params = nested_cv(\n",
    "    iris.data, \n",
    "    iris.target, \n",
    "    StratifiedKFold(5), \n",
    "    StratifiedKFold(5), \n",
    "    SVC,\n",
    "    ParameterGrid(param_grid)\n",
    ")\n",
    "\n",
    "print(\"Cross-validation scores: {}\".format(scores))\n",
    "print(\"Mean cross-validation score: \", scores.mean())\n",
    "print(\"best params: {}\".format(params))"
   ]
  },
  {
   "cell_type": "markdown",
   "metadata": {
    "collapsed": true
   },
   "source": [
    "#### Parallelizing cross-validation and grid search\n",
    "- 다중 CPU 코어 or 다중 GPU 코어 사용\n",
    "- 사용가능한 프레임워크\n",
    "  - ipyparallel\n",
    "    - https://ipyparallel.readthedocs.io\n",
    "  - spark-sklearn\n",
    "    - https://github.com/databricks/spark-sklearn"
   ]
  },
  {
   "cell_type": "markdown",
   "metadata": {},
   "source": [
    "### 5.3. Evaluation Metrics and Scoring\n",
    "- 기존의 Simple한 모델 평가 지표 (score)\n",
    "  - 분류 문제: 정확도 (Accuracy)\n",
    "  - 회귀 문제: $R^2$\n",
    "- 하지만, 어플리케이션에 따라 위의 평가 지표가 적합하지 않을 수 있음. "
   ]
  },
  {
   "cell_type": "markdown",
   "metadata": {},
   "source": [
    "#### 5.3.1 Keep the End Goal in Mind (최종 목표를 기억하라)\n",
    "- 어플리케이션의 고차원 목표인 비지니스 지표를 우선적으로 고려해야 함\n",
    "  - 비지니스 지표 예\n",
    "    - 교통사고율 낮춤\n",
    "    - 입원환자 수 낮춤\n",
    "    - 웹사이트 사용자 유입률 증대\n",
    "    - 소비자 소비률 증대\n",
    "  - 분석 모델 개발 초기 단계에 매개변수를 조정하기 위해 시험 삼아 모델을 실제 운영 시스템에 곧바로 적용하기란 위험부담이 크다.\n",
    "- 비지니스 임팩트 (Business Impact)\n",
    "  - 어떤 머신러닝 어플리케이션에서 특정 알고리즘을 선택하여 나타난 결과\n",
    "- 훈련 모델에 대한 비지니스 임팩트를 정확하게 예상할 수 있는 다양한 평가지표 도입 필요\n",
    "  - 이진 분류의 평가 지표\n",
    "  - 다중 분류의 평가 지표\n",
    "  - 회귀의 평가 지표"
   ]
  },
  {
   "cell_type": "markdown",
   "metadata": {},
   "source": [
    "#### 5.3.2 Metrics for Binary Classification\n",
    "- 두 가지 분류 클래스\n",
    "  - 양성 클래스 (주 관심 클래스) --> Positive Class\n",
    "  - 음성 클래스 --> Negative Class <br/><br/>\n",
    "  \n",
    "- 모델 적용 결과에 대한 분류\n",
    "  - True Positive (참 양성, TP)\n",
    "    - 모델에서 실제 양성 클래스를 정확하게 양성으로 평가한 것들\n",
    "  - False Negative (거짓 음성, FN)\n",
    "    - 모델에서 실제 양성 클래스를 잘못하여 음성으로 평가한 것들    \n",
    "  - True Negative (참 음성, TN)\n",
    "    - 모델에서 실제 음성 클래스를 정확하게 음성으로 평가한 것들          \n",
    "  - False Positive (거짓 양성, FP)\n",
    "    - 모델에서 실제 음성 클래스를 잘못하여 양성으로 평가한 것들 \n",
    "\n",
    "- 참고: https://developers.google.com/machine-learning/crash-course/classification/true-false-positive-negative"
   ]
  },
  {
   "cell_type": "markdown",
   "metadata": {},
   "source": [
    "<img src=\"images/eval.png\" width=\"75%\"/>"
   ]
  },
  {
   "cell_type": "markdown",
   "metadata": {},
   "source": [
    "##### Kinds of errors\n",
    "- 암의 조기 발견 어플리케이션 \n",
    "  - 테스트가 음성(-)이면 건강함을 뜻함\n",
    "    - 음성 클래스(Negative Class)\n",
    "  - 테스트가 양성(+)이면 암 진단이 되었음을 뜻함\n",
    "    - 양성 클래스(Positive Class)\n",
    "  - 잘못된 분류 케이스\n",
    "    - Case 1. 건강한 사람을 양성으로 잘못 분류한 경우\n",
    "      - 이 환자에게 비용 손실과 불편함을 초래함\n",
    "      - 즉, 잘못된 양성 예측\n",
    "      - 분류: ***거짓 양성 (False Positive)***\n",
    "    - Case 2. 암에 걸린 사람을 음성으로 잘못 분류한 경우\n",
    "      - 제대로 된 검사나 치료를 제때에 못하게 하는 치명적인 오류\n",
    "      - 즉, 잘못된 음성 예측\n",
    "      - 분류: ***거짓 음성 (False Negative)***\n",
    "      \n",
    "- 대부분의 경우 ***거짓 음성***이 ***거짓 양성***보다 더 치명적\n",
    "- 거짓 음성 분류와 거짓 양성 분류 중 하나가 다른 것 보다 훨씬 많을 때 이 상황은 매우 중요한 상황으로 인식해야 함."
   ]
  },
  {
   "cell_type": "markdown",
   "metadata": {},
   "source": [
    "##### Imbalanced datasets\n",
    "- 불균형 데이터셋(Imbalanced datasets)\n",
    "  - 예) 인터넷 광고 클릭 데이터에서 원본 데이터 샘플의 99%가 '클릭 아님'이고 1%만이 '클릭'인 데이터셋\n",
    "  - 현실에서 불균형 데이터는 매우 많음\n",
    "  - 위 예에서 머신러닝 모델을 만들지 않고서도 무조건 '클릭 아님'으로 예측하면 그 정확도가 99%가 됨.\n",
    "  \n",
    "- 따라서, '정확도'만으로 모델의 성능을 판별하는 것은 지양해야 함."
   ]
  },
  {
   "cell_type": "markdown",
   "metadata": {},
   "source": [
    "- digits 데이터셋에서 Target 데이터를 숫자 9이면 True, 그렇지 않으면 False로 변환하여 1:9의 불균형 데이터셋 생성"
   ]
  },
  {
   "cell_type": "code",
   "execution_count": 44,
   "metadata": {
    "collapsed": false
   },
   "outputs": [
    {
     "name": "stdout",
     "output_type": "stream",
     "text": [
      "(1347, 64)\n",
      "(1347,)\n",
      "(450, 64)\n",
      "(450,)\n",
      "[False False False False False False False  True False False]\n",
      "\n",
      "47\n",
      "403\n"
     ]
    }
   ],
   "source": [
    "from sklearn.datasets import load_digits\n",
    "\n",
    "digits = load_digits()\n",
    "y = digits.target == 9\n",
    "\n",
    "X_train, X_test, y_train, y_test = train_test_split(digits.data, y, random_state=0)\n",
    "print(X_train.shape)\n",
    "print(y_train.shape)\n",
    "print(X_test.shape)\n",
    "print(y_test.shape)\n",
    "print(y_test[:10])\n",
    "print()\n",
    "print(len(np.where(y_test == True)[0]))\n",
    "print(len(np.where(y_test == False)[0]))"
   ]
  },
  {
   "cell_type": "markdown",
   "metadata": {},
   "source": [
    "- 정답 '9임'의 총 개수: 47 --> ***양성 클래스***\n",
    "- 정답 '9가 아님'의 총 개수: 403 --> ***음성 클래스***"
   ]
  },
  {
   "cell_type": "markdown",
   "metadata": {},
   "source": [
    "- DummyClassifier\n",
    "  - strategy='stratified'\n",
    "    - 기본값\n",
    "    - 레이블 비율에 맞추어서 예측\n",
    "  - strategy='most_frequent'    \n",
    "    - 가장 많은 레이블로 항상 예측\n",
    "\n",
    "- DummyRegressor\n",
    "  - strategy='mean'\n",
    "  - strategy='median'  "
   ]
  },
  {
   "cell_type": "markdown",
   "metadata": {},
   "source": [
    "- 아무런 학습을 하지 않고도 90% 정확도가 나올 수 있음"
   ]
  },
  {
   "cell_type": "code",
   "execution_count": 45,
   "metadata": {
    "collapsed": false
   },
   "outputs": [
    {
     "name": "stdout",
     "output_type": "stream",
     "text": [
      "Unique predicted labels: [False]\n",
      "Test score: 0.90\n"
     ]
    }
   ],
   "source": [
    "from sklearn.dummy import DummyClassifier\n",
    "dummy_majority = DummyClassifier(strategy='most_frequent').fit(X_train, y_train)\n",
    "pred_most_frequent = dummy_majority.predict(X_test)\n",
    "\n",
    "print(\"Unique predicted labels: {}\".format(np.unique(pred_most_frequent)))\n",
    "print(\"Test score: {:.2f}\".format(dummy_majority.score(X_test, y_test)))"
   ]
  },
  {
   "cell_type": "markdown",
   "metadata": {},
   "source": [
    "- 정상적인 학습을 하더라도 92% 정확도가 나옴 --> 위의 결과와 그리 차이가 없음"
   ]
  },
  {
   "cell_type": "code",
   "execution_count": 46,
   "metadata": {
    "collapsed": false
   },
   "outputs": [
    {
     "name": "stdout",
     "output_type": "stream",
     "text": [
      "Test score: 0.92\n"
     ]
    }
   ],
   "source": [
    "from sklearn.tree import DecisionTreeClassifier\n",
    "tree = DecisionTreeClassifier(max_depth=2).fit(X_train, y_train)\n",
    "pred_tree = tree.predict(X_test)\n",
    "print(\"Test score: {:.2f}\".format(tree.score(X_test, y_test)))"
   ]
  },
  {
   "cell_type": "markdown",
   "metadata": {},
   "source": [
    "- 레이블 비율에 맞추어서 예측을 하는 Dummy 모델도 꽤 성능이 좋음."
   ]
  },
  {
   "cell_type": "code",
   "execution_count": 47,
   "metadata": {
    "collapsed": false
   },
   "outputs": [
    {
     "name": "stdout",
     "output_type": "stream",
     "text": [
      "Unique predicted labels: [False  True]\n",
      "dummy score: 0.82\n",
      "logreg score: 0.98\n"
     ]
    }
   ],
   "source": [
    "from sklearn.linear_model import LogisticRegression\n",
    "\n",
    "dummy = DummyClassifier().fit(X_train, y_train)\n",
    "pred_dummy = dummy.predict(X_test)\n",
    "print(\"Unique predicted labels: {}\".format(np.unique(pred_dummy)))\n",
    "print(\"dummy score: {:.2f}\".format(dummy.score(X_test, y_test)))\n",
    "\n",
    "logreg = LogisticRegression(C=0.1).fit(X_train, y_train)\n",
    "pred_logreg = logreg.predict(X_test)\n",
    "print(\"logreg score: {:.2f}\".format(logreg.score(X_test, y_test)))"
   ]
  },
  {
   "cell_type": "markdown",
   "metadata": {},
   "source": [
    "- Dummy 분류기 조차 매우 좋은 예측 정확도를 산출하는 점에 유의\n",
    "  - 현실세계에서 많이 발생할 수 있는 불균형 데이터셋(Imbalanced datasets)과 함께 **오로지 정확도만으로 모델의 성능을 지표화하는 것은 올바른 방법이 아님**"
   ]
  },
  {
   "cell_type": "markdown",
   "metadata": {},
   "source": [
    "##### Confusion matrices\n",
    "- **오차 행렬(Confusion Matrix)**\n",
    "  - 이진 분류 평가 결과를 나타낼 때 가장 널리 사용되는 방식\n",
    "  - 행(Row)\n",
    "    - 정답 클래스\n",
    "  - 열(Colume)\n",
    "    - 예측 클래스"
   ]
  },
  {
   "cell_type": "code",
   "execution_count": 48,
   "metadata": {
    "collapsed": false
   },
   "outputs": [
    {
     "name": "stdout",
     "output_type": "stream",
     "text": [
      "47\n",
      "403\n",
      "Confusion matrix:\n",
      "[[401   2]\n",
      " [  8  39]]\n"
     ]
    }
   ],
   "source": [
    "from sklearn.metrics import confusion_matrix\n",
    "\n",
    "print(len(np.where(y_test == True)[0]))\n",
    "print(len(np.where(y_test == False)[0]))\n",
    "\n",
    "confusion = confusion_matrix(y_test, pred_logreg)\n",
    "print(\"Confusion matrix:\\n{}\".format(confusion))"
   ]
  },
  {
   "cell_type": "markdown",
   "metadata": {},
   "source": [
    "- [***음성*** 정답] - 정답 '9가 아님'의 총 개수: 403\n",
    "  - [***음성*** 예측] - 예측 '9가 아님'의 총 개수: 401 --> ***True Negative (TN)***\n",
    "  - [***양성*** 예측] - 예측 '9임'의 총 개수: 2 --> ***False Positive (FP, 거짓 양성)*** --> 잘못된 양성 분류\n",
    "  \n",
    "- [***양성*** 정답] - 정답 '9임'의 총 개수: 47\n",
    "  - [***음성*** 예측] - 예측 '9가 아님'의 총 개수: 8 --> ***False Negative (FN, 거짓 음성)*** --> 잘못된 음성 분류\n",
    "  - [***양성*** 예측] - 예측 '9임'의 총 개수: 39 --> ***True Positive (TP)***\n",
    "\n"
   ]
  },
  {
   "cell_type": "code",
   "execution_count": 49,
   "metadata": {
    "collapsed": false
   },
   "outputs": [
    {
     "data": {
      "application/pdf": "[encoded data removed]",
      "image/png": "[encoded data removed]",
      "text/plain": [
       "<Figure size 576x576 with 1 Axes>"
      ]
     },
     "metadata": {},
     "output_type": "display_data"
    }
   ],
   "source": [
    "mglearn.plots.plot_confusion_matrix_illustration()"
   ]
  },
  {
   "cell_type": "code",
   "execution_count": 50,
   "metadata": {
    "collapsed": false
   },
   "outputs": [
    {
     "data": {
      "application/pdf": "[encoded data removed]",
      "image/png": "[encoded data removed]",
      "text/plain": [
       "<Figure size 432x288 with 1 Axes>"
      ]
     },
     "metadata": {},
     "output_type": "display_data"
    }
   ],
   "source": [
    "mglearn.plots.plot_binary_confusion_matrix()"
   ]
  },
  {
   "cell_type": "code",
   "execution_count": 51,
   "metadata": {
    "collapsed": false
   },
   "outputs": [
    {
     "name": "stdout",
     "output_type": "stream",
     "text": [
      "Most frequent class:\n",
      "[[403   0]\n",
      " [ 47   0]]\n",
      "\n",
      "Dummy model:\n",
      "[[359  44]\n",
      " [ 42   5]]\n",
      "\n",
      "Decision tree:\n",
      "[[390  13]\n",
      " [ 24  23]]\n",
      "\n",
      "Logistic Regression\n",
      "[[401   2]\n",
      " [  8  39]]\n"
     ]
    }
   ],
   "source": [
    "print(\"Most frequent class:\")\n",
    "print(confusion_matrix(y_test, pred_most_frequent))\n",
    "\n",
    "print(\"\\nDummy model:\")\n",
    "print(confusion_matrix(y_test, pred_dummy))\n",
    "\n",
    "print(\"\\nDecision tree:\")\n",
    "print(confusion_matrix(y_test, pred_tree))\n",
    "\n",
    "print(\"\\nLogistic Regression\")\n",
    "print(confusion_matrix(y_test, pred_logreg))"
   ]
  },
  {
   "cell_type": "markdown",
   "metadata": {},
   "source": [
    "###### Accuracy (정확도)\n",
    "\\begin{equation}\n",
    "\\text{Accuracy} = \\frac{\\text{TP} + \\text{TN}}{\\text{TP} + \\text{TN} + \\text{FP} + \\text{FN}}\n",
    "\\end{equation}\n",
    "\n",
    "- 전체 샘플 수 중에서 정확히 예측한 것(TP 와 TN)의 비율\n",
    "- scikit-learn 에서 score 함수가 반환하는 값"
   ]
  },
  {
   "cell_type": "markdown",
   "metadata": {},
   "source": [
    "##### Precision (정밀도)\n",
    "\\begin{equation}\n",
    "\\text{Precision} = \\frac{\\text{TP}}{\\text{TP} + \\text{FP}}\n",
    "\\end{equation}\n",
    "\n",
    "- 양성(Positive)로 예측한 것(TP와 FP)들 중 진짜 양성인 것(TP)의 비율\n",
    "- **거짓 양성(FP)의 수를 줄이는 것을 목표**로 할 때 사용하는 지표\n",
    "  - 신약의 효과 검증 등 임상 시험에 많이 사용\n",
    "- **거짓 음성(FN)의 수가 늘어나는 것에 대해 정밀도 수치는 영향받지 않음**\n",
    "- 양성 예측도 (PPV)라고도 불리움"
   ]
  },
  {
   "cell_type": "markdown",
   "metadata": {
    "collapsed": true,
    "hide_input": false
   },
   "source": [
    "##### Recall (재현율)\n",
    "\\begin{equation}\n",
    "\\text{Recall} = \\frac{\\text{TP}}{\\text{TP} + \\text{FN}}\n",
    "\\end{equation}\n",
    "\n",
    "- 진짜 양성인 것(FN과 TP)들 중 올바르게 양성으로 예측된 것(TP)의 비율 \n",
    "- **거짓 음성(FN)의 수를 줄이는 것**을 목표로 할 때 사용하는 지표\n",
    "  - 암 진단\n",
    "- **거짓 양성(FP)의 수가 늘어나는 것에 대해 재현율 수치는 영향받지 않음***\n",
    "  - 즉, 건강한 사람이 일부 암 진단을 받더라도 암에 걸린 사람을 빠짐없이 찾는 것이 더 중요\n",
    "- 민감도(Sensitivity), 적중률(Hit Rate), 진짜 양성 비율 (TPR)라고도 불리움"
   ]
  },
  {
   "cell_type": "markdown",
   "metadata": {},
   "source": [
    "##### f-score (f-점수)\n",
    "- $P$: Precision\n",
    "- $R$: Recall\n",
    "\\begin{equation}\n",
    "\\text{F} = \\frac{1}{\\displaystyle \\alpha \\frac{1}{P} + (1-\\alpha) \\frac{1}{R}}\n",
    "\\end{equation}\n",
    "- 정밀도와 재현율은 상충 관계\n",
    "- 모든 샘플을 양성 클래스로만 예측한 경우\n",
    "  - FP와 TP만 존재\n",
    "  - 재현율: 1, 정밀도는 상대적으로 낮아짐\n",
    "- 하나의 샘플만 (올바르게) 양성 클래스로 예측하고 나머지 샘플을 음성 클래스로만 예측한 경우\n",
    "  - TN과 FN만 존재\n",
    "  - 정밀도: 1, 재현율은 상대적으로 낮아짐\n",
    "- f-score\n",
    "  - 정밀도와 재현율의 조화 평균\n",
    "  - 정밀도와 재현울을 동시에 고려한 수치이므로 불균한 이진 분류문제의 정확도(Accuracy)보다 더 나은 지표 \n",
    "  - f1-score\n",
    "    - f-score 공식에서 $\\alpha=0.5$\n",
    "\\begin{equation}\n",
    "\\text{f1-score} = \\frac{1}{\\displaystyle 0.5 \\frac{1}{P} + 0.5 \\frac{1}{R}} = 2 \\cdot \\frac{P \\cdot R}{P + R}\n",
    "\\end{equation}\n",
    "- f-measure (f-측정)이라고도 함"
   ]
  },
  {
   "cell_type": "markdown",
   "metadata": {},
   "source": [
    "#### [Note] 주가 변동 이진 분류 예측\n",
    "- 특성 데이터\n",
    "  - 일봉의 종가 기반\n",
    "  - N개 종목의 과거 M일치의 종가 데이터\n",
    "  - 1개 샘플의 특성 데이터 크기 N * M\n",
    "  - 하루씩 Shift하면서 새로운 샘플 생성\n",
    "- 타겟 데이터\n",
    "  - 특정 종목의 M+1일의 종가 데이터\n",
    "  - 직전 M일자 종가보다 M+1일자 종가가 올랐다면 1, 그렇지 않으면 0\n",
    "- 두 가지 분류 클래스\n",
    "  - 1: 양성 (Positive) 클래스\n",
    "  - 0: 음성 (Negative) 클래스 \n",
    "- 성능 평가 측정\n",
    "  - Accuracy는 당연히 높아야 함.\n",
    "  - Precision과 Recall은 상충관계이므로 둘 중 하나를 택하여 더 집중적으로 높여야 한다면 어떤것을 높여야 하나?\n",
    "    - Precision 관점\n",
    "      - 거짓 양성(FP)을 줄이는 것을 목적\n",
    "      - 즉, 주가가 올라간다고 예측을 했는 데, 실제로는 하락을 한 경우를 줄이고자 함.\n",
    "      - **재화의 상실**\n",
    "    - Recall 관점\n",
    "      - 거짓 음성(FN)을 줄이는 것을 목적\n",
    "      - 즉, 주가가 하락한다고 예측을 했는 데, 실제로는 상승을 한 경우를 줄이고자 함.\n",
    "      - **기회의 상실**"
   ]
  },
  {
   "cell_type": "code",
   "execution_count": 52,
   "metadata": {
    "collapsed": false
   },
   "outputs": [
    {
     "name": "stdout",
     "output_type": "stream",
     "text": [
      "f1 score most frequent: 0.00\n",
      "f1 score dummy: 0.10\n",
      "f1 score tree: 0.55\n",
      "f1 score logistic regression: 0.89\n"
     ]
    },
    {
     "name": "stderr",
     "output_type": "stream",
     "text": [
      "/Users/yhhan/anaconda/lib/python3.6/site-packages/sklearn/metrics/classification.py:1113: UndefinedMetricWarning: F-score is ill-defined and being set to 0.0 due to no predicted samples.\n",
      "  'precision', 'predicted', average, warn_for)\n"
     ]
    }
   ],
   "source": [
    "from sklearn.metrics import f1_score\n",
    "print(\"f1 score most frequent: {:.2f}\".format(f1_score(y_test, pred_most_frequent)))\n",
    "print(\"f1 score dummy: {:.2f}\".format(f1_score(y_test, pred_dummy)))\n",
    "print(\"f1 score tree: {:.2f}\".format(f1_score(y_test, pred_tree)))\n",
    "print(\"f1 score logistic regression: {:.2f}\".format(f1_score(y_test, pred_logreg)))"
   ]
  },
  {
   "cell_type": "markdown",
   "metadata": {},
   "source": [
    "- f1 score most frequent 모델의 f1 점수는 TP가 0이므로, 재현율과 정밀도가 모두 0\n",
    "  - 그러므로 f1 점수 공식에서 분모가 0\n",
    "  - 위 Warning 메시지의 원인 \n",
    "- f1-점수로 비교해본 가장 좋은 모델\n",
    "  - Logistic Regression"
   ]
  },
  {
   "cell_type": "markdown",
   "metadata": {},
   "source": [
    "- sklearn.metrics.classification_report\n",
    "  - 각 클래스마다 교대로 양성임을 가정\n",
    "  - 상위 두 개의 출력 라인\n",
    "    - 해당 클래스가 양성일 때 다음 4개의 값을 출력\n",
    "      - 정밀도(precision)\n",
    "      - 재현율(recall)\n",
    "      - f1-점수(f1-score)\n",
    "      - 해당 클래스에 실제로 속한 샘플 개수(support) \n",
    "          - 정답 데이터인 y_test에 대한 각 클래스별 샘플 개수"
   ]
  },
  {
   "cell_type": "code",
   "execution_count": 53,
   "metadata": {
    "collapsed": false
   },
   "outputs": [
    {
     "name": "stdout",
     "output_type": "stream",
     "text": [
      "             precision    recall  f1-score   support\n",
      "\n",
      "   not nine       0.90      1.00      0.94       403\n",
      "       nine       0.00      0.00      0.00        47\n",
      "\n",
      "avg / total       0.80      0.90      0.85       450\n",
      "\n"
     ]
    },
    {
     "name": "stderr",
     "output_type": "stream",
     "text": [
      "/Users/yhhan/anaconda/lib/python3.6/site-packages/sklearn/metrics/classification.py:1113: UndefinedMetricWarning: Precision and F-score are ill-defined and being set to 0.0 in labels with no predicted samples.\n",
      "  'precision', 'predicted', average, warn_for)\n"
     ]
    }
   ],
   "source": [
    "from sklearn.metrics import classification_report\n",
    "print(classification_report(y_test, pred_most_frequent, target_names=[\"not nine\", \"nine\"]))"
   ]
  },
  {
   "cell_type": "code",
   "execution_count": 54,
   "metadata": {
    "collapsed": false
   },
   "outputs": [
    {
     "name": "stdout",
     "output_type": "stream",
     "text": [
      "             precision    recall  f1-score   support\n",
      "\n",
      "   not nine       0.90      0.89      0.89       403\n",
      "       nine       0.10      0.11      0.10        47\n",
      "\n",
      "avg / total       0.81      0.81      0.81       450\n",
      "\n"
     ]
    }
   ],
   "source": [
    "print(classification_report(y_test, pred_dummy, target_names=[\"not nine\", \"nine\"]))"
   ]
  },
  {
   "cell_type": "code",
   "execution_count": 55,
   "metadata": {
    "collapsed": false
   },
   "outputs": [
    {
     "name": "stdout",
     "output_type": "stream",
     "text": [
      "             precision    recall  f1-score   support\n",
      "\n",
      "   not nine       0.98      1.00      0.99       403\n",
      "       nine       0.95      0.83      0.89        47\n",
      "\n",
      "avg / total       0.98      0.98      0.98       450\n",
      "\n"
     ]
    }
   ],
   "source": [
    "print(classification_report(y_test, pred_logreg, target_names=[\"not nine\", \"nine\"]))"
   ]
  },
  {
   "cell_type": "markdown",
   "metadata": {},
   "source": [
    "##### Taking uncertainty into account\n",
    "- 모델 예측의 확신도를 가늠하기 위한 함수\n",
    "  - decicion_function\n",
    "    - 임계값: 0\n",
    "    - decision_fuction의 임계값이 0일 때 클래스 분류  \n",
    "      - decision_function() <= 0 --> 클래스 0 (음성 클래스)로 분류\n",
    "      - decision_function() > 0 --> 클래스 1 (양성 클래스)로 분류\n",
    "  - predict_proba\n",
    "    - 임계값: 0.5"
   ]
  },
  {
   "cell_type": "code",
   "execution_count": 56,
   "metadata": {
    "collapsed": false
   },
   "outputs": [
    {
     "name": "stdout",
     "output_type": "stream",
     "text": [
      "(337, 2)\n",
      "(337,)\n",
      "\n",
      "(113, 2)\n",
      "(113,)\n"
     ]
    }
   ],
   "source": [
    "from mglearn.datasets import make_blobs\n",
    "\n",
    "X, y = make_blobs(\n",
    "    n_samples=(400, 50),  # 음성 클래스: 400개, 양성 클래스: 50개\n",
    "    centers=2, \n",
    "    cluster_std=[7.0, 2], \n",
    "    random_state=22\n",
    ")\n",
    "\n",
    "X_train, X_test, y_train, y_test = train_test_split(X, y, random_state=0)\n",
    "print(X_train.shape)\n",
    "print(y_train.shape)\n",
    "print()\n",
    "print(X_test.shape)\n",
    "print(y_test.shape)\n",
    "\n",
    "svc = SVC(gamma=.05).fit(X_train, y_train)"
   ]
  },
  {
   "cell_type": "code",
   "execution_count": 57,
   "metadata": {
    "collapsed": false
   },
   "outputs": [
    {
     "data": {
      "application/pdf": "[encoded data removed]",
      "image/png": "[encoded data removed]",
      "text/plain": [
       "<Figure size 1080x576 with 6 Axes>"
      ]
     },
     "metadata": {},
     "output_type": "display_data"
    }
   ],
   "source": [
    "mglearn.plots.plot_decision_threshold()"
   ]
  },
  {
   "cell_type": "markdown",
   "metadata": {},
   "source": [
    "- 위 상위 두 개의 그림에서 검은색 동그라미\n",
    "  - decision_fuction의 임계점이 0일 때와 -0.8일 때의 경계 위치\n",
    "  - 이 동그라미 내부는 양성 클래스(decision_function() > 0)로 분류, 바깥쪽은 음성 클래스로 분류"
   ]
  },
  {
   "cell_type": "code",
   "execution_count": 58,
   "metadata": {
    "collapsed": false
   },
   "outputs": [
    {
     "name": "stdout",
     "output_type": "stream",
     "text": [
      "             precision    recall  f1-score   support\n",
      "\n",
      "          0       0.97      0.89      0.93       104\n",
      "          1       0.35      0.67      0.46         9\n",
      "\n",
      "avg / total       0.92      0.88      0.89       113\n",
      "\n"
     ]
    }
   ],
   "source": [
    "print(classification_report(y_test, svc.predict(X_test)))"
   ]
  },
  {
   "cell_type": "markdown",
   "metadata": {},
   "source": [
    "- 양성 클래스 1에 대해 정밀도(0.35)가 매우 낮음, 재현율(0.67)도 낮음.\n",
    "  - 음성 클래스 0에 대한 샘플 수가 많아서 생긴 결과임 --> 데이터 불균형"
   ]
  },
  {
   "cell_type": "markdown",
   "metadata": {},
   "source": [
    "- 이제 클래스 1의 재현율(recall)을 높이는 것이 중요하다고 가정.\n",
    "  - 즉, 거짓 양성(FP)의 수가 늘어나도 중요하지 않음.\n",
    "  - 진짜 양성(TP)을 늘리고 거짓 음성(FN)을 줄이려고 함.\n",
    "  - decision_function의 임계값을 낮추면 클래스 1로 분류되는 경우가 더 많아짐"
   ]
  },
  {
   "cell_type": "code",
   "execution_count": 59,
   "metadata": {
    "collapsed": false
   },
   "outputs": [
    {
     "name": "stdout",
     "output_type": "stream",
     "text": [
      "(113,)\n"
     ]
    }
   ],
   "source": [
    "y_pred_lower_threshold = svc.decision_function(X_test) > -.8\n",
    "print(y_pred_lower_threshold.shape)"
   ]
  },
  {
   "cell_type": "code",
   "execution_count": 60,
   "metadata": {
    "collapsed": false
   },
   "outputs": [
    {
     "name": "stdout",
     "output_type": "stream",
     "text": [
      "             precision    recall  f1-score   support\n",
      "\n",
      "          0       1.00      0.82      0.90       104\n",
      "          1       0.32      1.00      0.49         9\n",
      "\n",
      "avg / total       0.95      0.83      0.87       113\n",
      "\n"
     ]
    }
   ],
   "source": [
    "print(classification_report(y_test, y_pred_lower_threshold))"
   ]
  },
  {
   "cell_type": "markdown",
   "metadata": {},
   "source": [
    "- 클래스 1의 재현율이 1.00 --> 즉, 거짓 음성은 전혀 없음\n",
    "  - 반면에 정밀도는 다소 낮아짐\n",
    "- decision_function 값의 임계점을 고르는 일반적인 방법을 제시하기는 어려움"
   ]
  },
  {
   "cell_type": "markdown",
   "metadata": {},
   "source": [
    "##### Precision-Recall curves (정밀도-재현율 곡선)"
   ]
  },
  {
   "cell_type": "markdown",
   "metadata": {},
   "source": [
    "- 분류 임계값 조정 작업\n",
    "  - 정밀도와 재현율의 상충 관계 조정하는 일과 동일\n",
    "  - 임계값 조정은 비지니스 목표에 의존적\n",
    "    - 비지니스 목표: 어떤 클래스에 대해 목표로 하는 재현율 또는 정밀도 값을 얻어냄\n",
    "    - 예를 들어 양성 클래스에 대하여 **90% 재현율 산출**이 비지니스 목표가 될 수 있음"
   ]
  },
  {
   "cell_type": "markdown",
   "metadata": {},
   "source": [
    "- ***운영 포인트 (Operating Point)*** 지정\n",
    "  - 예: **90% 재현율 산출**\n",
    "  - 분류 모델이 목표로 하는 성능지표를 지정하는 작업\n",
    "  - 비지니스 목표와 연관이 깊음\n",
    "  - 많은 경우 운영 포인트를 정확하게 지정하는 것은 어려움\n",
    "    - 이런 경우 임계값을 폭넓게 변경해 가며 정밀도와 재현율을 산출하며 그 장단점을 살펴보는 작업 필요\n",
    "    - 이를 위해 ***정밀도-재현율 곡선***을 사용\n",
    "    - sklearn.metrics.precision_recall_curve\n",
    "      - 가능한 모든 임계값에 대한 정밀도와 재현율 값을 리스트로 반환"
   ]
  },
  {
   "cell_type": "code",
   "execution_count": 61,
   "metadata": {
    "collapsed": false
   },
   "outputs": [
    {
     "name": "stdout",
     "output_type": "stream",
     "text": [
      "precision: [0.321 0.296 0.308 0.32  0.333 0.348 0.364 0.381 0.4   0.368 0.333 0.353\n",
      " 0.375 0.4   0.429 0.385 0.417 0.455 0.4   0.444 0.5   0.571 0.667 0.6\n",
      " 0.5   0.667 0.5   1.    1.   ]\n",
      "\n",
      "recall: [1.    0.889 0.889 0.889 0.889 0.889 0.889 0.889 0.889 0.778 0.667 0.667\n",
      " 0.667 0.667 0.667 0.556 0.556 0.556 0.444 0.444 0.444 0.444 0.444 0.333\n",
      " 0.222 0.222 0.111 0.111 0.   ]\n",
      "\n",
      "thresholds: [-0.751 -0.587 -0.487 -0.444 -0.404 -0.29  -0.242 -0.193 -0.179 -0.166\n",
      " -0.16   0.086  0.146  0.192  0.37   0.52   0.523  0.532  0.632  0.744\n",
      "  0.872  0.88   0.884  0.978  1.     1.07   1.084  1.251]\n",
      "\n",
      "11\n",
      "0.08620483947417501\n"
     ]
    }
   ],
   "source": [
    "from sklearn.metrics import precision_recall_curve\n",
    "\n",
    "precision, recall, thresholds = precision_recall_curve(y_test, svc.decision_function(X_test))\n",
    "\n",
    "print(\"precision: {}\\n\".format(precision))\n",
    "print(\"recall: {}\\n\".format(recall))\n",
    "print(\"thresholds: {}\\n\".format(thresholds))\n",
    "\n",
    "close_zero = np.argmin(np.abs(thresholds))\n",
    "print(close_zero)\n",
    "print(thresholds[close_zero])"
   ]
  },
  {
   "cell_type": "code",
   "execution_count": 62,
   "metadata": {
    "collapsed": false
   },
   "outputs": [
    {
     "data": {
      "text/plain": [
       "<matplotlib.legend.Legend at 0x118a48be0>"
      ]
     },
     "execution_count": 62,
     "metadata": {},
     "output_type": "execute_result"
    },
    {
     "data": {
      "application/pdf": "[encoded data removed]",
      "image/png": "[encoded data removed]",
      "text/plain": [
       "<Figure size 432x288 with 1 Axes>"
      ]
     },
     "metadata": {},
     "output_type": "display_data"
    }
   ],
   "source": [
    "# create a similar dataset as before, but with more samples\n",
    "# to get a smoother curve\n",
    "X, y = make_blobs(\n",
    "    n_samples=(4000, 500), \n",
    "    centers=2, \n",
    "    cluster_std=[7.0, 2],\n",
    "    random_state=22\n",
    ")\n",
    "\n",
    "X_train, X_test, y_train, y_test = train_test_split(X, y, random_state=0)\n",
    "\n",
    "svc = SVC(gamma=.05).fit(X_train, y_train)\n",
    "\n",
    "precision, recall, thresholds = precision_recall_curve(y_test, svc.decision_function(X_test))\n",
    "\n",
    "# find threshold closest to zero\n",
    "close_zero = np.argmin(np.abs(thresholds))\n",
    "plt.plot(\n",
    "    precision[close_zero],\n",
    "    recall[close_zero],\n",
    "    'o',\n",
    "    markersize=10,\n",
    "    label=\"threshold zero\",\n",
    "    fillstyle=\"none\",\n",
    "    c='k',\n",
    "    mew=2)\n",
    "\n",
    "plt.plot(precision, recall, label=\"precision recall curve\")\n",
    "plt.xlabel(\"Precision\")\n",
    "plt.ylabel(\"Recall\")\n",
    "plt.legend(loc=\"best\")"
   ]
  },
  {
   "cell_type": "markdown",
   "metadata": {},
   "source": [
    "- 위그림의 파란색 곡선은 decision_function의 가능한 모든 임계값에 대응되는 Precision과 Recall 값을 나타냄\n",
    "- 검은색 원은 decision_function의 기본 임계값인 0의 지점을 나타냄\n",
    "  - 이 지점은 predict 메소드를 호출할 때 사용되는 임계 지점 값\n",
    "- 위 정밀도-재현율 곡선은 오른쪽 위로 갈 수록 좋은 분류기\n",
    "  - 오른쪽 위 --> 정밀도와 재현율이 모두 높은 곳\n",
    "- 위 그래프에서 알 수 있는 것\n",
    "  - 0.9 정도의 높은 Recall을 유지하면서도 0.5 정도의 Precision을 얻을 수 있음\n",
    "  - 0.5보다 더 높은 Precision을 얻어내기 위해서는 Recall을 많이 손해 봐야 함"
   ]
  },
  {
   "cell_type": "markdown",
   "metadata": {},
   "source": [
    "- RandomForestClassifier는 decision_function은 제공하지 않고 predict_proba만 제공\n",
    "  - rf.predict_proba(X_test)[:, 1]\n",
    "    - 양성 클래스(클래스 1)의 확신 정도값을 가지고 오는 코드\n",
    "    - 기본 임계값: 0.5"
   ]
  },
  {
   "cell_type": "code",
   "execution_count": 63,
   "metadata": {
    "collapsed": false
   },
   "outputs": [
    {
     "data": {
      "text/plain": [
       "<matplotlib.legend.Legend at 0x1190ccf98>"
      ]
     },
     "execution_count": 63,
     "metadata": {},
     "output_type": "execute_result"
    },
    {
     "data": {
      "application/pdf": "[encoded data removed]",
      "image/png": "[encoded data removed]",
      "text/plain": [
       "<Figure size 432x288 with 1 Axes>"
      ]
     },
     "metadata": {},
     "output_type": "display_data"
    }
   ],
   "source": [
    "from sklearn.ensemble import RandomForestClassifier\n",
    "\n",
    "rf = RandomForestClassifier(n_estimators=100, random_state=0, max_features=2)\n",
    "rf.fit(X_train, y_train)\n",
    "\n",
    "# RandomForestClassifier has predict_proba, but not decision_function\n",
    "precision_rf, recall_rf, thresholds_rf = precision_recall_curve(y_test, rf.predict_proba(X_test)[:, 1])\n",
    "\n",
    "plt.plot(precision, recall, label=\"svc\")\n",
    "\n",
    "plt.plot(\n",
    "    precision[close_zero], \n",
    "    recall[close_zero], \n",
    "    'o', \n",
    "    markersize=10,\n",
    "    label=\"threshold zero svc\", \n",
    "    fillstyle=\"none\", \n",
    "    c='k', \n",
    "    mew=2)\n",
    "\n",
    "plt.plot(precision_rf, recall_rf, label=\"rf\")\n",
    "\n",
    "close_default_rf = np.argmin(np.abs(thresholds_rf - 0.5))\n",
    "\n",
    "plt.plot(\n",
    "    precision_rf[close_default_rf], \n",
    "    recall_rf[close_default_rf], \n",
    "    '^', \n",
    "    markersize=10,\n",
    "    label=\"threshold 0.5 rf\", \n",
    "    fillstyle=\"none\", \n",
    "    c='k',\n",
    "    mew=2)\n",
    "\n",
    "plt.xlabel(\"Precision\")\n",
    "plt.ylabel(\"Recall\")\n",
    "plt.legend(loc=\"best\")"
   ]
  },
  {
   "cell_type": "markdown",
   "metadata": {},
   "source": [
    "- 높은 Precision 또는 높은 Recall을 얻기 위해서는 RandomForestClassifier가 더 좋은 모델\n",
    "- Precision 과 Recall 두 개의 값을 적절히 동시에 높은 값을 얻기 위해서는 SVC가 더 좋은 모델"
   ]
  },
  {
   "cell_type": "markdown",
   "metadata": {},
   "source": [
    "- f1-score만으로는 이런 세세한 부분을 비교할 수 없음\n",
    "  - f1-score는 정밀도-재현율 곡선의 한 지점인 기본 임계값에 대한 점수임"
   ]
  },
  {
   "cell_type": "code",
   "execution_count": 64,
   "metadata": {
    "collapsed": false
   },
   "outputs": [
    {
     "name": "stdout",
     "output_type": "stream",
     "text": [
      "f1_score of random forest: 0.610\n",
      "f1_score of svc: 0.656\n"
     ]
    }
   ],
   "source": [
    "from sklearn.metrics import f1_score\n",
    "\n",
    "print(\"f1_score of random forest: {:.3f}\".format(f1_score(y_test, rf.predict(X_test))))\n",
    "print(\"f1_score of svc: {:.3f}\".format(f1_score(y_test, svc.predict(X_test))))"
   ]
  },
  {
   "cell_type": "markdown",
   "metadata": {},
   "source": [
    "- 어느 모델이 좋은지 보다 정확하게 비교하려면... \n",
    "  - 특정 임계값이나 운영 포인트에 국한하지 않고 전체 곡선에 대한 정보를 요약해야 함\n",
    "- ***Average Precision (평균 정밀도)***\n",
    "  - 정밀도-재현율 곡선의 아랫부분 면적을 계산한 값\n",
    "  - 항상 0(가장 나쁨)에서 1(가장 좋음)사이의 값을 지님\n",
    "  - sklearn.metrics.average_precision_score"
   ]
  },
  {
   "cell_type": "code",
   "execution_count": 65,
   "metadata": {
    "collapsed": false
   },
   "outputs": [
    {
     "name": "stdout",
     "output_type": "stream",
     "text": [
      "Average precision of random forest: 0.666\n",
      "Average precision of svc: 0.663\n"
     ]
    }
   ],
   "source": [
    "from sklearn.metrics import average_precision_score\n",
    "\n",
    "ap_rf = average_precision_score(y_test, rf.predict_proba(X_test)[:, 1])\n",
    "ap_svc = average_precision_score(y_test, svc.decision_function(X_test))\n",
    "\n",
    "print(\"Average precision of random forest: {:.3f}\".format(ap_rf))\n",
    "print(\"Average precision of svc: {:.3f}\".format(ap_svc))"
   ]
  },
  {
   "cell_type": "markdown",
   "metadata": {},
   "source": [
    "- 평균 정밀도 측면에서 RandomForestClassifier와 SVC가 큰 차이 없음"
   ]
  },
  {
   "cell_type": "markdown",
   "metadata": {},
   "source": [
    "##### Receiver Operating Characteristics (ROC) and AUC\n",
    "- 진짜 양성 비율 (TPR): 전체 양성 샘플(TP와 FN)중에서 진짜 양성(TP)로 올바로 분류된 비율 = 재현율\n",
    "\\begin{equation}\n",
    "\\text{TPR} = Recall = \\frac{\\text{TP}}{\\text{TP} + \\text{FN}}\n",
    "\\end{equation}\n",
    "<br/>\n",
    "<br/>\n",
    "- 거짓 양성 비율 (FPR): 전체 음성 샘플(FP와 TN) 중에서 거짓 양성(FP)로 잘못 분류된 비율 \n",
    "\\begin{equation}\n",
    "\\text{FPR} = \\frac{\\text{FP}}{\\text{FP} + \\text{TN}}\n",
    "\\end{equation}\n",
    "<br/>\n",
    "<br/>\n",
    "- TPR과 FPR의 해석\n",
    "  - TPR과 FPR은 서로 반비례적인 관계에 있다. 암환자를 진단할 때, 성급한 의사는 아주 조금의 징후만 보여도 암인 것 같다고 할 것이다. 이 경우 TPR은 1에 가까워질 것이다. 그러나 FPR은 반대로 매우 낮아져버린다. (정상인 사람도 다 암이라고 하니까)\n",
    "\n",
    "  - 반대로 돌팔이 의사라서 암환자를 알아내지 못한다면, 모든 환자에 대해 암이 아니라고 할 것이다. 이 경우 TPR은 매우 낮아져 0에 가까워 질 것이다. 그러나 반대로 FPR은 급격히 높아져 1에 가까워질 것이다.(암환자라는 진단 자체를 안하므로, 암환자라고 잘못 진단 하는 경우가 없음)\n",
    "  - 출처: http://newsight.tistory.com/53 [New Sight]\n",
    "<br/>\n",
    "<br/>\n",
    "\n",
    "- ROC 곡선\n",
    "  - ROC curve is created by plotting the true positive rate (TPR) against the false positive rate (FPR) at various threshold settings.\n",
    "  - '수신기 운영 특성 (Receiver Operating Characteristics)'이라는 이름은 신호 탐지 이론에서 비롯\n",
    "  - 이름 그 자체의 의미는 무시하고 'TPR-FPR 곡선'으로 이해하는 것이 좋음"
   ]
  },
  {
   "cell_type": "code",
   "execution_count": 66,
   "metadata": {
    "collapsed": false
   },
   "outputs": [
    {
     "data": {
      "text/plain": [
       "<matplotlib.legend.Legend at 0x118d57160>"
      ]
     },
     "execution_count": 66,
     "metadata": {},
     "output_type": "execute_result"
    },
    {
     "data": {
      "application/pdf": "[encoded data removed]",
      "image/png": "[encoded data removed]",
      "text/plain": [
       "<Figure size 432x288 with 1 Axes>"
      ]
     },
     "metadata": {},
     "output_type": "display_data"
    }
   ],
   "source": [
    "from sklearn.metrics import roc_curve\n",
    "fpr, tpr, thresholds = roc_curve(y_test, svc.decision_function(X_test))\n",
    "\n",
    "plt.plot(fpr, tpr, label=\"ROC Curve\")\n",
    "plt.xlabel(\"FPR\")\n",
    "plt.ylabel(\"TPR (recall)\")\n",
    "\n",
    "# find threshold closest to zero\n",
    "close_zero = np.argmin(np.abs(thresholds))\n",
    "plt.plot(fpr[close_zero], tpr[close_zero], 'o', markersize=10, label=\"threshold zero\", fillstyle=\"none\", c='k', mew=2)\n",
    "plt.legend(loc=4)"
   ]
  },
  {
   "cell_type": "markdown",
   "metadata": {},
   "source": [
    "- ROC 곡선 해석\n",
    "  - ROC 곡선은 왼쪽 상단에 가까울 수록 이상적임.\n",
    "    - 즉, FPR은 낮게 유지하면서 TPR(재현율)은 높은 뷴류기가 좋음.  \n",
    "  - 위 그림에서 기본 임계값 0에 대한 FPR과 TPR값보다는 FPR을 조금 더 늘려주면(0.1 정도) TPR을 상당히 높일 수 있음(0.9 정도)\n",
    "    - 이러한 FPR=0.1 & TPR=0.9을 산출할 수 있는 임계값이 적절한 **운영 포인트**가 될 수 있음"
   ]
  },
  {
   "cell_type": "code",
   "execution_count": 67,
   "metadata": {
    "collapsed": false
   },
   "outputs": [
    {
     "data": {
      "text/plain": [
       "<matplotlib.legend.Legend at 0x11ce59d30>"
      ]
     },
     "execution_count": 67,
     "metadata": {},
     "output_type": "execute_result"
    },
    {
     "data": {
      "application/pdf": "[encoded data removed]",
      "image/png": "[encoded data removed]",
      "text/plain": [
       "<Figure size 432x288 with 1 Axes>"
      ]
     },
     "metadata": {},
     "output_type": "display_data"
    }
   ],
   "source": [
    "fpr_rf, tpr_rf, thresholds_rf = roc_curve(y_test, rf.predict_proba(X_test)[:, 1])\n",
    "\n",
    "plt.plot(fpr, tpr, label=\"ROC Curve SVC\")\n",
    "plt.plot(fpr_rf, tpr_rf, label=\"ROC Curve RF\")\n",
    "\n",
    "plt.xlabel(\"FPR\")\n",
    "plt.ylabel(\"TPR (recall)\")\n",
    "plt.plot(fpr[close_zero], tpr[close_zero], 'o', markersize=10, label=\"threshold zero SVC\", fillstyle=\"none\", c='k', mew=2)\n",
    "\n",
    "close_default_rf = np.argmin(np.abs(thresholds_rf - 0.5))\n",
    "plt.plot(fpr_rf[close_default_rf], tpr[close_default_rf], '^', markersize=10, label=\"threshold 0.5 RF\", fillstyle=\"none\", c='k', mew=2)\n",
    "\n",
    "plt.legend(loc=4)"
   ]
  },
  {
   "cell_type": "markdown",
   "metadata": {},
   "source": [
    "- 두 개의 ROC 곡선 해석\n",
    "  - RandomForest 모델이 SVC 보다 좀 더 왼쪽 상단으로 ROC 곡선이 위치하는 듯 함\n",
    "  - 어떤 ROC 곡선이 더 좋은지 알아보기 ROC 곡선아래의 면적을 하나의 값으로 요약할 수 있음\n",
    "    - AUC (Area Under the (ROC) Curve)\n",
    "      - 0(최악) ~ 1(최선)\n",
    "    - 수집한 데이터가 불균현한 데이터 집합이라면 정확도보다 AUC가 더 의미있는 지표\n",
    "    - sklearn.metrics.roc_auc_score"
   ]
  },
  {
   "cell_type": "code",
   "execution_count": 68,
   "metadata": {
    "collapsed": false
   },
   "outputs": [
    {
     "name": "stdout",
     "output_type": "stream",
     "text": [
      "AUC for Random Forest: 0.937\n",
      "AUC for SVC: 0.916\n"
     ]
    }
   ],
   "source": [
    "from sklearn.metrics import roc_auc_score\n",
    "\n",
    "rf_auc = roc_auc_score(y_test, rf.predict_proba(X_test)[:, 1])\n",
    "svc_auc = roc_auc_score(y_test, svc.decision_function(X_test))\n",
    "\n",
    "print(\"AUC for Random Forest: {:.3f}\".format(rf_auc))\n",
    "print(\"AUC for SVC: {:.3f}\".format(svc_auc))"
   ]
  },
  {
   "cell_type": "markdown",
   "metadata": {},
   "source": [
    "- AUC 측면에서 RandomForest 모델이 SVC 보다 좀 더 좋다고 볼 수 있음"
   ]
  },
  {
   "cell_type": "code",
   "execution_count": 69,
   "metadata": {
    "collapsed": false
   },
   "outputs": [
    {
     "name": "stdout",
     "output_type": "stream",
     "text": [
      "gamma = 1.00  accuracy = 0.90  AUC = 0.50\n",
      "gamma = 0.05  accuracy = 0.90  AUC = 1.00\n",
      "gamma = 0.01  accuracy = 0.90  AUC = 1.00\n"
     ]
    },
    {
     "data": {
      "text/plain": [
       "<matplotlib.legend.Legend at 0x118966860>"
      ]
     },
     "execution_count": 69,
     "metadata": {},
     "output_type": "execute_result"
    },
    {
     "data": {
      "application/pdf": "[encoded data removed]",
      "image/png": "[encoded data removed]",
      "text/plain": [
       "<Figure size 432x288 with 1 Axes>"
      ]
     },
     "metadata": {},
     "output_type": "display_data"
    }
   ],
   "source": [
    "y = digits.target == 9\n",
    "\n",
    "X_train, X_test, y_train, y_test = train_test_split(digits.data, y, random_state=0)\n",
    "\n",
    "plt.figure()\n",
    "\n",
    "for gamma in [1, 0.05, 0.01]:\n",
    "    svc = SVC(gamma=gamma).fit(X_train, y_train)\n",
    "    \n",
    "    accuracy = svc.score(X_test, y_test)\n",
    "    auc = roc_auc_score(y_test, svc.decision_function(X_test))\n",
    "    fpr, tpr, _ = roc_curve(y_test , svc.decision_function(X_test))\n",
    "\n",
    "    print(\"gamma = {:.2f}  accuracy = {:.2f}  AUC = {:.2f}\".format(gamma, accuracy, auc))\n",
    "    plt.plot(fpr, tpr, label=\"gamma={:.3f}\".format(gamma))\n",
    "    \n",
    "plt.xlabel(\"FPR\")\n",
    "plt.ylabel(\"TPR\")\n",
    "plt.xlim(-0.01, 1)\n",
    "plt.ylim(0, 1.02)\n",
    "plt.legend(loc=\"best\")"
   ]
  },
  {
   "cell_type": "markdown",
   "metadata": {},
   "source": [
    "#### Multi-class classification\n",
    "- 다중클래스 분류문제에서 불균형 데이터에 대해서 Accuracy(정확도) 지표는 좋은 지표가 되지 못함.\n",
    "  - 훈련 샘플 비율\n",
    "    - A 클래스: 85%\n",
    "    - B 클래스: 10%\n",
    "    - C 클래스: 5%\n",
    "  - 실제 새로운 데이터도 위와 같은 비율로 출현한다고 하면 아무런 학습이 안된 모델 (Dummy Model)도 85% 정확도를 산출할 수 있음."
   ]
  },
  {
   "cell_type": "code",
   "execution_count": 70,
   "metadata": {
    "collapsed": false
   },
   "outputs": [
    {
     "name": "stdout",
     "output_type": "stream",
     "text": [
      "Accuracy: 0.953\n",
      "\n",
      "Confusion matrix:\n",
      "[[37  0  0  0  0  0  0  0  0  0]\n",
      " [ 0 39  0  0  0  0  2  0  2  0]\n",
      " [ 0  0 41  3  0  0  0  0  0  0]\n",
      " [ 0  0  1 43  0  0  0  0  0  1]\n",
      " [ 0  0  0  0 38  0  0  0  0  0]\n",
      " [ 0  1  0  0  0 47  0  0  0  0]\n",
      " [ 0  0  0  0  0  0 52  0  0  0]\n",
      " [ 0  1  0  1  1  0  0 45  0  0]\n",
      " [ 0  3  1  0  0  0  0  0 43  1]\n",
      " [ 0  0  0  1  0  1  0  0  1 44]]\n"
     ]
    }
   ],
   "source": [
    "from sklearn.metrics import accuracy_score\n",
    "\n",
    "X_train, X_test, y_train, y_test = train_test_split(digits.data, digits.target, random_state=0)\n",
    "\n",
    "lr = LogisticRegression().fit(X_train, y_train)\n",
    "pred = lr.predict(X_test)\n",
    "\n",
    "print(\"Accuracy: {:.3f}\".format(accuracy_score(y_test, pred)))\n",
    "print()\n",
    "print(\"Confusion matrix:\\n{}\".format(confusion_matrix(y_test, pred)))"
   ]
  },
  {
   "cell_type": "markdown",
   "metadata": {},
   "source": [
    "- 다중 클래스 예측 결과에 대한 confusion matrix \n",
    "  - 행: 정답 레이블\n",
    "  - 열: 예측 레이블\n",
    "- 위 confusion matrix 해석\n",
    "  - 클래스 0에 대해서는 거짓 음성(FN)이 없음\n",
    "    - 첫번째 행(예측 레이블 행)에서 다른 항목들이 모두 0\n",
    "  - 클래스 0에 대해서는 거짓 양성(FP)이 없음\n",
    "    - 첫번째 열(정답 레이블 열)에서 다른 항목들이 모두 0"
   ]
  },
  {
   "cell_type": "code",
   "execution_count": 71,
   "metadata": {
    "collapsed": false,
    "hide_input": false
   },
   "outputs": [
    {
     "data": {
      "application/pdf": "[encoded data removed]",
      "image/png": "[encoded data removed]",
      "text/plain": [
       "<Figure size 432x288 with 1 Axes>"
      ]
     },
     "metadata": {},
     "output_type": "display_data"
    }
   ],
   "source": [
    "scores_image = mglearn.tools.heatmap(\n",
    "    confusion_matrix(y_test, pred), xlabel='Predicted label',\n",
    "    ylabel='True label', xticklabels=digits.target_names,\n",
    "    yticklabels=digits.target_names, cmap=plt.cm.gray_r, fmt=\"%d\")\n",
    "\n",
    "plt.title(\"Confusion matrix\")\n",
    "plt.gca().invert_yaxis()"
   ]
  },
  {
   "cell_type": "code",
   "execution_count": 72,
   "metadata": {
    "collapsed": false
   },
   "outputs": [
    {
     "name": "stdout",
     "output_type": "stream",
     "text": [
      "             precision    recall  f1-score   support\n",
      "\n",
      "          0       1.00      1.00      1.00        37\n",
      "          1       0.89      0.91      0.90        43\n",
      "          2       0.95      0.93      0.94        44\n",
      "          3       0.90      0.96      0.92        45\n",
      "          4       0.97      1.00      0.99        38\n",
      "          5       0.98      0.98      0.98        48\n",
      "          6       0.96      1.00      0.98        52\n",
      "          7       1.00      0.94      0.97        48\n",
      "          8       0.93      0.90      0.91        48\n",
      "          9       0.96      0.94      0.95        47\n",
      "\n",
      "avg / total       0.95      0.95      0.95       450\n",
      "\n"
     ]
    }
   ],
   "source": [
    "print(classification_report(y_test, pred))"
   ]
  },
  {
   "cell_type": "markdown",
   "metadata": {},
   "source": [
    "- 관심있는 클래스를 양성, 그 외의 모든 클래스는 음성으로 두고 precision, recall, f1-score 계산\n",
    "- 클래스 0에 대해서는 오류가 없으므로 precision, recall, f1-score 모두 1.0 \n",
    "- 클래스 7은 거짓 양성(8번째 열)이 없음\n",
    "  - FP가 0\n",
    "    - 클래스 7에 대한 precision = (TP / (TP + FP)) = 1.0\n",
    "- 클래스 7은 거짓 음성(8번재 행)에 3개 있음\n",
    "  - FN이 3\n",
    "    - 클래스 7에 대한 recall = (TP / (TP + FN)) = 45 / 48 = 0.94"
   ]
  },
  {
   "cell_type": "markdown",
   "metadata": {},
   "source": [
    "- [NOTE] 다중 분류에서 불균형 데이터셋을 위해 가장 많이 사용되는 지표는 f1-score\n",
    "- 클래스별로 f1-score를 산출한 이후, 전체 클래스에 대한 평균 f1-score 산출 전략 (다중 클래스일 때 반드시 하나를 제시해야 함)\n",
    "  - macro 평균\n",
    "    - 클래스별 f1-score에 가중치를 고려하지 않음\n",
    "  - weighted 평균 (보통은 이것을 선택)\n",
    "    - 클래스별 테스트 데이터 샘플 수로 가중치를 두어 f1-score 계산 (classification_report에 노출되는 값)\n",
    "  - micro 평균\n",
    "    - 모든 클래스별로 FP, FN, TP의 총 수를 헤아린 다음 산출"
   ]
  },
  {
   "cell_type": "code",
   "execution_count": 73,
   "metadata": {
    "collapsed": false
   },
   "outputs": [
    {
     "name": "stdout",
     "output_type": "stream",
     "text": [
      "Macro average f1 score: 0.954\n",
      "Weighted average f1 score: 0.953\n",
      "Micro average f1 score: 0.953\n"
     ]
    }
   ],
   "source": [
    "print(\"Macro average f1 score: {:.3f}\".format(f1_score(y_test, pred, average=\"macro\")))\n",
    "\n",
    "print(\"Weighted average f1 score: {:.3f}\".format(f1_score(y_test, pred, average=\"weighted\")))\n",
    "\n",
    "print(\"Micro average f1 score: {:.3f}\".format(f1_score(y_test, pred, average=\"micro\")))"
   ]
  },
  {
   "cell_type": "markdown",
   "metadata": {},
   "source": [
    "#### Regression metrics"
   ]
  },
  {
   "cell_type": "markdown",
   "metadata": {},
   "source": [
    "### Using evaluation metrics in model selection"
   ]
  },
  {
   "cell_type": "code",
   "execution_count": 74,
   "metadata": {
    "collapsed": false
   },
   "outputs": [
    {
     "name": "stdout",
     "output_type": "stream",
     "text": [
      "Default scoring: [0.9 0.9 0.9]\n",
      "Explicit accuracy scoring: [0.9 0.9 0.9]\n",
      "AUC scoring: [0.994 0.99  0.996]\n"
     ]
    }
   ],
   "source": [
    "# default scoring for classification is accuracy\n",
    "print(\"Default scoring: {}\".format(\n",
    "    cross_val_score(SVC(), digits.data, digits.target == 9)))\n",
    "# providing scoring=\"accuracy\" doesn't change the results\n",
    "explicit_accuracy =  cross_val_score(SVC(), digits.data, digits.target == 9,\n",
    "                                     scoring=\"accuracy\")\n",
    "print(\"Explicit accuracy scoring: {}\".format(explicit_accuracy))\n",
    "roc_auc =  cross_val_score(SVC(), digits.data, digits.target == 9,\n",
    "                           scoring=\"roc_auc\")\n",
    "print(\"AUC scoring: {}\".format(roc_auc))"
   ]
  },
  {
   "cell_type": "code",
   "execution_count": 75,
   "metadata": {
    "collapsed": false
   },
   "outputs": [
    {
     "name": "stdout",
     "output_type": "stream",
     "text": [
      "Grid-Search with accuracy\n",
      "Best parameters: {'gamma': 0.0001}\n",
      "Best cross-validation score (accuracy)): 0.970\n",
      "Test set AUC: 0.992\n",
      "Test set accuracy: 0.973\n",
      "\n",
      "Grid-Search with AUC\n",
      "Best parameters: {'gamma': 0.01}\n",
      "Best cross-validation score (AUC): 0.997\n",
      "Test set AUC: 1.000\n",
      "Test set accuracy: 1.000\n"
     ]
    }
   ],
   "source": [
    "X_train, X_test, y_train, y_test = train_test_split(\n",
    "    digits.data, digits.target == 9, random_state=0)\n",
    "\n",
    "# we provide a somewhat bad grid to illustrate the point:\n",
    "param_grid = {'gamma': [0.0001, 0.01, 0.1, 1, 10]}\n",
    "# using the default scoring of accuracy:\n",
    "grid = GridSearchCV(SVC(), param_grid=param_grid)\n",
    "grid.fit(X_train, y_train)\n",
    "print(\"Grid-Search with accuracy\")\n",
    "print(\"Best parameters:\", grid.best_params_)\n",
    "print(\"Best cross-validation score (accuracy)): {:.3f}\".format(grid.best_score_))\n",
    "print(\"Test set AUC: {:.3f}\".format(\n",
    "    roc_auc_score(y_test, grid.decision_function(X_test))))\n",
    "print(\"Test set accuracy: {:.3f}\".format(grid.score(X_test, y_test)))\n",
    "\n",
    "# using AUC scoring instead:\n",
    "grid = GridSearchCV(SVC(), param_grid=param_grid, scoring=\"roc_auc\")\n",
    "grid.fit(X_train, y_train)\n",
    "print(\"\\nGrid-Search with AUC\")\n",
    "print(\"Best parameters:\", grid.best_params_)\n",
    "print(\"Best cross-validation score (AUC): {:.3f}\".format(grid.best_score_))\n",
    "print(\"Test set AUC: {:.3f}\".format(\n",
    "    roc_auc_score(y_test, grid.decision_function(X_test))))\n",
    "print(\"Test set accuracy: {:.3f}\".format(grid.score(X_test, y_test)))"
   ]
  },
  {
   "cell_type": "code",
   "execution_count": 76,
   "metadata": {
    "collapsed": false
   },
   "outputs": [
    {
     "name": "stdout",
     "output_type": "stream",
     "text": [
      "Available scorers:\n",
      "['accuracy', 'adjusted_rand_score', 'average_precision', 'f1', 'f1_macro', 'f1_micro', 'f1_samples', 'f1_weighted', 'log_loss', 'mean_absolute_error', 'mean_squared_error', 'median_absolute_error', 'neg_log_loss', 'neg_mean_absolute_error', 'neg_mean_squared_error', 'neg_median_absolute_error', 'precision', 'precision_macro', 'precision_micro', 'precision_samples', 'precision_weighted', 'r2', 'recall', 'recall_macro', 'recall_micro', 'recall_samples', 'recall_weighted', 'roc_auc']\n"
     ]
    }
   ],
   "source": [
    "from sklearn.metrics.scorer import SCORERS\n",
    "print(\"Available scorers:\\n{}\".format(sorted(SCORERS.keys())))"
   ]
  },
  {
   "cell_type": "markdown",
   "metadata": {},
   "source": [
    "### Summary and Outlook"
   ]
  }
 ],
 "metadata": {
  "anaconda-cloud": {},
  "kernelspec": {
   "display_name": "Python 3",
   "language": "python",
   "name": "python3"
  },
  "language_info": {
   "codemirror_mode": {
    "name": "ipython",
    "version": 3
   },
   "file_extension": ".py",
   "mimetype": "text/x-python",
   "name": "python",
   "nbconvert_exporter": "python",
   "pygments_lexer": "ipython3",
   "version": "3.6.0"
  }
 },
 "nbformat": 4,
 "nbformat_minor": 1
}
